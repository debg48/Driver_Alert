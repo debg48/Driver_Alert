{
  "cells": [
    {
      "cell_type": "markdown",
      "metadata": {
        "id": "view-in-github",
        "colab_type": "text"
      },
      "source": [
        "<a href=\"https://colab.research.google.com/github/debg48/Driver_Alert/blob/main/driver_alert.ipynb\" target=\"_parent\"><img src=\"https://colab.research.google.com/assets/colab-badge.svg\" alt=\"Open In Colab\"/></a>"
      ]
    },
    {
      "cell_type": "markdown",
      "metadata": {
        "id": "BGtA860FORGs"
      },
      "source": [
        "# Course Project - Zero to GBMs"
      ]
    },
    {
      "cell_type": "code",
      "execution_count": null,
      "metadata": {
        "id": "Z_4UjfznONrp"
      },
      "outputs": [],
      "source": [
        "# Jovian Commit Essentials\n",
        "# Please retain and execute this cell without modifying the contents for `jovian.commit` to work\n",
        "!pip install jovian --upgrade -q\n",
        "import jovian\n",
        "jovian.set_project('driver-alert')\n",
        "jovian.set_colab_id('1Bvl3vCe-xam3H_DRyB1SRVef_fK_2z67')"
      ]
    },
    {
      "cell_type": "code",
      "execution_count": null,
      "metadata": {
        "id": "kZYFCyYDONrz"
      },
      "outputs": [],
      "source": [
        "!pip install jovian --upgrade --quiet"
      ]
    },
    {
      "cell_type": "code",
      "execution_count": null,
      "metadata": {
        "id": "O8pkDIoHONr0"
      },
      "outputs": [],
      "source": [
        "import jovian"
      ]
    },
    {
      "cell_type": "code",
      "execution_count": null,
      "metadata": {
        "colab": {
          "base_uri": "https://localhost:8080/",
          "height": 87
        },
        "id": "SSlgrdEUONr2",
        "outputId": "646a26ec-783f-4e2a-8be8-56a8c7b6bcf1"
      },
      "outputs": [
        {
          "output_type": "stream",
          "name": "stdout",
          "text": [
            "[jovian] Detected Colab notebook...\u001b[0m\n",
            "[jovian] Uploading colab notebook to Jovian...\u001b[0m\n",
            "Committed successfully! https://jovian.ai/debg48/driver-alert\n"
          ]
        },
        {
          "output_type": "execute_result",
          "data": {
            "text/plain": [
              "'https://jovian.ai/debg48/driver-alert'"
            ],
            "application/vnd.google.colaboratory.intrinsic+json": {
              "type": "string"
            }
          },
          "metadata": {},
          "execution_count": 12
        }
      ],
      "source": [
        "# Execute this to save new versions of the notebook\n",
        "jovian.commit(project=\"driver-alert\")"
      ]
    },
    {
      "cell_type": "markdown",
      "metadata": {
        "id": "ILNTjW3hO0GK"
      },
      "source": [
        "# Driver Alertness"
      ]
    },
    {
      "cell_type": "markdown",
      "metadata": {
        "id": "LTgfhNlGGC9v"
      },
      "source": [
        "Driving while distracted, fatigued or drowsy may lead to accidents. Activities that divert the driver's attention from the road ahead, such as engaging in a conversation with other passengers in the car, making or receiving phone calls, sending or receiving text messages, eating while driving or events outside the car may cause driver distraction. Fatigue and drowsiness can result from driving long hours or from lack of sleep."
      ]
    },
    {
      "cell_type": "markdown",
      "metadata": {
        "id": "nPhE4uO_HW4d"
      },
      "source": [
        "![download.jpg](data:image/jpeg;base64,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)"
      ]
    },
    {
      "cell_type": "markdown",
      "metadata": {
        "id": "CdkQaDKYPvnX"
      },
      "source": [
        "## Downloading Data"
      ]
    },
    {
      "cell_type": "code",
      "execution_count": null,
      "metadata": {
        "id": "TyTqqtdiPI5x"
      },
      "outputs": [],
      "source": [
        "!pip install opendatasets --upgrade --quiet"
      ]
    },
    {
      "cell_type": "code",
      "execution_count": null,
      "metadata": {
        "id": "6g-QFbvtPIq5"
      },
      "outputs": [],
      "source": [
        "dataset_url = 'https://www.kaggle.com/c/stayalert'"
      ]
    },
    {
      "cell_type": "code",
      "execution_count": null,
      "metadata": {
        "colab": {
          "base_uri": "https://localhost:8080/"
        },
        "id": "TGOt0H4ZPRAN",
        "outputId": "257e903c-e8c1-440d-e432-2cac1519e1b3"
      },
      "outputs": [
        {
          "output_type": "stream",
          "name": "stdout",
          "text": [
            "Skipping, found downloaded files in \"./stayalert\" (use force=True to force download)\n"
          ]
        }
      ],
      "source": [
        "import opendatasets as od\n",
        "od.download(dataset_url)"
      ]
    },
    {
      "cell_type": "code",
      "execution_count": null,
      "metadata": {
        "id": "zh9XuCuVPSoW"
      },
      "outputs": [],
      "source": [
        "data_dir = './stayalert'"
      ]
    },
    {
      "cell_type": "code",
      "execution_count": null,
      "metadata": {
        "colab": {
          "base_uri": "https://localhost:8080/"
        },
        "id": "ClhPz2Y4Pi6n",
        "outputId": "bfe45a1a-558b-4171-d0d8-0a61cd0173be"
      },
      "outputs": [
        {
          "output_type": "execute_result",
          "data": {
            "text/plain": [
              "['fordTest.csv', 'Solution.csv', 'example_submission.csv', 'fordTrain.csv']"
            ]
          },
          "metadata": {},
          "execution_count": 17
        }
      ],
      "source": [
        "import os\n",
        "os.listdir(data_dir)"
      ]
    },
    {
      "cell_type": "markdown",
      "metadata": {
        "id": "B0cmVgHFPqhf"
      },
      "source": [
        "## Data Preparation and Cleaning"
      ]
    },
    {
      "cell_type": "code",
      "execution_count": null,
      "metadata": {
        "id": "EtMAwjSyPqSg"
      },
      "outputs": [],
      "source": [
        "import numpy as np\n",
        "import pandas as pd"
      ]
    },
    {
      "cell_type": "code",
      "execution_count": null,
      "metadata": {
        "id": "MWHXkotMPmIR"
      },
      "outputs": [],
      "source": [
        "driver_train_df = pd.read_csv(data_dir + '/fordTrain.csv')"
      ]
    },
    {
      "cell_type": "code",
      "execution_count": null,
      "metadata": {
        "id": "U8tJT_AQQGh5"
      },
      "outputs": [],
      "source": [
        "driver_test_df = pd.read_csv(data_dir + '/fordTest.csv')"
      ]
    },
    {
      "cell_type": "code",
      "execution_count": null,
      "metadata": {
        "id": "HqsOCZbFQQqG"
      },
      "outputs": [],
      "source": [
        "solution_df =  pd.read_csv(data_dir + '/Solution.csv')"
      ]
    },
    {
      "cell_type": "code",
      "execution_count": null,
      "metadata": {
        "id": "VCTvVJEzQX8C"
      },
      "outputs": [],
      "source": [
        "ex_sub_df = pd.read_csv(data_dir + '/example_submission.csv')"
      ]
    },
    {
      "cell_type": "code",
      "execution_count": null,
      "metadata": {
        "colab": {
          "base_uri": "https://localhost:8080/",
          "height": 424
        },
        "id": "KBpwSKfQQtCY",
        "outputId": "53bcbf49-4b41-422a-cfab-9fb9f7d368e1"
      },
      "outputs": [
        {
          "output_type": "execute_result",
          "data": {
            "text/plain": [
              "        TrialID  ObsNum  IsAlert       P1        P2    P3       P4        P5  \\\n",
              "0             0       0        0  34.7406   9.84593  1400  42.8571  0.290601   \n",
              "1             0       1        0  34.4215  13.41120  1400  42.8571  0.290601   \n",
              "2             0       2        0  34.3447  15.18520  1400  42.8571  0.290601   \n",
              "3             0       3        0  34.3421   8.84696  1400  42.8571  0.290601   \n",
              "4             0       4        0  34.3322  14.69940  1400  42.8571  0.290601   \n",
              "...         ...     ...      ...      ...       ...   ...      ...       ...   \n",
              "604324      510    1194        1  32.0051  10.13240   800  75.0000  0.081731   \n",
              "604325      510    1195        1  32.0393  12.45040   800  75.0000  0.081731   \n",
              "604326      510    1196        1  32.0762  10.06180   800  75.0000  0.081731   \n",
              "604327      510    1197        1  32.1154  17.84500   800  75.0000  0.081731   \n",
              "604328      510    1198        1  32.1154  17.84500   800  75.0000  0.081731   \n",
              "\n",
              "         P6        P7  ...     V2   V3       V4  V5    V6  V7    V8  V9  V10  \\\n",
              "0       572  104.8950  ...  0.175  752  5.99375   0  2005   0  13.4   0    4   \n",
              "1       572  104.8950  ...  0.455  752  5.99375   0  2007   0  13.4   0    4   \n",
              "2       576  104.1670  ...  0.280  752  5.99375   0  2011   0  13.4   0    4   \n",
              "3       576  104.1670  ...  0.070  752  5.99375   0  2015   0  13.4   0    4   \n",
              "4       576  104.1670  ...  0.175  752  5.99375   0  2017   0  13.4   0    4   \n",
              "...     ...       ...  ...    ...  ...      ...  ..   ...  ..   ...  ..  ...   \n",
              "604324  680   88.2353  ...  0.280  240  3.01875   0  1801   0  30.4   0    4   \n",
              "604325  680   88.2353  ...  0.280  240  3.01875   0  1801   0  30.4   0    4   \n",
              "604326  680   88.2353  ...  0.175  240  3.01875   0  1800   0  31.3   0    4   \n",
              "604327  680   88.2353  ...  0.175  240  3.01875   0  1800   0  31.3   0    4   \n",
              "604328  680   88.2353  ...  0.175  240  3.01875   0  1800   0  31.3   0    4   \n",
              "\n",
              "            V11  \n",
              "0       14.8004  \n",
              "1       14.7729  \n",
              "2       14.7736  \n",
              "3       14.7667  \n",
              "4       14.7757  \n",
              "...         ...  \n",
              "604324  15.8113  \n",
              "604325  15.8018  \n",
              "604326  15.8120  \n",
              "604327  15.8270  \n",
              "604328  15.8270  \n",
              "\n",
              "[604329 rows x 33 columns]"
            ],
            "text/html": [
              "\n",
              "  <div id=\"df-4aa97d40-d18e-4e53-8ab3-393d1d684c68\">\n",
              "    <div class=\"colab-df-container\">\n",
              "      <div>\n",
              "<style scoped>\n",
              "    .dataframe tbody tr th:only-of-type {\n",
              "        vertical-align: middle;\n",
              "    }\n",
              "\n",
              "    .dataframe tbody tr th {\n",
              "        vertical-align: top;\n",
              "    }\n",
              "\n",
              "    .dataframe thead th {\n",
              "        text-align: right;\n",
              "    }\n",
              "</style>\n",
              "<table border=\"1\" class=\"dataframe\">\n",
              "  <thead>\n",
              "    <tr style=\"text-align: right;\">\n",
              "      <th></th>\n",
              "      <th>TrialID</th>\n",
              "      <th>ObsNum</th>\n",
              "      <th>IsAlert</th>\n",
              "      <th>P1</th>\n",
              "      <th>P2</th>\n",
              "      <th>P3</th>\n",
              "      <th>P4</th>\n",
              "      <th>P5</th>\n",
              "      <th>P6</th>\n",
              "      <th>P7</th>\n",
              "      <th>...</th>\n",
              "      <th>V2</th>\n",
              "      <th>V3</th>\n",
              "      <th>V4</th>\n",
              "      <th>V5</th>\n",
              "      <th>V6</th>\n",
              "      <th>V7</th>\n",
              "      <th>V8</th>\n",
              "      <th>V9</th>\n",
              "      <th>V10</th>\n",
              "      <th>V11</th>\n",
              "    </tr>\n",
              "  </thead>\n",
              "  <tbody>\n",
              "    <tr>\n",
              "      <th>0</th>\n",
              "      <td>0</td>\n",
              "      <td>0</td>\n",
              "      <td>0</td>\n",
              "      <td>34.7406</td>\n",
              "      <td>9.84593</td>\n",
              "      <td>1400</td>\n",
              "      <td>42.8571</td>\n",
              "      <td>0.290601</td>\n",
              "      <td>572</td>\n",
              "      <td>104.8950</td>\n",
              "      <td>...</td>\n",
              "      <td>0.175</td>\n",
              "      <td>752</td>\n",
              "      <td>5.99375</td>\n",
              "      <td>0</td>\n",
              "      <td>2005</td>\n",
              "      <td>0</td>\n",
              "      <td>13.4</td>\n",
              "      <td>0</td>\n",
              "      <td>4</td>\n",
              "      <td>14.8004</td>\n",
              "    </tr>\n",
              "    <tr>\n",
              "      <th>1</th>\n",
              "      <td>0</td>\n",
              "      <td>1</td>\n",
              "      <td>0</td>\n",
              "      <td>34.4215</td>\n",
              "      <td>13.41120</td>\n",
              "      <td>1400</td>\n",
              "      <td>42.8571</td>\n",
              "      <td>0.290601</td>\n",
              "      <td>572</td>\n",
              "      <td>104.8950</td>\n",
              "      <td>...</td>\n",
              "      <td>0.455</td>\n",
              "      <td>752</td>\n",
              "      <td>5.99375</td>\n",
              "      <td>0</td>\n",
              "      <td>2007</td>\n",
              "      <td>0</td>\n",
              "      <td>13.4</td>\n",
              "      <td>0</td>\n",
              "      <td>4</td>\n",
              "      <td>14.7729</td>\n",
              "    </tr>\n",
              "    <tr>\n",
              "      <th>2</th>\n",
              "      <td>0</td>\n",
              "      <td>2</td>\n",
              "      <td>0</td>\n",
              "      <td>34.3447</td>\n",
              "      <td>15.18520</td>\n",
              "      <td>1400</td>\n",
              "      <td>42.8571</td>\n",
              "      <td>0.290601</td>\n",
              "      <td>576</td>\n",
              "      <td>104.1670</td>\n",
              "      <td>...</td>\n",
              "      <td>0.280</td>\n",
              "      <td>752</td>\n",
              "      <td>5.99375</td>\n",
              "      <td>0</td>\n",
              "      <td>2011</td>\n",
              "      <td>0</td>\n",
              "      <td>13.4</td>\n",
              "      <td>0</td>\n",
              "      <td>4</td>\n",
              "      <td>14.7736</td>\n",
              "    </tr>\n",
              "    <tr>\n",
              "      <th>3</th>\n",
              "      <td>0</td>\n",
              "      <td>3</td>\n",
              "      <td>0</td>\n",
              "      <td>34.3421</td>\n",
              "      <td>8.84696</td>\n",
              "      <td>1400</td>\n",
              "      <td>42.8571</td>\n",
              "      <td>0.290601</td>\n",
              "      <td>576</td>\n",
              "      <td>104.1670</td>\n",
              "      <td>...</td>\n",
              "      <td>0.070</td>\n",
              "      <td>752</td>\n",
              "      <td>5.99375</td>\n",
              "      <td>0</td>\n",
              "      <td>2015</td>\n",
              "      <td>0</td>\n",
              "      <td>13.4</td>\n",
              "      <td>0</td>\n",
              "      <td>4</td>\n",
              "      <td>14.7667</td>\n",
              "    </tr>\n",
              "    <tr>\n",
              "      <th>4</th>\n",
              "      <td>0</td>\n",
              "      <td>4</td>\n",
              "      <td>0</td>\n",
              "      <td>34.3322</td>\n",
              "      <td>14.69940</td>\n",
              "      <td>1400</td>\n",
              "      <td>42.8571</td>\n",
              "      <td>0.290601</td>\n",
              "      <td>576</td>\n",
              "      <td>104.1670</td>\n",
              "      <td>...</td>\n",
              "      <td>0.175</td>\n",
              "      <td>752</td>\n",
              "      <td>5.99375</td>\n",
              "      <td>0</td>\n",
              "      <td>2017</td>\n",
              "      <td>0</td>\n",
              "      <td>13.4</td>\n",
              "      <td>0</td>\n",
              "      <td>4</td>\n",
              "      <td>14.7757</td>\n",
              "    </tr>\n",
              "    <tr>\n",
              "      <th>...</th>\n",
              "      <td>...</td>\n",
              "      <td>...</td>\n",
              "      <td>...</td>\n",
              "      <td>...</td>\n",
              "      <td>...</td>\n",
              "      <td>...</td>\n",
              "      <td>...</td>\n",
              "      <td>...</td>\n",
              "      <td>...</td>\n",
              "      <td>...</td>\n",
              "      <td>...</td>\n",
              "      <td>...</td>\n",
              "      <td>...</td>\n",
              "      <td>...</td>\n",
              "      <td>...</td>\n",
              "      <td>...</td>\n",
              "      <td>...</td>\n",
              "      <td>...</td>\n",
              "      <td>...</td>\n",
              "      <td>...</td>\n",
              "      <td>...</td>\n",
              "    </tr>\n",
              "    <tr>\n",
              "      <th>604324</th>\n",
              "      <td>510</td>\n",
              "      <td>1194</td>\n",
              "      <td>1</td>\n",
              "      <td>32.0051</td>\n",
              "      <td>10.13240</td>\n",
              "      <td>800</td>\n",
              "      <td>75.0000</td>\n",
              "      <td>0.081731</td>\n",
              "      <td>680</td>\n",
              "      <td>88.2353</td>\n",
              "      <td>...</td>\n",
              "      <td>0.280</td>\n",
              "      <td>240</td>\n",
              "      <td>3.01875</td>\n",
              "      <td>0</td>\n",
              "      <td>1801</td>\n",
              "      <td>0</td>\n",
              "      <td>30.4</td>\n",
              "      <td>0</td>\n",
              "      <td>4</td>\n",
              "      <td>15.8113</td>\n",
              "    </tr>\n",
              "    <tr>\n",
              "      <th>604325</th>\n",
              "      <td>510</td>\n",
              "      <td>1195</td>\n",
              "      <td>1</td>\n",
              "      <td>32.0393</td>\n",
              "      <td>12.45040</td>\n",
              "      <td>800</td>\n",
              "      <td>75.0000</td>\n",
              "      <td>0.081731</td>\n",
              "      <td>680</td>\n",
              "      <td>88.2353</td>\n",
              "      <td>...</td>\n",
              "      <td>0.280</td>\n",
              "      <td>240</td>\n",
              "      <td>3.01875</td>\n",
              "      <td>0</td>\n",
              "      <td>1801</td>\n",
              "      <td>0</td>\n",
              "      <td>30.4</td>\n",
              "      <td>0</td>\n",
              "      <td>4</td>\n",
              "      <td>15.8018</td>\n",
              "    </tr>\n",
              "    <tr>\n",
              "      <th>604326</th>\n",
              "      <td>510</td>\n",
              "      <td>1196</td>\n",
              "      <td>1</td>\n",
              "      <td>32.0762</td>\n",
              "      <td>10.06180</td>\n",
              "      <td>800</td>\n",
              "      <td>75.0000</td>\n",
              "      <td>0.081731</td>\n",
              "      <td>680</td>\n",
              "      <td>88.2353</td>\n",
              "      <td>...</td>\n",
              "      <td>0.175</td>\n",
              "      <td>240</td>\n",
              "      <td>3.01875</td>\n",
              "      <td>0</td>\n",
              "      <td>1800</td>\n",
              "      <td>0</td>\n",
              "      <td>31.3</td>\n",
              "      <td>0</td>\n",
              "      <td>4</td>\n",
              "      <td>15.8120</td>\n",
              "    </tr>\n",
              "    <tr>\n",
              "      <th>604327</th>\n",
              "      <td>510</td>\n",
              "      <td>1197</td>\n",
              "      <td>1</td>\n",
              "      <td>32.1154</td>\n",
              "      <td>17.84500</td>\n",
              "      <td>800</td>\n",
              "      <td>75.0000</td>\n",
              "      <td>0.081731</td>\n",
              "      <td>680</td>\n",
              "      <td>88.2353</td>\n",
              "      <td>...</td>\n",
              "      <td>0.175</td>\n",
              "      <td>240</td>\n",
              "      <td>3.01875</td>\n",
              "      <td>0</td>\n",
              "      <td>1800</td>\n",
              "      <td>0</td>\n",
              "      <td>31.3</td>\n",
              "      <td>0</td>\n",
              "      <td>4</td>\n",
              "      <td>15.8270</td>\n",
              "    </tr>\n",
              "    <tr>\n",
              "      <th>604328</th>\n",
              "      <td>510</td>\n",
              "      <td>1198</td>\n",
              "      <td>1</td>\n",
              "      <td>32.1154</td>\n",
              "      <td>17.84500</td>\n",
              "      <td>800</td>\n",
              "      <td>75.0000</td>\n",
              "      <td>0.081731</td>\n",
              "      <td>680</td>\n",
              "      <td>88.2353</td>\n",
              "      <td>...</td>\n",
              "      <td>0.175</td>\n",
              "      <td>240</td>\n",
              "      <td>3.01875</td>\n",
              "      <td>0</td>\n",
              "      <td>1800</td>\n",
              "      <td>0</td>\n",
              "      <td>31.3</td>\n",
              "      <td>0</td>\n",
              "      <td>4</td>\n",
              "      <td>15.8270</td>\n",
              "    </tr>\n",
              "  </tbody>\n",
              "</table>\n",
              "<p>604329 rows × 33 columns</p>\n",
              "</div>\n",
              "      <button class=\"colab-df-convert\" onclick=\"convertToInteractive('df-4aa97d40-d18e-4e53-8ab3-393d1d684c68')\"\n",
              "              title=\"Convert this dataframe to an interactive table.\"\n",
              "              style=\"display:none;\">\n",
              "        \n",
              "  <svg xmlns=\"http://www.w3.org/2000/svg\" height=\"24px\"viewBox=\"0 0 24 24\"\n",
              "       width=\"24px\">\n",
              "    <path d=\"M0 0h24v24H0V0z\" fill=\"none\"/>\n",
              "    <path d=\"M18.56 5.44l.94 2.06.94-2.06 2.06-.94-2.06-.94-.94-2.06-.94 2.06-2.06.94zm-11 1L8.5 8.5l.94-2.06 2.06-.94-2.06-.94L8.5 2.5l-.94 2.06-2.06.94zm10 10l.94 2.06.94-2.06 2.06-.94-2.06-.94-.94-2.06-.94 2.06-2.06.94z\"/><path d=\"M17.41 7.96l-1.37-1.37c-.4-.4-.92-.59-1.43-.59-.52 0-1.04.2-1.43.59L10.3 9.45l-7.72 7.72c-.78.78-.78 2.05 0 2.83L4 21.41c.39.39.9.59 1.41.59.51 0 1.02-.2 1.41-.59l7.78-7.78 2.81-2.81c.8-.78.8-2.07 0-2.86zM5.41 20L4 18.59l7.72-7.72 1.47 1.35L5.41 20z\"/>\n",
              "  </svg>\n",
              "      </button>\n",
              "      \n",
              "  <style>\n",
              "    .colab-df-container {\n",
              "      display:flex;\n",
              "      flex-wrap:wrap;\n",
              "      gap: 12px;\n",
              "    }\n",
              "\n",
              "    .colab-df-convert {\n",
              "      background-color: #E8F0FE;\n",
              "      border: none;\n",
              "      border-radius: 50%;\n",
              "      cursor: pointer;\n",
              "      display: none;\n",
              "      fill: #1967D2;\n",
              "      height: 32px;\n",
              "      padding: 0 0 0 0;\n",
              "      width: 32px;\n",
              "    }\n",
              "\n",
              "    .colab-df-convert:hover {\n",
              "      background-color: #E2EBFA;\n",
              "      box-shadow: 0px 1px 2px rgba(60, 64, 67, 0.3), 0px 1px 3px 1px rgba(60, 64, 67, 0.15);\n",
              "      fill: #174EA6;\n",
              "    }\n",
              "\n",
              "    [theme=dark] .colab-df-convert {\n",
              "      background-color: #3B4455;\n",
              "      fill: #D2E3FC;\n",
              "    }\n",
              "\n",
              "    [theme=dark] .colab-df-convert:hover {\n",
              "      background-color: #434B5C;\n",
              "      box-shadow: 0px 1px 3px 1px rgba(0, 0, 0, 0.15);\n",
              "      filter: drop-shadow(0px 1px 2px rgba(0, 0, 0, 0.3));\n",
              "      fill: #FFFFFF;\n",
              "    }\n",
              "  </style>\n",
              "\n",
              "      <script>\n",
              "        const buttonEl =\n",
              "          document.querySelector('#df-4aa97d40-d18e-4e53-8ab3-393d1d684c68 button.colab-df-convert');\n",
              "        buttonEl.style.display =\n",
              "          google.colab.kernel.accessAllowed ? 'block' : 'none';\n",
              "\n",
              "        async function convertToInteractive(key) {\n",
              "          const element = document.querySelector('#df-4aa97d40-d18e-4e53-8ab3-393d1d684c68');\n",
              "          const dataTable =\n",
              "            await google.colab.kernel.invokeFunction('convertToInteractive',\n",
              "                                                     [key], {});\n",
              "          if (!dataTable) return;\n",
              "\n",
              "          const docLinkHtml = 'Like what you see? Visit the ' +\n",
              "            '<a target=\"_blank\" href=https://colab.research.google.com/notebooks/data_table.ipynb>data table notebook</a>'\n",
              "            + ' to learn more about interactive tables.';\n",
              "          element.innerHTML = '';\n",
              "          dataTable['output_type'] = 'display_data';\n",
              "          await google.colab.output.renderOutput(dataTable, element);\n",
              "          const docLink = document.createElement('div');\n",
              "          docLink.innerHTML = docLinkHtml;\n",
              "          element.appendChild(docLink);\n",
              "        }\n",
              "      </script>\n",
              "    </div>\n",
              "  </div>\n",
              "  "
            ]
          },
          "metadata": {},
          "execution_count": 23
        }
      ],
      "source": [
        "driver_train_df"
      ]
    },
    {
      "cell_type": "code",
      "execution_count": null,
      "metadata": {
        "colab": {
          "base_uri": "https://localhost:8080/",
          "height": 424
        },
        "id": "ZB6ogjs0Qw_c",
        "outputId": "0164eb6d-69e4-44ec-e718-1a48d82388c1"
      },
      "outputs": [
        {
          "output_type": "execute_result",
          "data": {
            "text/plain": [
              "        TrialID  ObsNum IsAlert       P1        P2    P3       P4        P5  \\\n",
              "0             0       0       ?  38.4294  10.94350  1000  60.0000  0.302277   \n",
              "1             0       1       ?  38.3609  15.32120  1000  60.0000  0.302277   \n",
              "2             0       2       ?  38.2342  11.51400  1000  60.0000  0.302277   \n",
              "3             0       3       ?  37.9304  12.26150  1000  60.0000  0.302277   \n",
              "4             0       4       ?  37.8085  12.36660  1000  60.0000  0.302277   \n",
              "...         ...     ...     ...      ...       ...   ...      ...       ...   \n",
              "120835       99    1206       ?  37.3798  17.40260   892  67.2646  0.131030   \n",
              "120836       99    1207       ?  37.1653   5.37419   892  67.2646  0.131030   \n",
              "120837       99    1208       ?  36.9131   9.26657   892  67.2646  0.131030   \n",
              "120838       99    1209       ?  36.6297  10.41710   892  67.2646  0.131030   \n",
              "120839       99    1210       ?  36.6297  10.41710   892  67.2646  0.131030   \n",
              "\n",
              "         P6        P7  ...    V2   V3       V4  V5    V6  V7    V8  V9  V10  \\\n",
              "0       508  118.1100  ...  0.00  255  4.50625   0  2127   0  17.6   0    4   \n",
              "1       508  118.1100  ...  0.00  255  4.50625   0  2127   0  17.6   0    4   \n",
              "2       508  118.1100  ...  0.07  255  4.50625   0  2131   0  17.6   0    4   \n",
              "3       508  118.1100  ...  0.07  255  4.50625   0  2131   0  17.6   0    4   \n",
              "4       504  119.0480  ...  0.00  255  4.50625   0  2136   0  17.6   0    4   \n",
              "...     ...       ...  ...   ...  ...      ...  ..   ...  ..   ...  ..  ...   \n",
              "120835  752   79.7872  ... -0.07  255  0.00000   0   658   0   0.0   0    1   \n",
              "120836  752   79.7872  ... -0.07  255  0.00000   0   657   0   0.0   0    1   \n",
              "120837  752   79.7872  ... -0.07  255  0.00000   0   655   0   0.0   0    1   \n",
              "120838  752   79.7872  ... -0.07  240  0.00000   0   657   0   0.0   0    1   \n",
              "120839  752   79.7872  ... -0.07  240  0.00000   0   657   0   0.0   0    1   \n",
              "\n",
              "            V11  \n",
              "0       16.1937  \n",
              "1       16.1744  \n",
              "2       16.1602  \n",
              "3       16.1725  \n",
              "4       16.1459  \n",
              "...         ...  \n",
              "120835  16.6850  \n",
              "120836  16.6840  \n",
              "120837  16.6487  \n",
              "120838  16.6314  \n",
              "120839  16.6314  \n",
              "\n",
              "[120840 rows x 33 columns]"
            ],
            "text/html": [
              "\n",
              "  <div id=\"df-ff98530c-206e-4514-a99e-e055829aac2c\">\n",
              "    <div class=\"colab-df-container\">\n",
              "      <div>\n",
              "<style scoped>\n",
              "    .dataframe tbody tr th:only-of-type {\n",
              "        vertical-align: middle;\n",
              "    }\n",
              "\n",
              "    .dataframe tbody tr th {\n",
              "        vertical-align: top;\n",
              "    }\n",
              "\n",
              "    .dataframe thead th {\n",
              "        text-align: right;\n",
              "    }\n",
              "</style>\n",
              "<table border=\"1\" class=\"dataframe\">\n",
              "  <thead>\n",
              "    <tr style=\"text-align: right;\">\n",
              "      <th></th>\n",
              "      <th>TrialID</th>\n",
              "      <th>ObsNum</th>\n",
              "      <th>IsAlert</th>\n",
              "      <th>P1</th>\n",
              "      <th>P2</th>\n",
              "      <th>P3</th>\n",
              "      <th>P4</th>\n",
              "      <th>P5</th>\n",
              "      <th>P6</th>\n",
              "      <th>P7</th>\n",
              "      <th>...</th>\n",
              "      <th>V2</th>\n",
              "      <th>V3</th>\n",
              "      <th>V4</th>\n",
              "      <th>V5</th>\n",
              "      <th>V6</th>\n",
              "      <th>V7</th>\n",
              "      <th>V8</th>\n",
              "      <th>V9</th>\n",
              "      <th>V10</th>\n",
              "      <th>V11</th>\n",
              "    </tr>\n",
              "  </thead>\n",
              "  <tbody>\n",
              "    <tr>\n",
              "      <th>0</th>\n",
              "      <td>0</td>\n",
              "      <td>0</td>\n",
              "      <td>?</td>\n",
              "      <td>38.4294</td>\n",
              "      <td>10.94350</td>\n",
              "      <td>1000</td>\n",
              "      <td>60.0000</td>\n",
              "      <td>0.302277</td>\n",
              "      <td>508</td>\n",
              "      <td>118.1100</td>\n",
              "      <td>...</td>\n",
              "      <td>0.00</td>\n",
              "      <td>255</td>\n",
              "      <td>4.50625</td>\n",
              "      <td>0</td>\n",
              "      <td>2127</td>\n",
              "      <td>0</td>\n",
              "      <td>17.6</td>\n",
              "      <td>0</td>\n",
              "      <td>4</td>\n",
              "      <td>16.1937</td>\n",
              "    </tr>\n",
              "    <tr>\n",
              "      <th>1</th>\n",
              "      <td>0</td>\n",
              "      <td>1</td>\n",
              "      <td>?</td>\n",
              "      <td>38.3609</td>\n",
              "      <td>15.32120</td>\n",
              "      <td>1000</td>\n",
              "      <td>60.0000</td>\n",
              "      <td>0.302277</td>\n",
              "      <td>508</td>\n",
              "      <td>118.1100</td>\n",
              "      <td>...</td>\n",
              "      <td>0.00</td>\n",
              "      <td>255</td>\n",
              "      <td>4.50625</td>\n",
              "      <td>0</td>\n",
              "      <td>2127</td>\n",
              "      <td>0</td>\n",
              "      <td>17.6</td>\n",
              "      <td>0</td>\n",
              "      <td>4</td>\n",
              "      <td>16.1744</td>\n",
              "    </tr>\n",
              "    <tr>\n",
              "      <th>2</th>\n",
              "      <td>0</td>\n",
              "      <td>2</td>\n",
              "      <td>?</td>\n",
              "      <td>38.2342</td>\n",
              "      <td>11.51400</td>\n",
              "      <td>1000</td>\n",
              "      <td>60.0000</td>\n",
              "      <td>0.302277</td>\n",
              "      <td>508</td>\n",
              "      <td>118.1100</td>\n",
              "      <td>...</td>\n",
              "      <td>0.07</td>\n",
              "      <td>255</td>\n",
              "      <td>4.50625</td>\n",
              "      <td>0</td>\n",
              "      <td>2131</td>\n",
              "      <td>0</td>\n",
              "      <td>17.6</td>\n",
              "      <td>0</td>\n",
              "      <td>4</td>\n",
              "      <td>16.1602</td>\n",
              "    </tr>\n",
              "    <tr>\n",
              "      <th>3</th>\n",
              "      <td>0</td>\n",
              "      <td>3</td>\n",
              "      <td>?</td>\n",
              "      <td>37.9304</td>\n",
              "      <td>12.26150</td>\n",
              "      <td>1000</td>\n",
              "      <td>60.0000</td>\n",
              "      <td>0.302277</td>\n",
              "      <td>508</td>\n",
              "      <td>118.1100</td>\n",
              "      <td>...</td>\n",
              "      <td>0.07</td>\n",
              "      <td>255</td>\n",
              "      <td>4.50625</td>\n",
              "      <td>0</td>\n",
              "      <td>2131</td>\n",
              "      <td>0</td>\n",
              "      <td>17.6</td>\n",
              "      <td>0</td>\n",
              "      <td>4</td>\n",
              "      <td>16.1725</td>\n",
              "    </tr>\n",
              "    <tr>\n",
              "      <th>4</th>\n",
              "      <td>0</td>\n",
              "      <td>4</td>\n",
              "      <td>?</td>\n",
              "      <td>37.8085</td>\n",
              "      <td>12.36660</td>\n",
              "      <td>1000</td>\n",
              "      <td>60.0000</td>\n",
              "      <td>0.302277</td>\n",
              "      <td>504</td>\n",
              "      <td>119.0480</td>\n",
              "      <td>...</td>\n",
              "      <td>0.00</td>\n",
              "      <td>255</td>\n",
              "      <td>4.50625</td>\n",
              "      <td>0</td>\n",
              "      <td>2136</td>\n",
              "      <td>0</td>\n",
              "      <td>17.6</td>\n",
              "      <td>0</td>\n",
              "      <td>4</td>\n",
              "      <td>16.1459</td>\n",
              "    </tr>\n",
              "    <tr>\n",
              "      <th>...</th>\n",
              "      <td>...</td>\n",
              "      <td>...</td>\n",
              "      <td>...</td>\n",
              "      <td>...</td>\n",
              "      <td>...</td>\n",
              "      <td>...</td>\n",
              "      <td>...</td>\n",
              "      <td>...</td>\n",
              "      <td>...</td>\n",
              "      <td>...</td>\n",
              "      <td>...</td>\n",
              "      <td>...</td>\n",
              "      <td>...</td>\n",
              "      <td>...</td>\n",
              "      <td>...</td>\n",
              "      <td>...</td>\n",
              "      <td>...</td>\n",
              "      <td>...</td>\n",
              "      <td>...</td>\n",
              "      <td>...</td>\n",
              "      <td>...</td>\n",
              "    </tr>\n",
              "    <tr>\n",
              "      <th>120835</th>\n",
              "      <td>99</td>\n",
              "      <td>1206</td>\n",
              "      <td>?</td>\n",
              "      <td>37.3798</td>\n",
              "      <td>17.40260</td>\n",
              "      <td>892</td>\n",
              "      <td>67.2646</td>\n",
              "      <td>0.131030</td>\n",
              "      <td>752</td>\n",
              "      <td>79.7872</td>\n",
              "      <td>...</td>\n",
              "      <td>-0.07</td>\n",
              "      <td>255</td>\n",
              "      <td>0.00000</td>\n",
              "      <td>0</td>\n",
              "      <td>658</td>\n",
              "      <td>0</td>\n",
              "      <td>0.0</td>\n",
              "      <td>0</td>\n",
              "      <td>1</td>\n",
              "      <td>16.6850</td>\n",
              "    </tr>\n",
              "    <tr>\n",
              "      <th>120836</th>\n",
              "      <td>99</td>\n",
              "      <td>1207</td>\n",
              "      <td>?</td>\n",
              "      <td>37.1653</td>\n",
              "      <td>5.37419</td>\n",
              "      <td>892</td>\n",
              "      <td>67.2646</td>\n",
              "      <td>0.131030</td>\n",
              "      <td>752</td>\n",
              "      <td>79.7872</td>\n",
              "      <td>...</td>\n",
              "      <td>-0.07</td>\n",
              "      <td>255</td>\n",
              "      <td>0.00000</td>\n",
              "      <td>0</td>\n",
              "      <td>657</td>\n",
              "      <td>0</td>\n",
              "      <td>0.0</td>\n",
              "      <td>0</td>\n",
              "      <td>1</td>\n",
              "      <td>16.6840</td>\n",
              "    </tr>\n",
              "    <tr>\n",
              "      <th>120837</th>\n",
              "      <td>99</td>\n",
              "      <td>1208</td>\n",
              "      <td>?</td>\n",
              "      <td>36.9131</td>\n",
              "      <td>9.26657</td>\n",
              "      <td>892</td>\n",
              "      <td>67.2646</td>\n",
              "      <td>0.131030</td>\n",
              "      <td>752</td>\n",
              "      <td>79.7872</td>\n",
              "      <td>...</td>\n",
              "      <td>-0.07</td>\n",
              "      <td>255</td>\n",
              "      <td>0.00000</td>\n",
              "      <td>0</td>\n",
              "      <td>655</td>\n",
              "      <td>0</td>\n",
              "      <td>0.0</td>\n",
              "      <td>0</td>\n",
              "      <td>1</td>\n",
              "      <td>16.6487</td>\n",
              "    </tr>\n",
              "    <tr>\n",
              "      <th>120838</th>\n",
              "      <td>99</td>\n",
              "      <td>1209</td>\n",
              "      <td>?</td>\n",
              "      <td>36.6297</td>\n",
              "      <td>10.41710</td>\n",
              "      <td>892</td>\n",
              "      <td>67.2646</td>\n",
              "      <td>0.131030</td>\n",
              "      <td>752</td>\n",
              "      <td>79.7872</td>\n",
              "      <td>...</td>\n",
              "      <td>-0.07</td>\n",
              "      <td>240</td>\n",
              "      <td>0.00000</td>\n",
              "      <td>0</td>\n",
              "      <td>657</td>\n",
              "      <td>0</td>\n",
              "      <td>0.0</td>\n",
              "      <td>0</td>\n",
              "      <td>1</td>\n",
              "      <td>16.6314</td>\n",
              "    </tr>\n",
              "    <tr>\n",
              "      <th>120839</th>\n",
              "      <td>99</td>\n",
              "      <td>1210</td>\n",
              "      <td>?</td>\n",
              "      <td>36.6297</td>\n",
              "      <td>10.41710</td>\n",
              "      <td>892</td>\n",
              "      <td>67.2646</td>\n",
              "      <td>0.131030</td>\n",
              "      <td>752</td>\n",
              "      <td>79.7872</td>\n",
              "      <td>...</td>\n",
              "      <td>-0.07</td>\n",
              "      <td>240</td>\n",
              "      <td>0.00000</td>\n",
              "      <td>0</td>\n",
              "      <td>657</td>\n",
              "      <td>0</td>\n",
              "      <td>0.0</td>\n",
              "      <td>0</td>\n",
              "      <td>1</td>\n",
              "      <td>16.6314</td>\n",
              "    </tr>\n",
              "  </tbody>\n",
              "</table>\n",
              "<p>120840 rows × 33 columns</p>\n",
              "</div>\n",
              "      <button class=\"colab-df-convert\" onclick=\"convertToInteractive('df-ff98530c-206e-4514-a99e-e055829aac2c')\"\n",
              "              title=\"Convert this dataframe to an interactive table.\"\n",
              "              style=\"display:none;\">\n",
              "        \n",
              "  <svg xmlns=\"http://www.w3.org/2000/svg\" height=\"24px\"viewBox=\"0 0 24 24\"\n",
              "       width=\"24px\">\n",
              "    <path d=\"M0 0h24v24H0V0z\" fill=\"none\"/>\n",
              "    <path d=\"M18.56 5.44l.94 2.06.94-2.06 2.06-.94-2.06-.94-.94-2.06-.94 2.06-2.06.94zm-11 1L8.5 8.5l.94-2.06 2.06-.94-2.06-.94L8.5 2.5l-.94 2.06-2.06.94zm10 10l.94 2.06.94-2.06 2.06-.94-2.06-.94-.94-2.06-.94 2.06-2.06.94z\"/><path d=\"M17.41 7.96l-1.37-1.37c-.4-.4-.92-.59-1.43-.59-.52 0-1.04.2-1.43.59L10.3 9.45l-7.72 7.72c-.78.78-.78 2.05 0 2.83L4 21.41c.39.39.9.59 1.41.59.51 0 1.02-.2 1.41-.59l7.78-7.78 2.81-2.81c.8-.78.8-2.07 0-2.86zM5.41 20L4 18.59l7.72-7.72 1.47 1.35L5.41 20z\"/>\n",
              "  </svg>\n",
              "      </button>\n",
              "      \n",
              "  <style>\n",
              "    .colab-df-container {\n",
              "      display:flex;\n",
              "      flex-wrap:wrap;\n",
              "      gap: 12px;\n",
              "    }\n",
              "\n",
              "    .colab-df-convert {\n",
              "      background-color: #E8F0FE;\n",
              "      border: none;\n",
              "      border-radius: 50%;\n",
              "      cursor: pointer;\n",
              "      display: none;\n",
              "      fill: #1967D2;\n",
              "      height: 32px;\n",
              "      padding: 0 0 0 0;\n",
              "      width: 32px;\n",
              "    }\n",
              "\n",
              "    .colab-df-convert:hover {\n",
              "      background-color: #E2EBFA;\n",
              "      box-shadow: 0px 1px 2px rgba(60, 64, 67, 0.3), 0px 1px 3px 1px rgba(60, 64, 67, 0.15);\n",
              "      fill: #174EA6;\n",
              "    }\n",
              "\n",
              "    [theme=dark] .colab-df-convert {\n",
              "      background-color: #3B4455;\n",
              "      fill: #D2E3FC;\n",
              "    }\n",
              "\n",
              "    [theme=dark] .colab-df-convert:hover {\n",
              "      background-color: #434B5C;\n",
              "      box-shadow: 0px 1px 3px 1px rgba(0, 0, 0, 0.15);\n",
              "      filter: drop-shadow(0px 1px 2px rgba(0, 0, 0, 0.3));\n",
              "      fill: #FFFFFF;\n",
              "    }\n",
              "  </style>\n",
              "\n",
              "      <script>\n",
              "        const buttonEl =\n",
              "          document.querySelector('#df-ff98530c-206e-4514-a99e-e055829aac2c button.colab-df-convert');\n",
              "        buttonEl.style.display =\n",
              "          google.colab.kernel.accessAllowed ? 'block' : 'none';\n",
              "\n",
              "        async function convertToInteractive(key) {\n",
              "          const element = document.querySelector('#df-ff98530c-206e-4514-a99e-e055829aac2c');\n",
              "          const dataTable =\n",
              "            await google.colab.kernel.invokeFunction('convertToInteractive',\n",
              "                                                     [key], {});\n",
              "          if (!dataTable) return;\n",
              "\n",
              "          const docLinkHtml = 'Like what you see? Visit the ' +\n",
              "            '<a target=\"_blank\" href=https://colab.research.google.com/notebooks/data_table.ipynb>data table notebook</a>'\n",
              "            + ' to learn more about interactive tables.';\n",
              "          element.innerHTML = '';\n",
              "          dataTable['output_type'] = 'display_data';\n",
              "          await google.colab.output.renderOutput(dataTable, element);\n",
              "          const docLink = document.createElement('div');\n",
              "          docLink.innerHTML = docLinkHtml;\n",
              "          element.appendChild(docLink);\n",
              "        }\n",
              "      </script>\n",
              "    </div>\n",
              "  </div>\n",
              "  "
            ]
          },
          "metadata": {},
          "execution_count": 24
        }
      ],
      "source": [
        "driver_test_df"
      ]
    },
    {
      "cell_type": "code",
      "execution_count": null,
      "metadata": {
        "colab": {
          "base_uri": "https://localhost:8080/"
        },
        "id": "zZz3IDIERM7U",
        "outputId": "9701f194-72a6-40b4-a2c7-0fe631f6c189"
      },
      "outputs": [
        {
          "output_type": "stream",
          "name": "stdout",
          "text": [
            "<class 'pandas.core.frame.DataFrame'>\n",
            "RangeIndex: 604329 entries, 0 to 604328\n",
            "Data columns (total 33 columns):\n",
            " #   Column   Non-Null Count   Dtype  \n",
            "---  ------   --------------   -----  \n",
            " 0   TrialID  604329 non-null  int64  \n",
            " 1   ObsNum   604329 non-null  int64  \n",
            " 2   IsAlert  604329 non-null  int64  \n",
            " 3   P1       604329 non-null  float64\n",
            " 4   P2       604329 non-null  float64\n",
            " 5   P3       604329 non-null  int64  \n",
            " 6   P4       604329 non-null  float64\n",
            " 7   P5       604329 non-null  float64\n",
            " 8   P6       604329 non-null  int64  \n",
            " 9   P7       604329 non-null  float64\n",
            " 10  P8       604329 non-null  int64  \n",
            " 11  E1       604329 non-null  float64\n",
            " 12  E2       604329 non-null  float64\n",
            " 13  E3       604329 non-null  int64  \n",
            " 14  E4       604329 non-null  int64  \n",
            " 15  E5       604329 non-null  float64\n",
            " 16  E6       604329 non-null  int64  \n",
            " 17  E7       604329 non-null  int64  \n",
            " 18  E8       604329 non-null  int64  \n",
            " 19  E9       604329 non-null  int64  \n",
            " 20  E10      604329 non-null  int64  \n",
            " 21  E11      604329 non-null  float64\n",
            " 22  V1       604329 non-null  float64\n",
            " 23  V2       604329 non-null  float64\n",
            " 24  V3       604329 non-null  int64  \n",
            " 25  V4       604329 non-null  float64\n",
            " 26  V5       604329 non-null  int64  \n",
            " 27  V6       604329 non-null  int64  \n",
            " 28  V7       604329 non-null  int64  \n",
            " 29  V8       604329 non-null  float64\n",
            " 30  V9       604329 non-null  int64  \n",
            " 31  V10      604329 non-null  int64  \n",
            " 32  V11      604329 non-null  float64\n",
            "dtypes: float64(14), int64(19)\n",
            "memory usage: 152.2 MB\n"
          ]
        }
      ],
      "source": [
        "driver_train_df.info()"
      ]
    },
    {
      "cell_type": "markdown",
      "metadata": {
        "id": "b-ncKXZsRbMG"
      },
      "source": [
        "As we can observe there are no categorical columns and no missing values"
      ]
    },
    {
      "cell_type": "code",
      "execution_count": null,
      "metadata": {
        "colab": {
          "base_uri": "https://localhost:8080/",
          "height": 394
        },
        "id": "OhM7yeYERVpo",
        "outputId": "2e02b21b-8f6c-4b6d-e01e-4154425bc5d0"
      },
      "outputs": [
        {
          "output_type": "execute_result",
          "data": {
            "text/plain": [
              "             TrialID         ObsNum        IsAlert             P1  \\\n",
              "count  604329.000000  604329.000000  604329.000000  604329.000000   \n",
              "mean      250.167657     603.841765       0.578799      35.449020   \n",
              "std       145.446164     348.931601       0.493752       7.484629   \n",
              "min         0.000000       0.000000       0.000000     -22.481200   \n",
              "25%       125.000000     302.000000       0.000000      31.758100   \n",
              "50%       250.000000     604.000000       1.000000      34.145100   \n",
              "75%       374.000000     906.000000       1.000000      37.311900   \n",
              "max       510.000000    1210.000000       1.000000     101.351000   \n",
              "\n",
              "                  P2             P3             P4             P5  \\\n",
              "count  604329.000000  604329.000000  604329.000000  604329.000000   \n",
              "mean       11.996525    1026.671035      64.061965       0.178923   \n",
              "std         3.760292     309.277877      19.755950       0.372309   \n",
              "min       -45.629200     504.000000      23.885300       0.038920   \n",
              "25%         9.903540     792.000000      49.180300       0.092110   \n",
              "50%        11.400400    1000.000000      60.000000       0.105083   \n",
              "75%        13.644200    1220.000000      75.757600       0.138814   \n",
              "max        71.173700    2512.000000     119.048000      27.202200   \n",
              "\n",
              "                  P6             P7  ...             V2             V3  \\\n",
              "count  604329.000000  604329.000000  ...  604329.000000  604329.000000   \n",
              "mean      845.384610      77.887628  ...      -0.037710     573.786433   \n",
              "std      2505.335141      18.577930  ...       0.403896     298.412888   \n",
              "min       128.000000       0.262224  ...      -4.795000     240.000000   \n",
              "25%       668.000000      66.666700  ...      -0.175000     255.000000   \n",
              "50%       800.000000      75.000000  ...       0.000000     511.000000   \n",
              "75%       900.000000      89.820400  ...       0.070000     767.000000   \n",
              "max    228812.000000     468.750000  ...       3.990000    1023.000000   \n",
              "\n",
              "                  V4             V5             V6        V7             V8  \\\n",
              "count  604329.000000  604329.000000  604329.000000  604329.0  604329.000000   \n",
              "mean       19.961030       0.179814    1715.688383       0.0      12.710354   \n",
              "std        63.269456       0.384033     618.176470       0.0      11.532085   \n",
              "min         0.000000       0.000000       0.000000       0.0       0.000000   \n",
              "25%         1.487500       0.000000    1259.000000       0.0       0.000000   \n",
              "50%         3.018750       0.000000    1994.000000       0.0      12.800000   \n",
              "75%         7.481250       0.000000    2146.000000       0.0      21.900000   \n",
              "max       484.488000       1.000000    4892.000000       0.0      82.100000   \n",
              "\n",
              "             V9            V10            V11  \n",
              "count  604329.0  604329.000000  604329.000000  \n",
              "mean        0.0       3.312257      11.668277  \n",
              "std         0.0       1.243586       9.934423  \n",
              "min         0.0       1.000000       1.676730  \n",
              "25%         0.0       3.000000       7.947680  \n",
              "50%         0.0       4.000000      10.772600  \n",
              "75%         0.0       4.000000      15.270900  \n",
              "max         0.0       7.000000     262.534000  \n",
              "\n",
              "[8 rows x 33 columns]"
            ],
            "text/html": [
              "\n",
              "  <div id=\"df-0f2509fd-53f9-428b-900b-b339a4ccc35c\">\n",
              "    <div class=\"colab-df-container\">\n",
              "      <div>\n",
              "<style scoped>\n",
              "    .dataframe tbody tr th:only-of-type {\n",
              "        vertical-align: middle;\n",
              "    }\n",
              "\n",
              "    .dataframe tbody tr th {\n",
              "        vertical-align: top;\n",
              "    }\n",
              "\n",
              "    .dataframe thead th {\n",
              "        text-align: right;\n",
              "    }\n",
              "</style>\n",
              "<table border=\"1\" class=\"dataframe\">\n",
              "  <thead>\n",
              "    <tr style=\"text-align: right;\">\n",
              "      <th></th>\n",
              "      <th>TrialID</th>\n",
              "      <th>ObsNum</th>\n",
              "      <th>IsAlert</th>\n",
              "      <th>P1</th>\n",
              "      <th>P2</th>\n",
              "      <th>P3</th>\n",
              "      <th>P4</th>\n",
              "      <th>P5</th>\n",
              "      <th>P6</th>\n",
              "      <th>P7</th>\n",
              "      <th>...</th>\n",
              "      <th>V2</th>\n",
              "      <th>V3</th>\n",
              "      <th>V4</th>\n",
              "      <th>V5</th>\n",
              "      <th>V6</th>\n",
              "      <th>V7</th>\n",
              "      <th>V8</th>\n",
              "      <th>V9</th>\n",
              "      <th>V10</th>\n",
              "      <th>V11</th>\n",
              "    </tr>\n",
              "  </thead>\n",
              "  <tbody>\n",
              "    <tr>\n",
              "      <th>count</th>\n",
              "      <td>604329.000000</td>\n",
              "      <td>604329.000000</td>\n",
              "      <td>604329.000000</td>\n",
              "      <td>604329.000000</td>\n",
              "      <td>604329.000000</td>\n",
              "      <td>604329.000000</td>\n",
              "      <td>604329.000000</td>\n",
              "      <td>604329.000000</td>\n",
              "      <td>604329.000000</td>\n",
              "      <td>604329.000000</td>\n",
              "      <td>...</td>\n",
              "      <td>604329.000000</td>\n",
              "      <td>604329.000000</td>\n",
              "      <td>604329.000000</td>\n",
              "      <td>604329.000000</td>\n",
              "      <td>604329.000000</td>\n",
              "      <td>604329.0</td>\n",
              "      <td>604329.000000</td>\n",
              "      <td>604329.0</td>\n",
              "      <td>604329.000000</td>\n",
              "      <td>604329.000000</td>\n",
              "    </tr>\n",
              "    <tr>\n",
              "      <th>mean</th>\n",
              "      <td>250.167657</td>\n",
              "      <td>603.841765</td>\n",
              "      <td>0.578799</td>\n",
              "      <td>35.449020</td>\n",
              "      <td>11.996525</td>\n",
              "      <td>1026.671035</td>\n",
              "      <td>64.061965</td>\n",
              "      <td>0.178923</td>\n",
              "      <td>845.384610</td>\n",
              "      <td>77.887628</td>\n",
              "      <td>...</td>\n",
              "      <td>-0.037710</td>\n",
              "      <td>573.786433</td>\n",
              "      <td>19.961030</td>\n",
              "      <td>0.179814</td>\n",
              "      <td>1715.688383</td>\n",
              "      <td>0.0</td>\n",
              "      <td>12.710354</td>\n",
              "      <td>0.0</td>\n",
              "      <td>3.312257</td>\n",
              "      <td>11.668277</td>\n",
              "    </tr>\n",
              "    <tr>\n",
              "      <th>std</th>\n",
              "      <td>145.446164</td>\n",
              "      <td>348.931601</td>\n",
              "      <td>0.493752</td>\n",
              "      <td>7.484629</td>\n",
              "      <td>3.760292</td>\n",
              "      <td>309.277877</td>\n",
              "      <td>19.755950</td>\n",
              "      <td>0.372309</td>\n",
              "      <td>2505.335141</td>\n",
              "      <td>18.577930</td>\n",
              "      <td>...</td>\n",
              "      <td>0.403896</td>\n",
              "      <td>298.412888</td>\n",
              "      <td>63.269456</td>\n",
              "      <td>0.384033</td>\n",
              "      <td>618.176470</td>\n",
              "      <td>0.0</td>\n",
              "      <td>11.532085</td>\n",
              "      <td>0.0</td>\n",
              "      <td>1.243586</td>\n",
              "      <td>9.934423</td>\n",
              "    </tr>\n",
              "    <tr>\n",
              "      <th>min</th>\n",
              "      <td>0.000000</td>\n",
              "      <td>0.000000</td>\n",
              "      <td>0.000000</td>\n",
              "      <td>-22.481200</td>\n",
              "      <td>-45.629200</td>\n",
              "      <td>504.000000</td>\n",
              "      <td>23.885300</td>\n",
              "      <td>0.038920</td>\n",
              "      <td>128.000000</td>\n",
              "      <td>0.262224</td>\n",
              "      <td>...</td>\n",
              "      <td>-4.795000</td>\n",
              "      <td>240.000000</td>\n",
              "      <td>0.000000</td>\n",
              "      <td>0.000000</td>\n",
              "      <td>0.000000</td>\n",
              "      <td>0.0</td>\n",
              "      <td>0.000000</td>\n",
              "      <td>0.0</td>\n",
              "      <td>1.000000</td>\n",
              "      <td>1.676730</td>\n",
              "    </tr>\n",
              "    <tr>\n",
              "      <th>25%</th>\n",
              "      <td>125.000000</td>\n",
              "      <td>302.000000</td>\n",
              "      <td>0.000000</td>\n",
              "      <td>31.758100</td>\n",
              "      <td>9.903540</td>\n",
              "      <td>792.000000</td>\n",
              "      <td>49.180300</td>\n",
              "      <td>0.092110</td>\n",
              "      <td>668.000000</td>\n",
              "      <td>66.666700</td>\n",
              "      <td>...</td>\n",
              "      <td>-0.175000</td>\n",
              "      <td>255.000000</td>\n",
              "      <td>1.487500</td>\n",
              "      <td>0.000000</td>\n",
              "      <td>1259.000000</td>\n",
              "      <td>0.0</td>\n",
              "      <td>0.000000</td>\n",
              "      <td>0.0</td>\n",
              "      <td>3.000000</td>\n",
              "      <td>7.947680</td>\n",
              "    </tr>\n",
              "    <tr>\n",
              "      <th>50%</th>\n",
              "      <td>250.000000</td>\n",
              "      <td>604.000000</td>\n",
              "      <td>1.000000</td>\n",
              "      <td>34.145100</td>\n",
              "      <td>11.400400</td>\n",
              "      <td>1000.000000</td>\n",
              "      <td>60.000000</td>\n",
              "      <td>0.105083</td>\n",
              "      <td>800.000000</td>\n",
              "      <td>75.000000</td>\n",
              "      <td>...</td>\n",
              "      <td>0.000000</td>\n",
              "      <td>511.000000</td>\n",
              "      <td>3.018750</td>\n",
              "      <td>0.000000</td>\n",
              "      <td>1994.000000</td>\n",
              "      <td>0.0</td>\n",
              "      <td>12.800000</td>\n",
              "      <td>0.0</td>\n",
              "      <td>4.000000</td>\n",
              "      <td>10.772600</td>\n",
              "    </tr>\n",
              "    <tr>\n",
              "      <th>75%</th>\n",
              "      <td>374.000000</td>\n",
              "      <td>906.000000</td>\n",
              "      <td>1.000000</td>\n",
              "      <td>37.311900</td>\n",
              "      <td>13.644200</td>\n",
              "      <td>1220.000000</td>\n",
              "      <td>75.757600</td>\n",
              "      <td>0.138814</td>\n",
              "      <td>900.000000</td>\n",
              "      <td>89.820400</td>\n",
              "      <td>...</td>\n",
              "      <td>0.070000</td>\n",
              "      <td>767.000000</td>\n",
              "      <td>7.481250</td>\n",
              "      <td>0.000000</td>\n",
              "      <td>2146.000000</td>\n",
              "      <td>0.0</td>\n",
              "      <td>21.900000</td>\n",
              "      <td>0.0</td>\n",
              "      <td>4.000000</td>\n",
              "      <td>15.270900</td>\n",
              "    </tr>\n",
              "    <tr>\n",
              "      <th>max</th>\n",
              "      <td>510.000000</td>\n",
              "      <td>1210.000000</td>\n",
              "      <td>1.000000</td>\n",
              "      <td>101.351000</td>\n",
              "      <td>71.173700</td>\n",
              "      <td>2512.000000</td>\n",
              "      <td>119.048000</td>\n",
              "      <td>27.202200</td>\n",
              "      <td>228812.000000</td>\n",
              "      <td>468.750000</td>\n",
              "      <td>...</td>\n",
              "      <td>3.990000</td>\n",
              "      <td>1023.000000</td>\n",
              "      <td>484.488000</td>\n",
              "      <td>1.000000</td>\n",
              "      <td>4892.000000</td>\n",
              "      <td>0.0</td>\n",
              "      <td>82.100000</td>\n",
              "      <td>0.0</td>\n",
              "      <td>7.000000</td>\n",
              "      <td>262.534000</td>\n",
              "    </tr>\n",
              "  </tbody>\n",
              "</table>\n",
              "<p>8 rows × 33 columns</p>\n",
              "</div>\n",
              "      <button class=\"colab-df-convert\" onclick=\"convertToInteractive('df-0f2509fd-53f9-428b-900b-b339a4ccc35c')\"\n",
              "              title=\"Convert this dataframe to an interactive table.\"\n",
              "              style=\"display:none;\">\n",
              "        \n",
              "  <svg xmlns=\"http://www.w3.org/2000/svg\" height=\"24px\"viewBox=\"0 0 24 24\"\n",
              "       width=\"24px\">\n",
              "    <path d=\"M0 0h24v24H0V0z\" fill=\"none\"/>\n",
              "    <path d=\"M18.56 5.44l.94 2.06.94-2.06 2.06-.94-2.06-.94-.94-2.06-.94 2.06-2.06.94zm-11 1L8.5 8.5l.94-2.06 2.06-.94-2.06-.94L8.5 2.5l-.94 2.06-2.06.94zm10 10l.94 2.06.94-2.06 2.06-.94-2.06-.94-.94-2.06-.94 2.06-2.06.94z\"/><path d=\"M17.41 7.96l-1.37-1.37c-.4-.4-.92-.59-1.43-.59-.52 0-1.04.2-1.43.59L10.3 9.45l-7.72 7.72c-.78.78-.78 2.05 0 2.83L4 21.41c.39.39.9.59 1.41.59.51 0 1.02-.2 1.41-.59l7.78-7.78 2.81-2.81c.8-.78.8-2.07 0-2.86zM5.41 20L4 18.59l7.72-7.72 1.47 1.35L5.41 20z\"/>\n",
              "  </svg>\n",
              "      </button>\n",
              "      \n",
              "  <style>\n",
              "    .colab-df-container {\n",
              "      display:flex;\n",
              "      flex-wrap:wrap;\n",
              "      gap: 12px;\n",
              "    }\n",
              "\n",
              "    .colab-df-convert {\n",
              "      background-color: #E8F0FE;\n",
              "      border: none;\n",
              "      border-radius: 50%;\n",
              "      cursor: pointer;\n",
              "      display: none;\n",
              "      fill: #1967D2;\n",
              "      height: 32px;\n",
              "      padding: 0 0 0 0;\n",
              "      width: 32px;\n",
              "    }\n",
              "\n",
              "    .colab-df-convert:hover {\n",
              "      background-color: #E2EBFA;\n",
              "      box-shadow: 0px 1px 2px rgba(60, 64, 67, 0.3), 0px 1px 3px 1px rgba(60, 64, 67, 0.15);\n",
              "      fill: #174EA6;\n",
              "    }\n",
              "\n",
              "    [theme=dark] .colab-df-convert {\n",
              "      background-color: #3B4455;\n",
              "      fill: #D2E3FC;\n",
              "    }\n",
              "\n",
              "    [theme=dark] .colab-df-convert:hover {\n",
              "      background-color: #434B5C;\n",
              "      box-shadow: 0px 1px 3px 1px rgba(0, 0, 0, 0.15);\n",
              "      filter: drop-shadow(0px 1px 2px rgba(0, 0, 0, 0.3));\n",
              "      fill: #FFFFFF;\n",
              "    }\n",
              "  </style>\n",
              "\n",
              "      <script>\n",
              "        const buttonEl =\n",
              "          document.querySelector('#df-0f2509fd-53f9-428b-900b-b339a4ccc35c button.colab-df-convert');\n",
              "        buttonEl.style.display =\n",
              "          google.colab.kernel.accessAllowed ? 'block' : 'none';\n",
              "\n",
              "        async function convertToInteractive(key) {\n",
              "          const element = document.querySelector('#df-0f2509fd-53f9-428b-900b-b339a4ccc35c');\n",
              "          const dataTable =\n",
              "            await google.colab.kernel.invokeFunction('convertToInteractive',\n",
              "                                                     [key], {});\n",
              "          if (!dataTable) return;\n",
              "\n",
              "          const docLinkHtml = 'Like what you see? Visit the ' +\n",
              "            '<a target=\"_blank\" href=https://colab.research.google.com/notebooks/data_table.ipynb>data table notebook</a>'\n",
              "            + ' to learn more about interactive tables.';\n",
              "          element.innerHTML = '';\n",
              "          dataTable['output_type'] = 'display_data';\n",
              "          await google.colab.output.renderOutput(dataTable, element);\n",
              "          const docLink = document.createElement('div');\n",
              "          docLink.innerHTML = docLinkHtml;\n",
              "          element.appendChild(docLink);\n",
              "        }\n",
              "      </script>\n",
              "    </div>\n",
              "  </div>\n",
              "  "
            ]
          },
          "metadata": {},
          "execution_count": 26
        }
      ],
      "source": [
        "driver_train_df.describe()"
      ]
    },
    {
      "cell_type": "code",
      "execution_count": null,
      "metadata": {
        "colab": {
          "base_uri": "https://localhost:8080/"
        },
        "id": "_PW_GyFSRk6n",
        "outputId": "f24a0cec-1708-47f8-af7c-2e7b3862fb53"
      },
      "outputs": [
        {
          "output_type": "execute_result",
          "data": {
            "text/plain": [
              "TrialID    0\n",
              "ObsNum     0\n",
              "IsAlert    0\n",
              "P1         0\n",
              "P2         0\n",
              "P3         0\n",
              "P4         0\n",
              "P5         0\n",
              "P6         0\n",
              "P7         0\n",
              "P8         0\n",
              "E1         0\n",
              "E2         0\n",
              "E3         0\n",
              "E4         0\n",
              "E5         0\n",
              "E6         0\n",
              "E7         0\n",
              "E8         0\n",
              "E9         0\n",
              "E10        0\n",
              "E11        0\n",
              "V1         0\n",
              "V2         0\n",
              "V3         0\n",
              "V4         0\n",
              "V5         0\n",
              "V6         0\n",
              "V7         0\n",
              "V8         0\n",
              "V9         0\n",
              "V10        0\n",
              "V11        0\n",
              "dtype: int64"
            ]
          },
          "metadata": {},
          "execution_count": 27
        }
      ],
      "source": [
        "driver_train_df.isnull().sum()"
      ]
    },
    {
      "cell_type": "code",
      "execution_count": null,
      "metadata": {
        "colab": {
          "base_uri": "https://localhost:8080/"
        },
        "id": "avyaWY_5Rus1",
        "outputId": "33421f52-3276-4d9d-e685-f5fd0116875c"
      },
      "outputs": [
        {
          "output_type": "execute_result",
          "data": {
            "text/plain": [
              "Index(['TrialID', 'ObsNum', 'IsAlert', 'P1', 'P2', 'P3', 'P4', 'P5', 'P6',\n",
              "       'P7', 'P8', 'E1', 'E2', 'E3', 'E4', 'E5', 'E6', 'E7', 'E8', 'E9', 'E10',\n",
              "       'E11', 'V1', 'V2', 'V3', 'V4', 'V5', 'V6', 'V7', 'V8', 'V9', 'V10',\n",
              "       'V11'],\n",
              "      dtype='object')"
            ]
          },
          "metadata": {},
          "execution_count": 28
        }
      ],
      "source": [
        "driver_train_df.columns"
      ]
    },
    {
      "cell_type": "code",
      "execution_count": null,
      "metadata": {
        "colab": {
          "base_uri": "https://localhost:8080/"
        },
        "id": "nEg89xmYR8FI",
        "outputId": "7ebe9ef2-18e0-4207-b533-b2972d9780a7"
      },
      "outputs": [
        {
          "output_type": "stream",
          "name": "stdout",
          "text": [
            "TrialID : \n",
            "[  0   1   2   3   4   5   6   7   8   9  10  11  12  13  14  15  16  17\n",
            "  18  19  20  21  22  23  24  25  26  27  28  29  30  31  32  33  34  35\n",
            "  36  37  38  39  40  41  42  43  44  45  46  47  48  49  50  51  52  53\n",
            "  54  55  56  57  58  59  60  61  62  63  64  65  66  67  68  69  70  71\n",
            "  72  73  74  75  76  77  78  79  80  81  82  83  84  85  86  87  88  89\n",
            "  90  91  92  93  94  95  96  97  98  99 100 101 102 103 104 105 106 107\n",
            " 108 109 110 111 112 113 114 115 116 117 118 119 120 121 122 123 124 125\n",
            " 126 127 128 129 130 131 132 133 134 135 136 137 138 139 140 141 142 143\n",
            " 144 145 146 147 148 149 150 151 152 153 154 155 156 157 158 159 160 161\n",
            " 162 163 164 165 166 167 168 169 170 171 172 173 174 175 176 177 178 179\n",
            " 180 181 182 183 184 185 186 187 188 189 190 191 192 193 194 195 196 197\n",
            " 198 199 200 201 202 203 204 205 206 207 208 209 210 211 212 213 214 215\n",
            " 216 217 218 219 220 221 222 223 224 225 226 227 228 229 230 231 232 233\n",
            " 234 235 236 237 238 239 240 241 242 243 244 245 246 247 248 249 250 251\n",
            " 252 253 254 255 256 257 258 259 260 261 262 263 264 265 266 267 268 269\n",
            " 270 271 272 273 274 275 276 277 278 279 280 281 282 283 284 285 286 287\n",
            " 288 289 290 291 292 293 294 295 296 297 298 299 300 301 302 303 304 305\n",
            " 306 307 308 309 310 311 312 313 314 315 316 317 318 319 320 321 322 323\n",
            " 324 325 326 327 328 329 330 331 332 333 334 335 336 337 338 339 340 341\n",
            " 342 343 344 345 346 347 348 349 350 351 352 353 354 355 356 357 358 359\n",
            " 360 361 362 363 364 365 366 367 368 369 370 371 372 373 374 375 376 377\n",
            " 378 379 380 381 382 383 384 385 386 387 388 389 390 391 392 393 394 395\n",
            " 396 397 398 399 400 401 402 403 404 405 406 407 408 409 410 411 412 413\n",
            " 414 415 416 417 418 419 420 421 422 423 424 425 426 427 428 429 430 431\n",
            " 432 433 434 435 436 437 438 439 440 441 442 443 444 445 446 447 448 449\n",
            " 450 451 452 453 454 455 456 457 458 459 460 461 462 463 464 465 466 467\n",
            " 468 480 481 482 483 484 485 486 487 488 489 490 491 492 493 494 495 496\n",
            " 497 498 499 500 501 502 503 504 505 506 507 508 509 510]\n",
            "\n",
            "\n",
            "ObsNum : \n",
            "[   0    1    2 ... 1208 1209 1210]\n",
            "\n",
            "\n",
            "IsAlert : \n",
            "[0 1]\n",
            "\n",
            "\n",
            "P1 : \n",
            "[-22.4812 -22.476  -22.4674 ... 101.344  101.347  101.351 ]\n",
            "\n",
            "\n",
            "P2 : \n",
            "[-45.6292 -45.6285 -45.626  ...  71.17    71.1702  71.1737]\n",
            "\n",
            "\n",
            "P3 : \n",
            "[ 504  508  512  516  520  524  528  532  536  540  544  548  552  556\n",
            "  560  564  568  572  576  580  584  588  592  596  600  604  608  612\n",
            "  616  620  624  628  632  636  640  644  648  652  656  660  664  668\n",
            "  672  676  680  684  688  692  696  700  704  708  712  716  720  724\n",
            "  728  732  736  740  744  748  752  756  760  764  768  772  776  780\n",
            "  784  788  792  796  800  804  808  812  816  820  824  828  832  836\n",
            "  840  844  848  852  856  860  864  868  872  876  880  884  888  892\n",
            "  896  900  904  908  912  916  920  924  928  932  936  940  944  948\n",
            "  952  956  960  964  968  972  976  980  984  988  992  996 1000 1004\n",
            " 1008 1012 1016 1020 1024 1028 1032 1036 1040 1044 1048 1052 1056 1060\n",
            " 1064 1068 1072 1076 1080 1084 1088 1092 1096 1100 1104 1108 1112 1116\n",
            " 1120 1124 1128 1132 1136 1140 1144 1148 1152 1156 1160 1164 1168 1172\n",
            " 1176 1180 1184 1188 1192 1196 1200 1204 1208 1212 1216 1220 1224 1228\n",
            " 1232 1236 1240 1244 1248 1252 1256 1260 1264 1268 1272 1276 1280 1284\n",
            " 1288 1292 1296 1300 1304 1308 1312 1316 1320 1324 1328 1332 1336 1340\n",
            " 1344 1348 1352 1356 1360 1364 1368 1372 1376 1380 1384 1388 1392 1396\n",
            " 1400 1404 1408 1412 1416 1420 1424 1428 1432 1436 1440 1444 1448 1452\n",
            " 1456 1460 1464 1468 1472 1476 1480 1484 1488 1492 1496 1500 1504 1508\n",
            " 1512 1516 1520 1524 1528 1532 1536 1540 1544 1548 1552 1556 1560 1564\n",
            " 1568 1572 1576 1580 1584 1588 1592 1596 1600 1604 1608 1612 1616 1620\n",
            " 1624 1628 1632 1636 1640 1644 1648 1652 1656 1660 1664 1668 1672 1676\n",
            " 1680 1684 1688 1692 1696 1700 1704 1708 1712 1716 1720 1724 1728 1732\n",
            " 1736 1740 1744 1748 1752 1756 1760 1764 1768 1772 1776 1780 1784 1788\n",
            " 1792 1796 1800 1804 1808 1812 1816 1820 1824 1828 1832 1836 1840 1844\n",
            " 1848 1852 1856 1860 1864 1868 1872 1876 1880 1884 1888 1892 1896 1900\n",
            " 1904 1908 1912 1916 1920 1924 1928 1932 1936 1940 1944 1948 1952 1956\n",
            " 1960 1964 1968 1972 1976 1980 1984 1988 1992 1996 2000 2004 2008 2012\n",
            " 2016 2020 2024 2032 2036 2040 2044 2056 2060 2072 2080 2084 2088 2100\n",
            " 2104 2108 2112 2128 2132 2140 2160 2168 2172 2180 2192 2240 2252 2272\n",
            " 2408 2416 2512]\n",
            "\n",
            "\n",
            "P4 : \n",
            "[ 23.8853  24.8344  24.9169  26.4085  26.643   26.7857  27.3723  27.5229\n",
            "  27.6243  27.6753  27.7778  28.0374  28.1426  28.1955  28.4091  28.463\n",
            "  28.5171  28.5714  28.7356  28.7908  28.8462  28.9575  29.1262  29.1829\n",
            "  29.3542  29.4118  29.4695  29.5276  29.6443  29.703   29.7619  29.8211\n",
            "  29.8805  29.9401  30.      30.0601  30.1205  30.1811  30.2419  30.303\n",
            "  30.3644  30.426   30.4878  30.5499  30.6122  30.6748  30.7377  30.8008\n",
            "  30.8642  30.9278  30.9917  31.0559  31.1203  31.185   31.25    31.3152\n",
            "  31.3808  31.4465  31.5126  31.5789  31.6456  31.7125  31.7797  31.8471\n",
            "  31.9149  31.9829  32.0513  32.1199  32.1888  32.2581  32.3276  32.3974\n",
            "  32.4675  32.538   32.6087  32.6797  32.7511  32.8228  32.8947  32.967\n",
            "  33.0396  33.1126  33.1858  33.2594  33.3333  33.4076  33.4821  33.557\n",
            "  33.6323  33.7079  33.7838  33.86    33.9367  34.0136  34.0909  34.1686\n",
            "  34.2466  34.3249  34.4037  34.4828  34.5622  34.642   34.7222  34.8028\n",
            "  34.8837  34.965   35.0467  35.1288  35.2113  35.2941  35.3774  35.461\n",
            "  35.545   35.6295  35.7143  35.7995  35.8852  35.9712  36.0577  36.1446\n",
            "  36.2319  36.3196  36.4078  36.4964  36.5854  36.6748  36.7647  36.855\n",
            "  36.9458  37.037   37.1287  37.2208  37.3134  37.4065  37.5     37.594\n",
            "  37.6884  37.7834  37.8788  37.9747  38.0711  38.1679  38.2653  38.3632\n",
            "  38.4615  38.5604  38.6598  38.7597  38.8601  38.961   39.0625  39.1645\n",
            "  39.267   39.3701  39.4737  39.5778  39.6825  39.7878  39.8936  40.\n",
            "  40.107   40.2145  40.3226  40.4313  40.5405  40.6504  40.7609  40.8719\n",
            "  40.9836  41.0959  41.2088  41.3223  41.4365  41.5512  41.6667  41.7827\n",
            "  41.8994  42.0168  42.1348  42.2535  42.3729  42.4929  42.6136  42.735\n",
            "  42.8571  42.9799  43.1034  43.2277  43.3526  43.4783  43.6047  43.7318\n",
            "  43.8596  43.9883  44.1176  44.2478  44.3787  44.5104  44.6429  44.7761\n",
            "  44.9102  45.045   45.1807  45.3172  45.4545  45.5927  45.7317  45.8716\n",
            "  46.0123  46.1538  46.2963  46.4396  46.5839  46.729   46.875   47.0219\n",
            "  47.1698  47.3186  47.4684  47.619   47.7707  47.9233  48.0769  48.2315\n",
            "  48.3871  48.5437  48.7013  48.8599  49.0196  49.1803  49.3421  49.505\n",
            "  49.6689  49.8339  50.      50.1672  50.3356  50.5051  50.6757  50.8475\n",
            "  51.0204  51.1945  51.3699  51.5464  51.7241  51.9031  52.0833  52.2648\n",
            "  52.4476  52.6316  52.8169  53.0035  53.1915  53.3808  53.5714  53.7634\n",
            "  53.9568  54.1516  54.3478  54.5455  54.7445  54.9451  55.1471  55.3506\n",
            "  55.5556  55.7621  55.9701  56.1798  56.391   56.6038  56.8182  57.0342\n",
            "  57.2519  57.4713  57.6923  57.9151  58.1395  58.3658  58.5938  58.8235\n",
            "  59.0551  59.2885  59.5238  59.761   60.      60.241   60.4839  60.7287\n",
            "  60.9756  61.2245  61.4754  61.7284  61.9835  62.2407  62.5     62.7615\n",
            "  63.0252  63.2911  63.5593  63.8298  64.1026  64.3777  64.6552  64.9351\n",
            "  65.2174  65.5022  65.7895  66.0793  66.3717  66.6667  66.9643  67.2646\n",
            "  67.5676  67.8733  68.1818  68.4932  68.8073  69.1244  69.4444  69.7674\n",
            "  70.0935  70.4225  70.7547  71.09    71.4286  71.7703  72.1154  72.4638\n",
            "  72.8155  73.1707  73.5294  73.8916  74.2574  74.6269  75.      75.3769\n",
            "  75.7576  76.1421  76.5306  76.9231  77.3196  77.7202  78.125   78.534\n",
            "  78.9474  79.3651  79.7872  80.2139  80.6452  81.0811  81.5217  81.9672\n",
            "  82.4176  82.8729  83.3333  83.7989  84.2697  84.7458  85.2273  85.7143\n",
            "  86.2069  86.7052  87.2093  87.7193  88.2353  88.7574  89.2857  89.8204\n",
            "  90.3614  90.9091  91.4634  92.0245  92.5926  93.1677  93.75    94.3396\n",
            "  94.9367  95.5414  96.1538  96.7742  97.4026  98.0392  98.6842  99.3377\n",
            " 100.     100.671  101.351  102.041  102.74   103.448  104.167  104.895\n",
            " 105.634  106.383  107.143  107.914  108.696  109.489  110.294  111.111\n",
            " 111.94   112.782  113.636  114.504  115.385  116.279  117.188  118.11\n",
            " 119.048 ]\n",
            "\n",
            "\n",
            "P5 : \n",
            "[ 0.03892   0.040217  0.041514 ... 18.0081   18.6658   27.2022  ]\n",
            "\n",
            "\n",
            "P6 : \n",
            "[   128    136    140    144    148    156    160    164    168    184\n",
            "    200    204    216    224    228    232    236    240    244    248\n",
            "    252    256    260    264    268    272    276    280    284    296\n",
            "    300    304    312    316    324    328    332    336    340    344\n",
            "    348    352    356    360    364    368    372    376    380    384\n",
            "    388    392    396    400    404    408    412    416    420    424\n",
            "    428    432    436    440    444    448    452    456    460    464\n",
            "    468    472    476    480    484    488    492    496    500    504\n",
            "    508    512    516    520    524    528    532    536    540    544\n",
            "    548    552    556    560    564    568    572    576    580    584\n",
            "    588    592    596    600    604    608    612    616    620    624\n",
            "    628    632    636    640    644    648    652    656    660    664\n",
            "    668    672    676    680    684    688    692    696    700    704\n",
            "    708    712    716    720    724    728    732    736    740    744\n",
            "    748    752    756    760    764    768    772    776    780    784\n",
            "    788    792    796    800    804    808    812    816    820    824\n",
            "    828    832    836    840    844    848    852    856    860    864\n",
            "    868    872    876    880    884    888    892    896    900    904\n",
            "    908    912    916    920    924    928    932    936    940    944\n",
            "    948    952    956    960    964    968    972    976    980    984\n",
            "    988    992    996   1000   1004   1008   1012   1016   1020   1024\n",
            "   1028   1032   1036   1040   1044   1048   1052   1056   1060   1064\n",
            "   1068   1072   1076   1080   1084   1088   1092   1096   1100   1104\n",
            "   1108   1112   1116   1120   1124   1128   1132   1136   1140   1144\n",
            "   1148   1152   1156   1160   1164   1168   1172   1176   1180   1184\n",
            "   1188   1192   1196   1200   1204   1208   1212   1216   1220   1224\n",
            "   1228   1232   1236   1240   1244   1248   1252   1256   1260   1264\n",
            "   1268   1272   1276   1280   1284   1288   1292   1296   1300   1304\n",
            "   1308   1312   1316   1320   1324   1328   1332   1336   1340   1344\n",
            "   1348   1352   1360   1364   1368   1372   1376   1384   1388   1392\n",
            "   1396   1400   1404   1408   1412   1416   1420   1424   1428   1432\n",
            "   1436   1440   1444   1448   1452   1456   1460   1464   1472   1476\n",
            "   1488   1496   1500   1504   1512   1516   1524   1528   1532   1536\n",
            "   1540   1548   1552   1560   1564   1568   1572   1576   1580   1584\n",
            "   1588   1592   1596   1600   1604   1608   1612   1616   1620   1624\n",
            "   1628   1632   1636   1640   1644   1648   1652   1656   1660   1664\n",
            "   1668   1672   1680   1684   1688   1692   1700   1704   1712   1716\n",
            "   1724   1728   1736   1744   1756   1788   1796   1808   1880   1936\n",
            "   1952   1968   1992   1996   2004   2016   2068   2224   2236   2352\n",
            "   2384   2408   2420   2424   2428   2432   2504   2516   2540   2552\n",
            "   2588   2604   2676   2756   2920   3072   3172   3184   3188   3800\n",
            "   4312   4424   4528   5152   6100   6740   7272  20104 228812]\n",
            "\n",
            "\n",
            "P7 : \n",
            "[2.62224e-01 2.98448e+00 8.25083e+00 8.90208e+00 9.83607e+00 1.16460e+01\n",
            " 1.32509e+01 1.35624e+01 1.39147e+01 1.57895e+01 1.88206e+01 1.88442e+01\n",
            " 1.89155e+01 1.95313e+01 2.05479e+01 2.17707e+01 2.24215e+01 2.30415e+01\n",
            " 2.31839e+01 2.35110e+01 2.36220e+01 2.38474e+01 2.39617e+01 2.46711e+01\n",
            " 2.47117e+01 2.47525e+01 2.47934e+01 2.49169e+01 2.51678e+01 2.55102e+01\n",
            " 2.68336e+01 2.69784e+01 2.90135e+01 2.97619e+01 2.99401e+01 3.00601e+01\n",
            " 3.01205e+01 3.04878e+01 3.07377e+01 3.09917e+01 3.19149e+01 3.31858e+01\n",
            " 3.34076e+01 3.35570e+01 3.41686e+01 3.44037e+01 3.45622e+01 3.47222e+01\n",
            " 3.48028e+01 3.49650e+01 3.50467e+01 3.52113e+01 3.52941e+01 3.54610e+01\n",
            " 3.55450e+01 3.56295e+01 3.57143e+01 3.58852e+01 3.59712e+01 3.60577e+01\n",
            " 3.61446e+01 3.62319e+01 3.63196e+01 3.64078e+01 3.64964e+01 3.65854e+01\n",
            " 3.66748e+01 3.67647e+01 3.68550e+01 3.69458e+01 3.70370e+01 3.71287e+01\n",
            " 3.72208e+01 3.73134e+01 3.74065e+01 3.75000e+01 3.75940e+01 3.76884e+01\n",
            " 3.77834e+01 3.78788e+01 3.79747e+01 3.80711e+01 3.81679e+01 3.82653e+01\n",
            " 3.83632e+01 3.84615e+01 3.86598e+01 3.87597e+01 3.89610e+01 3.90625e+01\n",
            " 3.91645e+01 3.92670e+01 3.93701e+01 3.95778e+01 3.96825e+01 3.98936e+01\n",
            " 4.00000e+01 4.01070e+01 4.03226e+01 4.06504e+01 4.07609e+01 4.09836e+01\n",
            " 4.10959e+01 4.12088e+01 4.13223e+01 4.14365e+01 4.15512e+01 4.16667e+01\n",
            " 4.17827e+01 4.18994e+01 4.20168e+01 4.21348e+01 4.22535e+01 4.23729e+01\n",
            " 4.24929e+01 4.26136e+01 4.27350e+01 4.28571e+01 4.29799e+01 4.31034e+01\n",
            " 4.32277e+01 4.33526e+01 4.36047e+01 4.37318e+01 4.38596e+01 4.39883e+01\n",
            " 4.41176e+01 4.43787e+01 4.45104e+01 4.46429e+01 4.47761e+01 4.49102e+01\n",
            " 4.50450e+01 4.51807e+01 4.53172e+01 4.54545e+01 4.55927e+01 4.57317e+01\n",
            " 4.58716e+01 4.60123e+01 4.61538e+01 4.62963e+01 4.64396e+01 4.65839e+01\n",
            " 4.67290e+01 4.68750e+01 4.70219e+01 4.71698e+01 4.73186e+01 4.74684e+01\n",
            " 4.76190e+01 4.77707e+01 4.79233e+01 4.80769e+01 4.82315e+01 4.83871e+01\n",
            " 4.85437e+01 4.87013e+01 4.88599e+01 4.90196e+01 4.91803e+01 4.93421e+01\n",
            " 4.95050e+01 4.96689e+01 4.98339e+01 5.00000e+01 5.01672e+01 5.03356e+01\n",
            " 5.05051e+01 5.06757e+01 5.08475e+01 5.10204e+01 5.11945e+01 5.13699e+01\n",
            " 5.15464e+01 5.17241e+01 5.19031e+01 5.20833e+01 5.22648e+01 5.24476e+01\n",
            " 5.26316e+01 5.28169e+01 5.30035e+01 5.31915e+01 5.33808e+01 5.35714e+01\n",
            " 5.37634e+01 5.39568e+01 5.41516e+01 5.43478e+01 5.45455e+01 5.47445e+01\n",
            " 5.49451e+01 5.51471e+01 5.53506e+01 5.55556e+01 5.57621e+01 5.59701e+01\n",
            " 5.61798e+01 5.63910e+01 5.66038e+01 5.68182e+01 5.70342e+01 5.72519e+01\n",
            " 5.74713e+01 5.76923e+01 5.79151e+01 5.81395e+01 5.83658e+01 5.85938e+01\n",
            " 5.88235e+01 5.90551e+01 5.92885e+01 5.95238e+01 5.97610e+01 6.00000e+01\n",
            " 6.02410e+01 6.04839e+01 6.07287e+01 6.09756e+01 6.12245e+01 6.14754e+01\n",
            " 6.17284e+01 6.19835e+01 6.22407e+01 6.25000e+01 6.27615e+01 6.30252e+01\n",
            " 6.32911e+01 6.35593e+01 6.38298e+01 6.41026e+01 6.43777e+01 6.46552e+01\n",
            " 6.49351e+01 6.52174e+01 6.55022e+01 6.57895e+01 6.60793e+01 6.63717e+01\n",
            " 6.66667e+01 6.69643e+01 6.72646e+01 6.75676e+01 6.78733e+01 6.81818e+01\n",
            " 6.84932e+01 6.88073e+01 6.91244e+01 6.94444e+01 6.97674e+01 7.00935e+01\n",
            " 7.04225e+01 7.07547e+01 7.10900e+01 7.14286e+01 7.17703e+01 7.21154e+01\n",
            " 7.24638e+01 7.28155e+01 7.31707e+01 7.35294e+01 7.38916e+01 7.42574e+01\n",
            " 7.46269e+01 7.50000e+01 7.53769e+01 7.57576e+01 7.61421e+01 7.65306e+01\n",
            " 7.69231e+01 7.73196e+01 7.77202e+01 7.81250e+01 7.85340e+01 7.89474e+01\n",
            " 7.93651e+01 7.97872e+01 8.02139e+01 8.06452e+01 8.10811e+01 8.15217e+01\n",
            " 8.19672e+01 8.24176e+01 8.28729e+01 8.33333e+01 8.37989e+01 8.42697e+01\n",
            " 8.47458e+01 8.52273e+01 8.57143e+01 8.62069e+01 8.67052e+01 8.72093e+01\n",
            " 8.77193e+01 8.82353e+01 8.87574e+01 8.92857e+01 8.98204e+01 9.03614e+01\n",
            " 9.09091e+01 9.14634e+01 9.20245e+01 9.25926e+01 9.31677e+01 9.37500e+01\n",
            " 9.43396e+01 9.49367e+01 9.55414e+01 9.61538e+01 9.67742e+01 9.74026e+01\n",
            " 9.80392e+01 9.86842e+01 9.93377e+01 1.00000e+02 1.00671e+02 1.01351e+02\n",
            " 1.02041e+02 1.02740e+02 1.03448e+02 1.04167e+02 1.04895e+02 1.05634e+02\n",
            " 1.06383e+02 1.07143e+02 1.07914e+02 1.08696e+02 1.09489e+02 1.10294e+02\n",
            " 1.11111e+02 1.11940e+02 1.12782e+02 1.13636e+02 1.14504e+02 1.15385e+02\n",
            " 1.16279e+02 1.17188e+02 1.18110e+02 1.19048e+02 1.20000e+02 1.20968e+02\n",
            " 1.21951e+02 1.22951e+02 1.23967e+02 1.25000e+02 1.26050e+02 1.27119e+02\n",
            " 1.28205e+02 1.29310e+02 1.30435e+02 1.31579e+02 1.32743e+02 1.33929e+02\n",
            " 1.35135e+02 1.36364e+02 1.37615e+02 1.38889e+02 1.40187e+02 1.41509e+02\n",
            " 1.42857e+02 1.44231e+02 1.45631e+02 1.47059e+02 1.48515e+02 1.50000e+02\n",
            " 1.51515e+02 1.53061e+02 1.54639e+02 1.56250e+02 1.57895e+02 1.59574e+02\n",
            " 1.61290e+02 1.63043e+02 1.64835e+02 1.66667e+02 1.68539e+02 1.70455e+02\n",
            " 1.72414e+02 1.74419e+02 1.76471e+02 1.78571e+02 1.80723e+02 1.82927e+02\n",
            " 1.85185e+02 1.89873e+02 1.92308e+02 1.97368e+02 2.00000e+02 2.02703e+02\n",
            " 2.11268e+02 2.14286e+02 2.17391e+02 2.20588e+02 2.23881e+02 2.27273e+02\n",
            " 2.30769e+02 2.34375e+02 2.38095e+02 2.41935e+02 2.45902e+02 2.50000e+02\n",
            " 2.54237e+02 2.58621e+02 2.63158e+02 2.67857e+02 2.77778e+02 2.94118e+02\n",
            " 3.00000e+02 3.26087e+02 3.57143e+02 3.65854e+02 3.75000e+02 3.84615e+02\n",
            " 4.05405e+02 4.16667e+02 4.28571e+02 4.41176e+02 4.68750e+02]\n",
            "\n",
            "\n",
            "P8 : \n",
            "[0]\n",
            "\n",
            "\n",
            "E1 : \n",
            "[0.00000e+00 1.00000e-03 2.00000e-03 ... 9.68390e+01 1.92974e+02\n",
            " 2.43991e+02]\n",
            "\n",
            "\n",
            "E2 : \n",
            "[0.00000e+00 1.70000e-02 4.20000e-02 ... 3.59938e+02 3.59958e+02\n",
            " 3.59995e+02]\n",
            "\n",
            "\n",
            "E3 : \n",
            "[0 1 4]\n",
            "\n",
            "\n",
            "E4 : \n",
            "[-250 -248 -246 -244 -242 -240 -238 -236 -234 -232 -230 -228 -226 -224\n",
            " -222 -220 -218 -216 -214 -212 -210 -208 -206 -204 -202 -200 -198 -196\n",
            " -194 -192 -190 -188 -186 -184 -182 -180 -178 -176 -174 -172 -170 -168\n",
            " -166 -164 -162 -160 -158 -156 -154 -152 -150 -148 -146 -144 -142 -140\n",
            " -138 -136 -134 -132 -130 -128 -126 -124 -122 -120 -118 -116 -114 -112\n",
            " -110 -108 -106 -104 -102 -100  -98  -96  -94  -92  -90  -88  -86  -84\n",
            "  -82  -80  -78  -76  -74  -72  -70  -68  -66  -64  -62  -60  -58  -56\n",
            "  -54  -52  -50  -48  -46  -44  -42  -40  -38  -36  -34  -32  -30  -28\n",
            "  -26  -24  -22  -20  -18  -16  -14  -12  -10   -8   -6   -4   -2    0\n",
            "    2    4    6    8   10   12   14   16   18   20   22   24   26   28\n",
            "   30   32   34   36   38   40   42   44   46   48   50   52   54   56\n",
            "   58   60   62   64   66   68   70   72   74   76   78   80   82   84\n",
            "   86   88   90   92   94   96   98  100  102  104  106  108  110  112\n",
            "  114  116  118  120  122  124  126  128  130  132  134  136  138  140\n",
            "  142  144  146  148  150  152  154  156  158  160  162  164  166  168\n",
            "  170  172  174  176  178  180  182  184  186  188  190  192  194  196\n",
            "  198  200  202  204  206  208  212  214  216  218  220  222  224  226\n",
            "  228  230  232  234  236  238  240  242  244  246  248  250  254  260]\n",
            "\n",
            "\n",
            "E5 : \n",
            "[0.008    0.008063 0.008126 0.008189 0.008252 0.008315 0.008378 0.008441\n",
            " 0.008504 0.008567 0.00863  0.008693 0.008756 0.008819 0.008882 0.008945\n",
            " 0.009008 0.009071 0.009134 0.009197 0.00926  0.009323 0.009386 0.009449\n",
            " 0.009512 0.009575 0.009638 0.009701 0.009764 0.009827 0.00989  0.009953\n",
            " 0.010016 0.010079 0.010142 0.010205 0.010268 0.010331 0.010394 0.010457\n",
            " 0.01052  0.010583 0.010646 0.010709 0.010772 0.010835 0.010898 0.010961\n",
            " 0.011024 0.011087 0.01115  0.011213 0.011276 0.011339 0.011402 0.011465\n",
            " 0.011528 0.011591 0.011654 0.011717 0.01178  0.011843 0.011906 0.011969\n",
            " 0.012032 0.012095 0.012158 0.012221 0.012284 0.012347 0.01241  0.012473\n",
            " 0.012536 0.012599 0.012662 0.012725 0.012788 0.012851 0.012914 0.012977\n",
            " 0.01304  0.013103 0.013166 0.013229 0.013292 0.013355 0.013418 0.013481\n",
            " 0.013544 0.013607 0.01367  0.013733 0.013796 0.013859 0.013922 0.013985\n",
            " 0.014048 0.014111 0.014174 0.014237 0.0143   0.014363 0.014426 0.014489\n",
            " 0.014552 0.014615 0.014678 0.014741 0.014804 0.014867 0.01493  0.014993\n",
            " 0.015056 0.015119 0.015182 0.015245 0.015308 0.015371 0.015434 0.015497\n",
            " 0.01556  0.015623 0.015686 0.015749 0.015812 0.015875 0.015938 0.016001\n",
            " 0.016064 0.016127 0.01619  0.016253 0.016316 0.016379 0.016442 0.016505\n",
            " 0.016568 0.016631 0.016694 0.016757 0.01682  0.016883 0.016946 0.017009\n",
            " 0.017072 0.017135 0.017198 0.017261 0.017324 0.017387 0.01745  0.017513\n",
            " 0.017576 0.017639 0.017702 0.017765 0.017828 0.017891 0.017954 0.018017\n",
            " 0.01808  0.018143 0.018206 0.018269 0.018332 0.018395 0.018458 0.018521\n",
            " 0.018584 0.018647 0.01871  0.018773 0.018836 0.018899 0.018962 0.019025\n",
            " 0.019088 0.019151 0.019214 0.019277 0.01934  0.019403 0.019466 0.019529\n",
            " 0.019592 0.019655 0.019718 0.019781 0.019844 0.019907 0.01997  0.020033\n",
            " 0.020096 0.020159 0.020222 0.020285 0.020348 0.020411 0.020474 0.020537\n",
            " 0.0206   0.020663 0.020726 0.020789 0.020852 0.020915 0.020978 0.021041\n",
            " 0.021104 0.021167 0.02123  0.021293 0.021356 0.021419 0.021482 0.021545\n",
            " 0.021608 0.021671 0.021734 0.021797 0.02186  0.021923 0.021986 0.022049\n",
            " 0.022112 0.022175 0.022238 0.022301 0.022364 0.022427 0.02249  0.022553\n",
            " 0.022616 0.022679 0.022742 0.022805 0.022868 0.022931 0.022994 0.023057\n",
            " 0.02312  0.023183 0.023246 0.023309 0.023372 0.023435 0.023498 0.023561\n",
            " 0.023624 0.023687 0.02375  0.023813 0.023876 0.023939]\n",
            "\n",
            "\n",
            "E6 : \n",
            "[260 261 262 263 264 265 266 267 268 269 270 271 272 273 274 275 276 277\n",
            " 278 279 280 281 282 283 284 285 286 287 288 289 290 291 292 293 294 295\n",
            " 296 297 298 299 300 301 302 303 304 305 306 307 308 309 310 311 312 313\n",
            " 314 315 316 317 318 319 320 321 322 323 324 325 326 327 328 329 330 331\n",
            " 332 333 334 335 336 337 338 339 340 341 342 343 344 345 346 347 348 349\n",
            " 350 351 352 353 354 355 356 357 358 359 360 361 362 363 364 365 366 367\n",
            " 368 369 370 371 372 373 374 375 376 377 378 379 380 381 382 383 384 385\n",
            " 386 387 388 389 390 391 392 393 394 395 396 397 398 399 400 401 402 403\n",
            " 404 405 406 407 408 409 410 411 412 413 414 415 416 417 418 419 420 421\n",
            " 422 423 424 425 426 427 428 429 430 431 432 433 434 435 436 437 438 439\n",
            " 440 441 442 443 444 445 446 447 448 449 450 451 452 453 454 455 456 457\n",
            " 458 459 460 461 462 463 464 465 466 467 468 469 470 471 472 473 474 475\n",
            " 476 478 479 480 481 482 483 484 487 488 489 490 491 493 495 496 497 499\n",
            " 500 502 503 504 505 506 507 508 509 510 511 512 513]\n",
            "\n",
            "\n",
            "E7 : \n",
            "[ 0  1  2  3  4  5  6  7  8  9 10 11 12 13 14 15 16 17 18 19 20 21 22 23\n",
            " 24 25]\n",
            "\n",
            "\n",
            "E8 : \n",
            "[0 1 2 3 4 5 6 7 8 9]\n",
            "\n",
            "\n",
            "E9 : \n",
            "[0 1]\n",
            "\n",
            "\n",
            "E10 : \n",
            "[  0   1   2   3   4   5   6   7   8   9  10  11  12  13  14  15  16  17\n",
            "  18  19  20  21  22  23  24  25  26  27  28  29  30  31  32  33  34  35\n",
            "  36  37  38  39  40  41  42  43  44  45  46  47  48  49  50  51  52  53\n",
            "  54  55  56  57  58  59  60  61  62  63  64  65  66  67  68  69  70  71\n",
            "  72  73  74  75  76  77  78  79  80  81  82  83  84  85  86  87  88  89\n",
            "  90  91  92  93  94  95  96  97  98  99 100 101 102 104 105 106 107 108\n",
            " 109 110 111 113 114 115 116 117 119 122 123 124 125 126 127]\n",
            "\n",
            "\n",
            "E11 : \n",
            "[ 0.   0.4  0.8  1.2  1.6  2.   2.4  2.8  3.2  3.6  4.   4.4  4.8  5.2\n",
            "  5.6  6.   6.4  6.8  7.2  7.6  8.   8.4  8.8  9.2  9.6 10.  10.4 10.8\n",
            " 11.2 11.6 12.  12.4 12.8 13.2 13.6 14.  14.4 14.8 15.2 15.6 16.  16.4\n",
            " 16.8 17.2 17.6 18.  18.4 18.8 19.2 19.6 20.  20.4 20.8 21.2 21.6 22.\n",
            " 22.4 22.8 23.2 23.6 24.  24.4 24.8 25.2 25.6 26.  26.4 26.8 27.2 27.6\n",
            " 28.  28.4 28.8 29.2 29.6 30.  30.4 30.8 31.2 31.6 32.  32.4 32.8 33.2\n",
            " 33.6 34.  34.4 34.8 35.2 35.6 36.  36.4 36.8 37.2 37.6 38.  38.4 38.8\n",
            " 39.2 39.6 40.4 40.8 41.2 41.6 42.  43.6 44.8 45.2 45.6 46.  46.4 47.6\n",
            " 49.6 50.  50.4 50.8 51.2 51.6 52.  52.4]\n",
            "\n",
            "\n",
            "V1 : \n",
            "[  0.     0.69   0.7  ... 129.48 129.49 129.7 ]\n",
            "\n",
            "\n",
            "V2 : \n",
            "[-4.795 -4.69  -4.48  -4.375 -4.305 -4.2   -4.095 -3.99  -3.885 -3.815\n",
            " -3.71  -3.605 -3.5   -3.395 -3.325 -3.22  -3.115 -3.01  -2.905 -2.835\n",
            " -2.73  -2.625 -2.52  -2.415 -2.345 -2.24  -2.135 -2.03  -1.925 -1.855\n",
            " -1.75  -1.645 -1.54  -1.435 -1.365 -1.26  -1.155 -1.05  -0.945 -0.875\n",
            " -0.77  -0.665 -0.56  -0.455 -0.385 -0.28  -0.175 -0.07   0.     0.07\n",
            "  0.175  0.28   0.385  0.455  0.56   0.665  0.77   0.875  0.945  1.05\n",
            "  1.155  1.26   1.365  1.435  1.54   1.645  1.75   1.855  1.925  2.03\n",
            "  2.135  2.24   2.345  2.415  2.52   2.625  2.73   2.835  2.905  3.01\n",
            "  3.115  3.22   3.325  3.395  3.5    3.605  3.71   3.815  3.885  3.99 ]\n",
            "\n",
            "\n",
            "V3 : \n",
            "[ 240  241  242  243  244  252  253  254  255  496  497  498  499  508\n",
            "  509  510  511  752  753  754  755  756  764  765  766  767 1008 1009\n",
            " 1010 1011 1020 1021 1022 1023]\n",
            "\n",
            "\n",
            "V4 : \n",
            "[  0.        1.4875    3.01875   4.50625   5.99375   7.48125   9.0125\n",
            "  10.5      11.9875   13.5188   15.0063   16.4937   17.9812   19.5125\n",
            "  21.       22.4875   24.0188   25.5063   26.9937   28.4812   30.0125\n",
            "  31.5      32.9875   34.5187   36.0063   37.4937   38.9813   40.5125\n",
            "  42.       43.4875   45.0187   46.5063   47.9937   49.4813   51.0125\n",
            "  52.5      53.9875   55.5187   57.0063   58.4937   59.9813   61.5125\n",
            "  63.       64.4875   66.0187   67.5062   68.9938   70.4813   72.0125\n",
            "  73.5      74.9875   76.5187   78.0062   79.4938   80.9813   82.5125\n",
            "  84.       85.4875   87.0187   88.5062   89.9938   91.4813   93.0125\n",
            "  94.5      95.9875   97.5187   99.0062  100.494   101.981   103.513\n",
            " 105.      106.488   108.019   109.506   110.994   112.481   114.013\n",
            " 115.5     116.988   118.519   120.006   121.494   122.981   124.513\n",
            " 126.      127.488   129.019   130.506   131.994   133.481   135.012\n",
            " 136.5     137.988   139.519   141.006   142.494   143.981   145.512\n",
            " 147.      148.488   150.019   151.506   152.994   154.481   156.012\n",
            " 157.5     158.988   160.519   162.006   163.494   164.981   166.512\n",
            " 168.      169.488   171.019   172.506   173.994   175.481   177.012\n",
            " 178.5     179.988   181.519   183.006   184.494   185.981   187.512\n",
            " 189.      190.488   192.019   193.506   194.994   196.481   198.012\n",
            " 199.5     200.988   202.475   204.006   205.494   206.981   208.512\n",
            " 210.      211.488   212.975   214.506   215.994   217.481   219.012\n",
            " 220.5     221.988   223.475   225.006   226.494   227.981   229.512\n",
            " 231.      232.488   233.975   235.506   236.994   238.481   240.012\n",
            " 241.5     242.988   244.475   246.006   247.494   248.981   250.512\n",
            " 252.      253.488   254.975   256.506   257.994   259.481   261.012\n",
            " 262.5     263.988   265.475   267.006   268.494   269.981   271.512\n",
            " 273.      274.488   275.975   277.506   278.994   280.481   282.012\n",
            " 283.5     284.988   286.475   288.006   289.494   290.981   292.512\n",
            " 294.      295.488   296.975   298.506   299.994   301.481   303.012\n",
            " 304.5     305.988   307.475   309.006   310.494   311.981   313.512\n",
            " 315.      316.488   317.975   319.506   320.994   322.481   324.012\n",
            " 325.5     326.988   328.475   330.006   331.494   332.981   334.512\n",
            " 336.      337.488   338.975   340.506   341.994   343.481   345.012\n",
            " 346.5     347.988   349.475   351.006   352.494   353.981   355.512\n",
            " 357.      358.488   359.975   361.506   362.994   364.481   366.012\n",
            " 367.5     368.988   370.475   372.006   373.494   374.981   376.512\n",
            " 378.      379.488   380.975   382.506   383.994   385.481   387.012\n",
            " 388.5     389.988   391.475   393.006   394.494   395.981   397.512\n",
            " 399.      400.488   401.975   403.506   404.994   406.481   408.012\n",
            " 409.5     410.988   412.475   414.006   415.494   416.981   418.512\n",
            " 420.      421.488   422.975   424.506   425.994   427.481   429.012\n",
            " 430.5     431.988   433.475   435.006   436.494   437.981   439.512\n",
            " 441.      442.488   443.975   445.506   446.994   448.481   450.012\n",
            " 451.5     452.988   454.475   456.006   457.494   458.981   460.512\n",
            " 462.      463.488   464.975   466.506   467.994   469.481   471.012\n",
            " 472.5     473.988   475.475   477.006   478.494   479.981   481.512\n",
            " 483.      484.488  ]\n",
            "\n",
            "\n",
            "V5 : \n",
            "[0 1]\n",
            "\n",
            "\n",
            "V6 : \n",
            "[   0   91  110 ... 4802 4817 4892]\n",
            "\n",
            "\n",
            "V7 : \n",
            "[0]\n",
            "\n",
            "\n",
            "V8 : \n",
            "[ 0.   0.2  0.4  0.6  0.8  1.   1.3  1.5  1.7  1.9  2.1  2.3  2.6  2.8\n",
            "  3.   3.2  3.4  3.6  3.9  4.1  4.3  4.5  4.7  4.9  5.2  5.4  5.6  5.8\n",
            "  6.   6.3  6.5  6.7  6.9  7.1  7.3  7.6  7.8  8.   8.2  8.4  8.6  8.9\n",
            "  9.1  9.3  9.5  9.7  9.9 10.2 10.4 10.6 10.8 11.  11.3 11.5 11.7 11.9\n",
            " 12.1 12.3 12.6 12.8 13.  13.2 13.4 13.6 13.9 14.1 14.3 14.5 14.7 14.9\n",
            " 15.2 15.4 15.6 15.8 16.  16.3 16.5 16.7 16.9 17.1 17.3 17.6 17.8 18.\n",
            " 18.2 18.4 18.6 18.9 19.1 19.3 19.5 19.7 19.9 20.2 20.4 20.6 20.8 21.\n",
            " 21.3 21.5 21.7 21.9 22.1 22.3 22.6 22.8 23.  23.2 23.4 23.6 23.9 24.1\n",
            " 24.3 24.5 24.7 25.  25.2 25.4 25.6 25.8 26.  26.3 26.5 26.7 26.9 27.1\n",
            " 27.3 27.6 27.8 28.  28.2 28.4 28.6 28.9 29.1 29.3 29.5 29.7 29.9 30.2\n",
            " 30.4 30.6 30.8 31.  31.3 31.5 31.7 31.9 32.1 32.3 32.6 32.8 33.  33.2\n",
            " 33.4 33.6 33.9 34.1 34.3 34.5 34.7 34.9 35.2 35.4 35.6 35.8 36.  36.3\n",
            " 36.5 36.7 36.9 37.1 37.3 37.6 37.8 38.  38.2 38.4 38.6 38.9 39.1 39.3\n",
            " 39.5 39.7 39.9 40.2 40.4 40.6 40.8 41.  41.3 41.5 41.7 41.9 42.1 42.3\n",
            " 42.6 42.8 43.  43.2 43.4 43.6 43.9 44.1 44.3 44.5 44.7 44.9 45.2 45.4\n",
            " 45.6 45.8 46.  46.3 46.5 46.7 46.9 47.1 47.3 47.6 47.8 48.  48.2 48.4\n",
            " 48.6 48.9 49.1 49.3 49.5 49.7 50.  50.2 50.4 50.6 50.8 51.  51.3 51.5\n",
            " 51.7 51.9 52.1 52.3 52.6 52.8 53.  53.2 53.4 53.6 53.9 54.1 54.3 54.5\n",
            " 54.7 54.9 55.2 55.4 55.6 55.8 56.  56.3 56.5 56.7 56.9 57.1 57.3 57.6\n",
            " 57.8 58.  58.2 58.4 58.6 58.9 59.1 59.3 59.5 59.7 59.9 60.2 60.4 60.6\n",
            " 60.8 61.  61.3 61.5 61.7 61.9 62.1 62.3 62.6 62.8 63.  63.2 63.4 63.6\n",
            " 63.9 64.1 64.3 64.5 64.7 64.9 65.4 65.8 66.  66.5 66.9 67.8 68.  68.9\n",
            " 69.1 69.3 70.4 71.3 71.5 71.7 72.1 72.3 72.6 72.8 73.2 75.2 77.8 79.7\n",
            " 82.1]\n",
            "\n",
            "\n",
            "V9 : \n",
            "[0]\n",
            "\n",
            "\n",
            "V10 : \n",
            "[1 2 3 4 7]\n",
            "\n",
            "\n",
            "V11 : \n",
            "[  1.67673   1.67721   1.67885 ... 262.502   262.522   262.534  ]\n",
            "\n",
            "\n"
          ]
        }
      ],
      "source": [
        "for column in driver_train_df.columns:\n",
        "  print(column + ' : ')\n",
        "  print(np.unique(driver_train_df[column]))\n",
        "  print('\\n')"
      ]
    },
    {
      "cell_type": "markdown",
      "metadata": {
        "id": "siJeB2NIWGrc"
      },
      "source": [
        "Since V7,V9 and P8 contain only one value 0 we will drop these columns"
      ]
    },
    {
      "cell_type": "code",
      "execution_count": null,
      "metadata": {
        "id": "blfhbePdWGCc"
      },
      "outputs": [],
      "source": [
        "driver_train_df.drop('V9', inplace=True, axis=1)"
      ]
    },
    {
      "cell_type": "code",
      "execution_count": null,
      "metadata": {
        "id": "5lw6oFuBXHx8"
      },
      "outputs": [],
      "source": [
        "driver_train_df.drop('V7', inplace=True, axis=1)"
      ]
    },
    {
      "cell_type": "code",
      "execution_count": null,
      "metadata": {
        "id": "DpGgyIURXLJy"
      },
      "outputs": [],
      "source": [
        "driver_train_df.drop('P8', inplace=True, axis=1)"
      ]
    },
    {
      "cell_type": "code",
      "execution_count": null,
      "metadata": {
        "colab": {
          "base_uri": "https://localhost:8080/",
          "height": 424
        },
        "id": "G_SaFIyrXKhJ",
        "outputId": "95d61239-26b1-4b15-8845-f5e324c9344d"
      },
      "outputs": [
        {
          "output_type": "execute_result",
          "data": {
            "text/plain": [
              "        TrialID  ObsNum  IsAlert       P1        P2    P3       P4        P5  \\\n",
              "0             0       0        0  34.7406   9.84593  1400  42.8571  0.290601   \n",
              "1             0       1        0  34.4215  13.41120  1400  42.8571  0.290601   \n",
              "2             0       2        0  34.3447  15.18520  1400  42.8571  0.290601   \n",
              "3             0       3        0  34.3421   8.84696  1400  42.8571  0.290601   \n",
              "4             0       4        0  34.3322  14.69940  1400  42.8571  0.290601   \n",
              "...         ...     ...      ...      ...       ...   ...      ...       ...   \n",
              "604324      510    1194        1  32.0051  10.13240   800  75.0000  0.081731   \n",
              "604325      510    1195        1  32.0393  12.45040   800  75.0000  0.081731   \n",
              "604326      510    1196        1  32.0762  10.06180   800  75.0000  0.081731   \n",
              "604327      510    1197        1  32.1154  17.84500   800  75.0000  0.081731   \n",
              "604328      510    1198        1  32.1154  17.84500   800  75.0000  0.081731   \n",
              "\n",
              "         P6        P7  ...  E11      V1     V2   V3       V4  V5    V6    V8  \\\n",
              "0       572  104.8950  ...  0.0  101.96  0.175  752  5.99375   0  2005  13.4   \n",
              "1       572  104.8950  ...  0.0  101.98  0.455  752  5.99375   0  2007  13.4   \n",
              "2       576  104.1670  ...  0.0  101.97  0.280  752  5.99375   0  2011  13.4   \n",
              "3       576  104.1670  ...  0.0  101.99  0.070  752  5.99375   0  2015  13.4   \n",
              "4       576  104.1670  ...  0.0  102.07  0.175  752  5.99375   0  2017  13.4   \n",
              "...     ...       ...  ...  ...     ...    ...  ...      ...  ..   ...   ...   \n",
              "604324  680   88.2353  ...  0.0   91.51  0.280  240  3.01875   0  1801  30.4   \n",
              "604325  680   88.2353  ...  0.0   91.51  0.280  240  3.01875   0  1801  30.4   \n",
              "604326  680   88.2353  ...  0.0   91.56  0.175  240  3.01875   0  1800  31.3   \n",
              "604327  680   88.2353  ...  0.0   91.56  0.175  240  3.01875   0  1800  31.3   \n",
              "604328  680   88.2353  ...  0.0   91.56  0.175  240  3.01875   0  1800  31.3   \n",
              "\n",
              "        V10      V11  \n",
              "0         4  14.8004  \n",
              "1         4  14.7729  \n",
              "2         4  14.7736  \n",
              "3         4  14.7667  \n",
              "4         4  14.7757  \n",
              "...     ...      ...  \n",
              "604324    4  15.8113  \n",
              "604325    4  15.8018  \n",
              "604326    4  15.8120  \n",
              "604327    4  15.8270  \n",
              "604328    4  15.8270  \n",
              "\n",
              "[604329 rows x 30 columns]"
            ],
            "text/html": [
              "\n",
              "  <div id=\"df-93967958-4f27-4662-805e-0b133547eab0\">\n",
              "    <div class=\"colab-df-container\">\n",
              "      <div>\n",
              "<style scoped>\n",
              "    .dataframe tbody tr th:only-of-type {\n",
              "        vertical-align: middle;\n",
              "    }\n",
              "\n",
              "    .dataframe tbody tr th {\n",
              "        vertical-align: top;\n",
              "    }\n",
              "\n",
              "    .dataframe thead th {\n",
              "        text-align: right;\n",
              "    }\n",
              "</style>\n",
              "<table border=\"1\" class=\"dataframe\">\n",
              "  <thead>\n",
              "    <tr style=\"text-align: right;\">\n",
              "      <th></th>\n",
              "      <th>TrialID</th>\n",
              "      <th>ObsNum</th>\n",
              "      <th>IsAlert</th>\n",
              "      <th>P1</th>\n",
              "      <th>P2</th>\n",
              "      <th>P3</th>\n",
              "      <th>P4</th>\n",
              "      <th>P5</th>\n",
              "      <th>P6</th>\n",
              "      <th>P7</th>\n",
              "      <th>...</th>\n",
              "      <th>E11</th>\n",
              "      <th>V1</th>\n",
              "      <th>V2</th>\n",
              "      <th>V3</th>\n",
              "      <th>V4</th>\n",
              "      <th>V5</th>\n",
              "      <th>V6</th>\n",
              "      <th>V8</th>\n",
              "      <th>V10</th>\n",
              "      <th>V11</th>\n",
              "    </tr>\n",
              "  </thead>\n",
              "  <tbody>\n",
              "    <tr>\n",
              "      <th>0</th>\n",
              "      <td>0</td>\n",
              "      <td>0</td>\n",
              "      <td>0</td>\n",
              "      <td>34.7406</td>\n",
              "      <td>9.84593</td>\n",
              "      <td>1400</td>\n",
              "      <td>42.8571</td>\n",
              "      <td>0.290601</td>\n",
              "      <td>572</td>\n",
              "      <td>104.8950</td>\n",
              "      <td>...</td>\n",
              "      <td>0.0</td>\n",
              "      <td>101.96</td>\n",
              "      <td>0.175</td>\n",
              "      <td>752</td>\n",
              "      <td>5.99375</td>\n",
              "      <td>0</td>\n",
              "      <td>2005</td>\n",
              "      <td>13.4</td>\n",
              "      <td>4</td>\n",
              "      <td>14.8004</td>\n",
              "    </tr>\n",
              "    <tr>\n",
              "      <th>1</th>\n",
              "      <td>0</td>\n",
              "      <td>1</td>\n",
              "      <td>0</td>\n",
              "      <td>34.4215</td>\n",
              "      <td>13.41120</td>\n",
              "      <td>1400</td>\n",
              "      <td>42.8571</td>\n",
              "      <td>0.290601</td>\n",
              "      <td>572</td>\n",
              "      <td>104.8950</td>\n",
              "      <td>...</td>\n",
              "      <td>0.0</td>\n",
              "      <td>101.98</td>\n",
              "      <td>0.455</td>\n",
              "      <td>752</td>\n",
              "      <td>5.99375</td>\n",
              "      <td>0</td>\n",
              "      <td>2007</td>\n",
              "      <td>13.4</td>\n",
              "      <td>4</td>\n",
              "      <td>14.7729</td>\n",
              "    </tr>\n",
              "    <tr>\n",
              "      <th>2</th>\n",
              "      <td>0</td>\n",
              "      <td>2</td>\n",
              "      <td>0</td>\n",
              "      <td>34.3447</td>\n",
              "      <td>15.18520</td>\n",
              "      <td>1400</td>\n",
              "      <td>42.8571</td>\n",
              "      <td>0.290601</td>\n",
              "      <td>576</td>\n",
              "      <td>104.1670</td>\n",
              "      <td>...</td>\n",
              "      <td>0.0</td>\n",
              "      <td>101.97</td>\n",
              "      <td>0.280</td>\n",
              "      <td>752</td>\n",
              "      <td>5.99375</td>\n",
              "      <td>0</td>\n",
              "      <td>2011</td>\n",
              "      <td>13.4</td>\n",
              "      <td>4</td>\n",
              "      <td>14.7736</td>\n",
              "    </tr>\n",
              "    <tr>\n",
              "      <th>3</th>\n",
              "      <td>0</td>\n",
              "      <td>3</td>\n",
              "      <td>0</td>\n",
              "      <td>34.3421</td>\n",
              "      <td>8.84696</td>\n",
              "      <td>1400</td>\n",
              "      <td>42.8571</td>\n",
              "      <td>0.290601</td>\n",
              "      <td>576</td>\n",
              "      <td>104.1670</td>\n",
              "      <td>...</td>\n",
              "      <td>0.0</td>\n",
              "      <td>101.99</td>\n",
              "      <td>0.070</td>\n",
              "      <td>752</td>\n",
              "      <td>5.99375</td>\n",
              "      <td>0</td>\n",
              "      <td>2015</td>\n",
              "      <td>13.4</td>\n",
              "      <td>4</td>\n",
              "      <td>14.7667</td>\n",
              "    </tr>\n",
              "    <tr>\n",
              "      <th>4</th>\n",
              "      <td>0</td>\n",
              "      <td>4</td>\n",
              "      <td>0</td>\n",
              "      <td>34.3322</td>\n",
              "      <td>14.69940</td>\n",
              "      <td>1400</td>\n",
              "      <td>42.8571</td>\n",
              "      <td>0.290601</td>\n",
              "      <td>576</td>\n",
              "      <td>104.1670</td>\n",
              "      <td>...</td>\n",
              "      <td>0.0</td>\n",
              "      <td>102.07</td>\n",
              "      <td>0.175</td>\n",
              "      <td>752</td>\n",
              "      <td>5.99375</td>\n",
              "      <td>0</td>\n",
              "      <td>2017</td>\n",
              "      <td>13.4</td>\n",
              "      <td>4</td>\n",
              "      <td>14.7757</td>\n",
              "    </tr>\n",
              "    <tr>\n",
              "      <th>...</th>\n",
              "      <td>...</td>\n",
              "      <td>...</td>\n",
              "      <td>...</td>\n",
              "      <td>...</td>\n",
              "      <td>...</td>\n",
              "      <td>...</td>\n",
              "      <td>...</td>\n",
              "      <td>...</td>\n",
              "      <td>...</td>\n",
              "      <td>...</td>\n",
              "      <td>...</td>\n",
              "      <td>...</td>\n",
              "      <td>...</td>\n",
              "      <td>...</td>\n",
              "      <td>...</td>\n",
              "      <td>...</td>\n",
              "      <td>...</td>\n",
              "      <td>...</td>\n",
              "      <td>...</td>\n",
              "      <td>...</td>\n",
              "      <td>...</td>\n",
              "    </tr>\n",
              "    <tr>\n",
              "      <th>604324</th>\n",
              "      <td>510</td>\n",
              "      <td>1194</td>\n",
              "      <td>1</td>\n",
              "      <td>32.0051</td>\n",
              "      <td>10.13240</td>\n",
              "      <td>800</td>\n",
              "      <td>75.0000</td>\n",
              "      <td>0.081731</td>\n",
              "      <td>680</td>\n",
              "      <td>88.2353</td>\n",
              "      <td>...</td>\n",
              "      <td>0.0</td>\n",
              "      <td>91.51</td>\n",
              "      <td>0.280</td>\n",
              "      <td>240</td>\n",
              "      <td>3.01875</td>\n",
              "      <td>0</td>\n",
              "      <td>1801</td>\n",
              "      <td>30.4</td>\n",
              "      <td>4</td>\n",
              "      <td>15.8113</td>\n",
              "    </tr>\n",
              "    <tr>\n",
              "      <th>604325</th>\n",
              "      <td>510</td>\n",
              "      <td>1195</td>\n",
              "      <td>1</td>\n",
              "      <td>32.0393</td>\n",
              "      <td>12.45040</td>\n",
              "      <td>800</td>\n",
              "      <td>75.0000</td>\n",
              "      <td>0.081731</td>\n",
              "      <td>680</td>\n",
              "      <td>88.2353</td>\n",
              "      <td>...</td>\n",
              "      <td>0.0</td>\n",
              "      <td>91.51</td>\n",
              "      <td>0.280</td>\n",
              "      <td>240</td>\n",
              "      <td>3.01875</td>\n",
              "      <td>0</td>\n",
              "      <td>1801</td>\n",
              "      <td>30.4</td>\n",
              "      <td>4</td>\n",
              "      <td>15.8018</td>\n",
              "    </tr>\n",
              "    <tr>\n",
              "      <th>604326</th>\n",
              "      <td>510</td>\n",
              "      <td>1196</td>\n",
              "      <td>1</td>\n",
              "      <td>32.0762</td>\n",
              "      <td>10.06180</td>\n",
              "      <td>800</td>\n",
              "      <td>75.0000</td>\n",
              "      <td>0.081731</td>\n",
              "      <td>680</td>\n",
              "      <td>88.2353</td>\n",
              "      <td>...</td>\n",
              "      <td>0.0</td>\n",
              "      <td>91.56</td>\n",
              "      <td>0.175</td>\n",
              "      <td>240</td>\n",
              "      <td>3.01875</td>\n",
              "      <td>0</td>\n",
              "      <td>1800</td>\n",
              "      <td>31.3</td>\n",
              "      <td>4</td>\n",
              "      <td>15.8120</td>\n",
              "    </tr>\n",
              "    <tr>\n",
              "      <th>604327</th>\n",
              "      <td>510</td>\n",
              "      <td>1197</td>\n",
              "      <td>1</td>\n",
              "      <td>32.1154</td>\n",
              "      <td>17.84500</td>\n",
              "      <td>800</td>\n",
              "      <td>75.0000</td>\n",
              "      <td>0.081731</td>\n",
              "      <td>680</td>\n",
              "      <td>88.2353</td>\n",
              "      <td>...</td>\n",
              "      <td>0.0</td>\n",
              "      <td>91.56</td>\n",
              "      <td>0.175</td>\n",
              "      <td>240</td>\n",
              "      <td>3.01875</td>\n",
              "      <td>0</td>\n",
              "      <td>1800</td>\n",
              "      <td>31.3</td>\n",
              "      <td>4</td>\n",
              "      <td>15.8270</td>\n",
              "    </tr>\n",
              "    <tr>\n",
              "      <th>604328</th>\n",
              "      <td>510</td>\n",
              "      <td>1198</td>\n",
              "      <td>1</td>\n",
              "      <td>32.1154</td>\n",
              "      <td>17.84500</td>\n",
              "      <td>800</td>\n",
              "      <td>75.0000</td>\n",
              "      <td>0.081731</td>\n",
              "      <td>680</td>\n",
              "      <td>88.2353</td>\n",
              "      <td>...</td>\n",
              "      <td>0.0</td>\n",
              "      <td>91.56</td>\n",
              "      <td>0.175</td>\n",
              "      <td>240</td>\n",
              "      <td>3.01875</td>\n",
              "      <td>0</td>\n",
              "      <td>1800</td>\n",
              "      <td>31.3</td>\n",
              "      <td>4</td>\n",
              "      <td>15.8270</td>\n",
              "    </tr>\n",
              "  </tbody>\n",
              "</table>\n",
              "<p>604329 rows × 30 columns</p>\n",
              "</div>\n",
              "      <button class=\"colab-df-convert\" onclick=\"convertToInteractive('df-93967958-4f27-4662-805e-0b133547eab0')\"\n",
              "              title=\"Convert this dataframe to an interactive table.\"\n",
              "              style=\"display:none;\">\n",
              "        \n",
              "  <svg xmlns=\"http://www.w3.org/2000/svg\" height=\"24px\"viewBox=\"0 0 24 24\"\n",
              "       width=\"24px\">\n",
              "    <path d=\"M0 0h24v24H0V0z\" fill=\"none\"/>\n",
              "    <path d=\"M18.56 5.44l.94 2.06.94-2.06 2.06-.94-2.06-.94-.94-2.06-.94 2.06-2.06.94zm-11 1L8.5 8.5l.94-2.06 2.06-.94-2.06-.94L8.5 2.5l-.94 2.06-2.06.94zm10 10l.94 2.06.94-2.06 2.06-.94-2.06-.94-.94-2.06-.94 2.06-2.06.94z\"/><path d=\"M17.41 7.96l-1.37-1.37c-.4-.4-.92-.59-1.43-.59-.52 0-1.04.2-1.43.59L10.3 9.45l-7.72 7.72c-.78.78-.78 2.05 0 2.83L4 21.41c.39.39.9.59 1.41.59.51 0 1.02-.2 1.41-.59l7.78-7.78 2.81-2.81c.8-.78.8-2.07 0-2.86zM5.41 20L4 18.59l7.72-7.72 1.47 1.35L5.41 20z\"/>\n",
              "  </svg>\n",
              "      </button>\n",
              "      \n",
              "  <style>\n",
              "    .colab-df-container {\n",
              "      display:flex;\n",
              "      flex-wrap:wrap;\n",
              "      gap: 12px;\n",
              "    }\n",
              "\n",
              "    .colab-df-convert {\n",
              "      background-color: #E8F0FE;\n",
              "      border: none;\n",
              "      border-radius: 50%;\n",
              "      cursor: pointer;\n",
              "      display: none;\n",
              "      fill: #1967D2;\n",
              "      height: 32px;\n",
              "      padding: 0 0 0 0;\n",
              "      width: 32px;\n",
              "    }\n",
              "\n",
              "    .colab-df-convert:hover {\n",
              "      background-color: #E2EBFA;\n",
              "      box-shadow: 0px 1px 2px rgba(60, 64, 67, 0.3), 0px 1px 3px 1px rgba(60, 64, 67, 0.15);\n",
              "      fill: #174EA6;\n",
              "    }\n",
              "\n",
              "    [theme=dark] .colab-df-convert {\n",
              "      background-color: #3B4455;\n",
              "      fill: #D2E3FC;\n",
              "    }\n",
              "\n",
              "    [theme=dark] .colab-df-convert:hover {\n",
              "      background-color: #434B5C;\n",
              "      box-shadow: 0px 1px 3px 1px rgba(0, 0, 0, 0.15);\n",
              "      filter: drop-shadow(0px 1px 2px rgba(0, 0, 0, 0.3));\n",
              "      fill: #FFFFFF;\n",
              "    }\n",
              "  </style>\n",
              "\n",
              "      <script>\n",
              "        const buttonEl =\n",
              "          document.querySelector('#df-93967958-4f27-4662-805e-0b133547eab0 button.colab-df-convert');\n",
              "        buttonEl.style.display =\n",
              "          google.colab.kernel.accessAllowed ? 'block' : 'none';\n",
              "\n",
              "        async function convertToInteractive(key) {\n",
              "          const element = document.querySelector('#df-93967958-4f27-4662-805e-0b133547eab0');\n",
              "          const dataTable =\n",
              "            await google.colab.kernel.invokeFunction('convertToInteractive',\n",
              "                                                     [key], {});\n",
              "          if (!dataTable) return;\n",
              "\n",
              "          const docLinkHtml = 'Like what you see? Visit the ' +\n",
              "            '<a target=\"_blank\" href=https://colab.research.google.com/notebooks/data_table.ipynb>data table notebook</a>'\n",
              "            + ' to learn more about interactive tables.';\n",
              "          element.innerHTML = '';\n",
              "          dataTable['output_type'] = 'display_data';\n",
              "          await google.colab.output.renderOutput(dataTable, element);\n",
              "          const docLink = document.createElement('div');\n",
              "          docLink.innerHTML = docLinkHtml;\n",
              "          element.appendChild(docLink);\n",
              "        }\n",
              "      </script>\n",
              "    </div>\n",
              "  </div>\n",
              "  "
            ]
          },
          "metadata": {},
          "execution_count": 33
        }
      ],
      "source": [
        "driver_train_df"
      ]
    },
    {
      "cell_type": "code",
      "execution_count": null,
      "metadata": {
        "colab": {
          "base_uri": "https://localhost:8080/",
          "height": 87
        },
        "id": "55LIDBMcSGY7",
        "outputId": "93ee630f-b5bf-46f7-e2a9-a4ec63c1c8cb"
      },
      "outputs": [
        {
          "output_type": "stream",
          "name": "stdout",
          "text": [
            "[jovian] Detected Colab notebook...\u001b[0m\n",
            "[jovian] Uploading colab notebook to Jovian...\u001b[0m\n",
            "Committed successfully! https://jovian.ai/debg48/driver-alert\n"
          ]
        },
        {
          "output_type": "execute_result",
          "data": {
            "text/plain": [
              "'https://jovian.ai/debg48/driver-alert'"
            ],
            "application/vnd.google.colaboratory.intrinsic+json": {
              "type": "string"
            }
          },
          "metadata": {},
          "execution_count": 34
        }
      ],
      "source": [
        "jovian.commit()"
      ]
    },
    {
      "cell_type": "markdown",
      "metadata": {
        "id": "9xawTjIgSgBA"
      },
      "source": [
        "## Exploratory Ananlysis and Visualization"
      ]
    },
    {
      "cell_type": "code",
      "execution_count": null,
      "metadata": {
        "id": "K_byDwkmSfOb"
      },
      "outputs": [],
      "source": [
        "import seaborn as sns\n",
        "import matplotlib.pyplot as plt"
      ]
    },
    {
      "cell_type": "code",
      "execution_count": null,
      "metadata": {
        "colab": {
          "base_uri": "https://localhost:8080/",
          "height": 934
        },
        "id": "Ep3m4RsdSqEd",
        "outputId": "43932dab-516f-4b45-9561-1a10f299ff66"
      },
      "outputs": [
        {
          "output_type": "display_data",
          "data": {
            "text/plain": [
              "<Figure size 1440x1152 with 30 Axes>"
            ],
            "image/png": "[encoded data removed]"
          },
          "metadata": {
            "needs_background": "light"
          }
        }
      ],
      "source": [
        "driver_train_df.hist(figsize = (20,16))\n",
        "plt.show()"
      ]
    },
    {
      "cell_type": "code",
      "execution_count": null,
      "metadata": {
        "colab": {
          "base_uri": "https://localhost:8080/",
          "height": 279
        },
        "id": "3BRQnO9USwwE",
        "outputId": "901148b9-c970-4851-bd30-f37b6b06f7ff"
      },
      "outputs": [
        {
          "output_type": "display_data",
          "data": {
            "text/plain": [
              "<Figure size 432x288 with 1 Axes>"
            ],
            "image/png": "[encoded data removed]"
          },
          "metadata": {
            "needs_background": "light"
          }
        }
      ],
      "source": [
        "sns.barplot(x='IsAlert', y='P1', data= driver_train_df);"
      ]
    },
    {
      "cell_type": "code",
      "execution_count": null,
      "metadata": {
        "colab": {
          "base_uri": "https://localhost:8080/",
          "height": 279
        },
        "id": "DFOEHxM7TbIX",
        "outputId": "3ffb2ea9-cfdd-4da0-8a80-bc0bc83f1f43"
      },
      "outputs": [
        {
          "output_type": "display_data",
          "data": {
            "text/plain": [
              "<Figure size 432x288 with 1 Axes>"
            ],
            "image/png": "[encoded data removed]"
          },
          "metadata": {
            "needs_background": "light"
          }
        }
      ],
      "source": [
        "sns.barplot(x='IsAlert', y='P2', data= driver_train_df);"
      ]
    },
    {
      "cell_type": "code",
      "execution_count": null,
      "metadata": {
        "colab": {
          "base_uri": "https://localhost:8080/",
          "height": 279
        },
        "id": "pcgsSz05UDcZ",
        "outputId": "b1285e5f-0414-4c78-a9f9-c87f7636f1fe"
      },
      "outputs": [
        {
          "output_type": "display_data",
          "data": {
            "text/plain": [
              "<Figure size 432x288 with 1 Axes>"
            ],
            "image/png": "[encoded data removed]"
          },
          "metadata": {
            "needs_background": "light"
          }
        }
      ],
      "source": [
        "sns.barplot(x='IsAlert', y='P3', data= driver_train_df);"
      ]
    },
    {
      "cell_type": "code",
      "execution_count": null,
      "metadata": {
        "colab": {
          "base_uri": "https://localhost:8080/",
          "height": 279
        },
        "id": "8iKGgophUKpI",
        "outputId": "9cb1e508-c595-459f-9fc9-695aeac31722"
      },
      "outputs": [
        {
          "output_type": "display_data",
          "data": {
            "text/plain": [
              "<Figure size 432x288 with 1 Axes>"
            ],
            "image/png": "[encoded data removed]"
          },
          "metadata": {
            "needs_background": "light"
          }
        }
      ],
      "source": [
        "sns.barplot(x='IsAlert', y='P4', data= driver_train_df);"
      ]
    },
    {
      "cell_type": "code",
      "execution_count": null,
      "metadata": {
        "colab": {
          "base_uri": "https://localhost:8080/",
          "height": 281
        },
        "id": "AMbCAupKUMFW",
        "outputId": "fe49d15a-ef35-4250-b07e-6ba310db5537"
      },
      "outputs": [
        {
          "output_type": "display_data",
          "data": {
            "text/plain": [
              "<Figure size 432x288 with 1 Axes>"
            ],
            "image/png": "[encoded data removed]"
          },
          "metadata": {
            "needs_background": "light"
          }
        }
      ],
      "source": [
        "sns.barplot(x='IsAlert', y='P5', data= driver_train_df);"
      ]
    },
    {
      "cell_type": "code",
      "execution_count": null,
      "metadata": {
        "colab": {
          "base_uri": "https://localhost:8080/",
          "height": 279
        },
        "id": "XPKSIOIzUPfE",
        "outputId": "86f74e56-21af-4e3d-c8cf-24e0a0e8e9bd"
      },
      "outputs": [
        {
          "output_type": "display_data",
          "data": {
            "text/plain": [
              "<Figure size 432x288 with 1 Axes>"
            ],
            "image/png": "[encoded data removed]"
          },
          "metadata": {
            "needs_background": "light"
          }
        }
      ],
      "source": [
        "sns.barplot(x='IsAlert', y='P6', data= driver_train_df);"
      ]
    },
    {
      "cell_type": "code",
      "execution_count": null,
      "metadata": {
        "colab": {
          "base_uri": "https://localhost:8080/",
          "height": 279
        },
        "id": "cVxrqfSYURAY",
        "outputId": "8c3f6e07-2eac-4b12-8591-d07a9183c0e2"
      },
      "outputs": [
        {
          "output_type": "display_data",
          "data": {
            "text/plain": [
              "<Figure size 432x288 with 1 Axes>"
            ],
            "image/png": "[encoded data removed]"
          },
          "metadata": {
            "needs_background": "light"
          }
        }
      ],
      "source": [
        "sns.barplot(x='IsAlert', y='P7', data= driver_train_df);"
      ]
    },
    {
      "cell_type": "code",
      "execution_count": null,
      "metadata": {
        "colab": {
          "base_uri": "https://localhost:8080/",
          "height": 279
        },
        "id": "aFT9Bt_PUSmW",
        "outputId": "dd017f79-1b80-4ddf-ccac-15a504f6c657"
      },
      "outputs": [
        {
          "output_type": "display_data",
          "data": {
            "text/plain": [
              "<Figure size 432x288 with 1 Axes>"
            ],
            "image/png": "[encoded data removed]"
          },
          "metadata": {
            "needs_background": "light"
          }
        }
      ],
      "source": [
        "sns.barplot(x='IsAlert', y='E1', data= driver_train_df);"
      ]
    },
    {
      "cell_type": "code",
      "execution_count": null,
      "metadata": {
        "colab": {
          "base_uri": "https://localhost:8080/",
          "height": 279
        },
        "id": "MJfwaMWbUUbX",
        "outputId": "61d5c68e-e6e9-46ca-93e2-33b5ebba019f"
      },
      "outputs": [
        {
          "output_type": "display_data",
          "data": {
            "text/plain": [
              "<Figure size 432x288 with 1 Axes>"
            ],
            "image/png": "[encoded data removed]"
          },
          "metadata": {
            "needs_background": "light"
          }
        }
      ],
      "source": [
        "sns.barplot(x='IsAlert', y='E2', data= driver_train_df);"
      ]
    },
    {
      "cell_type": "code",
      "execution_count": null,
      "metadata": {
        "colab": {
          "base_uri": "https://localhost:8080/",
          "height": 279
        },
        "id": "xEJQE7vPUucM",
        "outputId": "bbc765b5-32f6-4780-ad1d-ca332e93d118"
      },
      "outputs": [
        {
          "output_type": "display_data",
          "data": {
            "text/plain": [
              "<Figure size 432x288 with 1 Axes>"
            ],
            "image/png": "[encoded data removed]"
          },
          "metadata": {
            "needs_background": "light"
          }
        }
      ],
      "source": [
        "sns.barplot(x='IsAlert', y='E3', data= driver_train_df);"
      ]
    },
    {
      "cell_type": "code",
      "execution_count": null,
      "metadata": {
        "colab": {
          "base_uri": "https://localhost:8080/",
          "height": 283
        },
        "id": "kC17YlQxUv-T",
        "outputId": "7feb04a4-e53d-4eb7-d5c9-b8d78d0b2c7e"
      },
      "outputs": [
        {
          "output_type": "display_data",
          "data": {
            "text/plain": [
              "<Figure size 432x288 with 1 Axes>"
            ],
            "image/png": "[encoded data removed]"
          },
          "metadata": {
            "needs_background": "light"
          }
        }
      ],
      "source": [
        "sns.barplot(x='IsAlert', y='E4', data= driver_train_df);"
      ]
    },
    {
      "cell_type": "code",
      "execution_count": null,
      "metadata": {
        "colab": {
          "base_uri": "https://localhost:8080/",
          "height": 279
        },
        "id": "BEnA0ANrUzKB",
        "outputId": "2156db12-d8c1-461d-a87e-4cdd3fd56a4e"
      },
      "outputs": [
        {
          "output_type": "display_data",
          "data": {
            "text/plain": [
              "<Figure size 432x288 with 1 Axes>"
            ],
            "image/png": "[encoded data removed]"
          },
          "metadata": {
            "needs_background": "light"
          }
        }
      ],
      "source": [
        "sns.barplot(x='IsAlert', y='E5', data= driver_train_df);"
      ]
    },
    {
      "cell_type": "code",
      "execution_count": null,
      "metadata": {
        "colab": {
          "base_uri": "https://localhost:8080/",
          "height": 279
        },
        "id": "JsQHZJT6U0jP",
        "outputId": "9280e9ab-8581-4a80-e6bd-0c881c159c93"
      },
      "outputs": [
        {
          "output_type": "display_data",
          "data": {
            "text/plain": [
              "<Figure size 432x288 with 1 Axes>"
            ],
            "image/png": "[encoded data removed]"
          },
          "metadata": {
            "needs_background": "light"
          }
        }
      ],
      "source": [
        "sns.barplot(x='IsAlert', y='E6', data= driver_train_df);"
      ]
    },
    {
      "cell_type": "code",
      "execution_count": null,
      "metadata": {
        "colab": {
          "base_uri": "https://localhost:8080/",
          "height": 282
        },
        "id": "pmLZ8pe6U2Cl",
        "outputId": "0409611a-d274-4f44-da01-0b501b28accd"
      },
      "outputs": [
        {
          "output_type": "display_data",
          "data": {
            "text/plain": [
              "<Figure size 432x288 with 1 Axes>"
            ],
            "image/png": "[encoded data removed]"
          },
          "metadata": {
            "needs_background": "light"
          }
        }
      ],
      "source": [
        "sns.barplot(x='IsAlert', y='E7', data= driver_train_df);"
      ]
    },
    {
      "cell_type": "code",
      "execution_count": null,
      "metadata": {
        "colab": {
          "base_uri": "https://localhost:8080/",
          "height": 281
        },
        "id": "P2NMrGW8U3ve",
        "outputId": "c77cba7e-e27f-4986-af0e-a215ff32ddea"
      },
      "outputs": [
        {
          "output_type": "display_data",
          "data": {
            "text/plain": [
              "<Figure size 432x288 with 1 Axes>"
            ],
            "image/png": "[encoded data removed]"
          },
          "metadata": {
            "needs_background": "light"
          }
        }
      ],
      "source": [
        "sns.barplot(x='IsAlert', y='E8', data= driver_train_df);"
      ]
    },
    {
      "cell_type": "code",
      "execution_count": null,
      "metadata": {
        "colab": {
          "base_uri": "https://localhost:8080/",
          "height": 279
        },
        "id": "p8gwYto5U6TD",
        "outputId": "b8484df8-7a58-45c4-970a-becc67d65e2d"
      },
      "outputs": [
        {
          "output_type": "display_data",
          "data": {
            "text/plain": [
              "<Figure size 432x288 with 1 Axes>"
            ],
            "image/png": "[encoded data removed]"
          },
          "metadata": {
            "needs_background": "light"
          }
        }
      ],
      "source": [
        "sns.barplot(x='IsAlert', y='E9', data= driver_train_df);"
      ]
    },
    {
      "cell_type": "code",
      "execution_count": null,
      "metadata": {
        "colab": {
          "base_uri": "https://localhost:8080/",
          "height": 279
        },
        "id": "WDUX2EJXVAu6",
        "outputId": "00f10e66-87bb-499e-b73b-c5d7f8ea3a59"
      },
      "outputs": [
        {
          "output_type": "display_data",
          "data": {
            "text/plain": [
              "<Figure size 432x288 with 1 Axes>"
            ],
            "image/png": "[encoded data removed]"
          },
          "metadata": {
            "needs_background": "light"
          }
        }
      ],
      "source": [
        "sns.barplot(x='IsAlert', y='E10', data= driver_train_df);"
      ]
    },
    {
      "cell_type": "code",
      "execution_count": null,
      "metadata": {
        "colab": {
          "base_uri": "https://localhost:8080/",
          "height": 279
        },
        "id": "Rda5xWlcVB1b",
        "outputId": "4a802305-8b69-4976-9ee0-71930dbff7a2"
      },
      "outputs": [
        {
          "output_type": "display_data",
          "data": {
            "text/plain": [
              "<Figure size 432x288 with 1 Axes>"
            ],
            "image/png": "[encoded data removed]"
          },
          "metadata": {
            "needs_background": "light"
          }
        }
      ],
      "source": [
        "sns.barplot(x='IsAlert', y='E11', data= driver_train_df);"
      ]
    },
    {
      "cell_type": "code",
      "execution_count": null,
      "metadata": {
        "colab": {
          "base_uri": "https://localhost:8080/",
          "height": 279
        },
        "id": "vJ3XN9AfVC61",
        "outputId": "ac1b1332-75f3-4ed7-a4bf-7687e6f6e687"
      },
      "outputs": [
        {
          "output_type": "display_data",
          "data": {
            "text/plain": [
              "<Figure size 432x288 with 1 Axes>"
            ],
            "image/png": "[encoded data removed]"
          },
          "metadata": {
            "needs_background": "light"
          }
        }
      ],
      "source": [
        "sns.barplot(x='IsAlert', y='V1', data= driver_train_df);"
      ]
    },
    {
      "cell_type": "code",
      "execution_count": null,
      "metadata": {
        "colab": {
          "base_uri": "https://localhost:8080/",
          "height": 283
        },
        "id": "8yQUqIBCVE9k",
        "outputId": "a064c4e9-f534-43b0-9967-b51b2de5d273"
      },
      "outputs": [
        {
          "output_type": "display_data",
          "data": {
            "text/plain": [
              "<Figure size 432x288 with 1 Axes>"
            ],
            "image/png": "[encoded data removed]"
          },
          "metadata": {
            "needs_background": "light"
          }
        }
      ],
      "source": [
        "sns.barplot(x='IsAlert', y='V2', data= driver_train_df);"
      ]
    },
    {
      "cell_type": "code",
      "execution_count": null,
      "metadata": {
        "colab": {
          "base_uri": "https://localhost:8080/",
          "height": 279
        },
        "id": "w9uuPDKYVHaB",
        "outputId": "3aaf1b38-c4f8-4a0c-8911-5037cc22f61e"
      },
      "outputs": [
        {
          "output_type": "display_data",
          "data": {
            "text/plain": [
              "<Figure size 432x288 with 1 Axes>"
            ],
            "image/png": "[encoded data removed]"
          },
          "metadata": {
            "needs_background": "light"
          }
        }
      ],
      "source": [
        "sns.barplot(x='IsAlert', y='V3', data= driver_train_df);"
      ]
    },
    {
      "cell_type": "code",
      "execution_count": null,
      "metadata": {
        "colab": {
          "base_uri": "https://localhost:8080/",
          "height": 279
        },
        "id": "oRHv_bNPVIsz",
        "outputId": "3b715209-2752-4d8f-cbfc-08b84d0814e6"
      },
      "outputs": [
        {
          "output_type": "display_data",
          "data": {
            "text/plain": [
              "<Figure size 432x288 with 1 Axes>"
            ],
            "image/png": "[encoded data removed]"
          },
          "metadata": {
            "needs_background": "light"
          }
        }
      ],
      "source": [
        "sns.barplot(x='IsAlert', y='V4', data= driver_train_df);"
      ]
    },
    {
      "cell_type": "code",
      "execution_count": null,
      "metadata": {
        "colab": {
          "base_uri": "https://localhost:8080/",
          "height": 279
        },
        "id": "E3M9Y2fWVJ2z",
        "outputId": "f2570a5f-e105-4050-ebc9-8ba765ba7d53"
      },
      "outputs": [
        {
          "output_type": "display_data",
          "data": {
            "text/plain": [
              "<Figure size 432x288 with 1 Axes>"
            ],
            "image/png": "[encoded data removed]"
          },
          "metadata": {
            "needs_background": "light"
          }
        }
      ],
      "source": [
        "sns.barplot(x='IsAlert', y='V5', data= driver_train_df);"
      ]
    },
    {
      "cell_type": "code",
      "execution_count": null,
      "metadata": {
        "colab": {
          "base_uri": "https://localhost:8080/",
          "height": 279
        },
        "id": "dS5C3Ho9VLJJ",
        "outputId": "17baa9a9-7e6e-4814-e191-9dabe79f5f08"
      },
      "outputs": [
        {
          "output_type": "display_data",
          "data": {
            "text/plain": [
              "<Figure size 432x288 with 1 Axes>"
            ],
            "image/png": "[encoded data removed]"
          },
          "metadata": {
            "needs_background": "light"
          }
        }
      ],
      "source": [
        "sns.barplot(x='IsAlert', y='V6', data= driver_train_df);"
      ]
    },
    {
      "cell_type": "code",
      "execution_count": null,
      "metadata": {
        "colab": {
          "base_uri": "https://localhost:8080/",
          "height": 279
        },
        "id": "3l8KnZYBVNvG",
        "outputId": "a0466d80-5c1d-46a1-9a4e-a0429e7c7008"
      },
      "outputs": [
        {
          "output_type": "display_data",
          "data": {
            "text/plain": [
              "<Figure size 432x288 with 1 Axes>"
            ],
            "image/png": "[encoded data removed]"
          },
          "metadata": {
            "needs_background": "light"
          }
        }
      ],
      "source": [
        "sns.barplot(x='IsAlert', y='V8', data= driver_train_df);"
      ]
    },
    {
      "cell_type": "code",
      "execution_count": null,
      "metadata": {
        "colab": {
          "base_uri": "https://localhost:8080/",
          "height": 279
        },
        "id": "d2sKs05PVQzH",
        "outputId": "c6edd9bb-af80-4511-f9b0-6723f49cfa55"
      },
      "outputs": [
        {
          "output_type": "display_data",
          "data": {
            "text/plain": [
              "<Figure size 432x288 with 1 Axes>"
            ],
            "image/png": "[encoded data removed]"
          },
          "metadata": {
            "needs_background": "light"
          }
        }
      ],
      "source": [
        "sns.barplot(x='IsAlert', y='V10', data= driver_train_df);"
      ]
    },
    {
      "cell_type": "code",
      "execution_count": null,
      "metadata": {
        "colab": {
          "base_uri": "https://localhost:8080/",
          "height": 279
        },
        "id": "Cht2M1IcVRzQ",
        "outputId": "e56c8730-928e-44c7-d7fa-6e3179c39213"
      },
      "outputs": [
        {
          "output_type": "display_data",
          "data": {
            "text/plain": [
              "<Figure size 432x288 with 1 Axes>"
            ],
            "image/png": "[encoded data removed]"
          },
          "metadata": {
            "needs_background": "light"
          }
        }
      ],
      "source": [
        "sns.barplot(x='IsAlert', y='V11', data= driver_train_df);"
      ]
    },
    {
      "cell_type": "code",
      "execution_count": null,
      "metadata": {
        "id": "D4xPAAtDVS-s"
      },
      "outputs": [],
      "source": [
        "corr = driver_train_df.corr()"
      ]
    },
    {
      "cell_type": "code",
      "execution_count": null,
      "metadata": {
        "colab": {
          "base_uri": "https://localhost:8080/",
          "height": 1000
        },
        "id": "AzSc5K9pVwRf",
        "outputId": "84c85f1f-3b57-4385-bca2-635c60e55b35"
      },
      "outputs": [
        {
          "output_type": "execute_result",
          "data": {
            "text/plain": [
              "          TrialID    ObsNum   IsAlert        P1        P2        P3        P4  \\\n",
              "TrialID  1.000000 -0.000162 -0.145816  0.016772 -0.004473  0.000369  0.001880   \n",
              "ObsNum  -0.000162  1.000000 -0.005143  0.018324 -0.001764  0.002199 -0.001191   \n",
              "IsAlert -0.145816 -0.005143  1.000000  0.018361  0.014383  0.005168 -0.008177   \n",
              "P1       0.016772  0.018324  0.018361  1.000000 -0.006674 -0.010317  0.011704   \n",
              "P2      -0.004473 -0.001764  0.014383 -0.006674  1.000000 -0.002539  0.002132   \n",
              "P3       0.000369  0.002199  0.005168 -0.010317 -0.002539  1.000000 -0.944435   \n",
              "P4       0.001880 -0.001191 -0.008177  0.011704  0.002132 -0.944435  1.000000   \n",
              "P5       0.022632  0.005568  0.038160  0.010911  0.008390  0.035129 -0.032897   \n",
              "P6       0.005377 -0.015791 -0.000400  0.045429 -0.022003  0.012444 -0.010627   \n",
              "P7       0.111903  0.003498  0.189796  0.027461  0.052171 -0.006097  0.007323   \n",
              "E1      -0.061881 -0.000122 -0.160830 -0.015436 -0.012045  0.005795 -0.004870   \n",
              "E2       0.015610 -0.003558 -0.105495 -0.009356 -0.019121  0.013007 -0.010749   \n",
              "E3      -0.087071  0.002931  0.157973  0.024131  0.062076 -0.016437  0.010696   \n",
              "E4      -0.050151 -0.004580  0.047992 -0.010574  0.003529  0.000515  0.001580   \n",
              "E5       0.234524  0.010314 -0.067453 -0.006564 -0.005140  0.004496 -0.003086   \n",
              "E6      -0.034418 -0.003838 -0.189198 -0.004635 -0.006843 -0.004508  0.004230   \n",
              "E7      -0.116919  0.002005 -0.329722 -0.013194 -0.002058 -0.014086  0.013755   \n",
              "E8      -0.095434  0.009400 -0.283440 -0.010918  0.002920 -0.014135  0.012959   \n",
              "E9       0.116988 -0.002779  0.380353  0.004688  0.002266  0.018113 -0.016615   \n",
              "E10     -0.100521 -0.008684 -0.067051  0.004549  0.014589 -0.013289  0.010501   \n",
              "E11      0.073676  0.004978  0.079002  0.015882  0.001857  0.007423 -0.005681   \n",
              "V1      -0.117728  0.004242 -0.269967 -0.025763  0.011310 -0.011347  0.010061   \n",
              "V2       0.065063  0.019009 -0.050740 -0.021118  0.001779  0.008651 -0.006926   \n",
              "V3       0.001900  0.007753 -0.062000  0.002551  0.002272 -0.006380  0.008049   \n",
              "V4      -0.074320 -0.000480  0.097022  0.021404 -0.006038  0.013045 -0.010905   \n",
              "V5       0.123721 -0.006284  0.055429  0.051348 -0.023902  0.001312  0.001705   \n",
              "V6      -0.097389  0.003935 -0.244150 -0.019792  0.010608 -0.010245  0.008348   \n",
              "V8      -0.047593  0.008191 -0.165550 -0.029747  0.008257 -0.007963  0.005379   \n",
              "V10     -0.093818  0.005145 -0.259607 -0.004563  0.001946 -0.009630  0.008906   \n",
              "V11      0.078887 -0.011465  0.155722  0.344636 -0.034248 -0.009808  0.009841   \n",
              "\n",
              "               P5        P6        P7  ...       E11        V1        V2  \\\n",
              "TrialID  0.022632  0.005377  0.111903  ...  0.073676 -0.117728  0.065063   \n",
              "ObsNum   0.005568 -0.015791  0.003498  ...  0.004978  0.004242  0.019009   \n",
              "IsAlert  0.038160 -0.000400  0.189796  ...  0.079002 -0.269967 -0.050740   \n",
              "P1       0.010911  0.045429  0.027461  ...  0.015882 -0.025763 -0.021118   \n",
              "P2       0.008390 -0.022003  0.052171  ...  0.001857  0.011310  0.001779   \n",
              "P3       0.035129  0.012444 -0.006097  ...  0.007423 -0.011347  0.008651   \n",
              "P4      -0.032897 -0.010627  0.007323  ... -0.005681  0.010061 -0.006926   \n",
              "P5       1.000000  0.002314 -0.023628  ...  0.028216 -0.054428  0.026232   \n",
              "P6       0.002314  1.000000 -0.125580  ... -0.008939 -0.024449 -0.010418   \n",
              "P7      -0.023628 -0.125580  1.000000  ...  0.084846 -0.043512  0.025850   \n",
              "E1      -0.062955 -0.006273 -0.087373  ... -0.088023  0.430603  0.068999   \n",
              "E2      -0.033420  0.006025 -0.091327  ... -0.052130  0.094731  0.029370   \n",
              "E3       0.069444 -0.025157  0.294528  ...  0.011117  0.015578 -0.046786   \n",
              "E4      -0.002757 -0.001288  0.026627  ... -0.015727  0.002181 -0.002248   \n",
              "E5      -0.020218 -0.007514  0.051338  ...  0.039560  0.079413  0.025036   \n",
              "E6      -0.006387  0.011529 -0.105148  ...  0.001127 -0.049803 -0.037068   \n",
              "E7      -0.032576 -0.006923 -0.042634  ... -0.031910  0.188332  0.020010   \n",
              "E8      -0.048551 -0.008941  0.022973  ... -0.016692  0.202976  0.036510   \n",
              "E9       0.005177 -0.005549  0.045725  ...  0.031089 -0.129286 -0.009856   \n",
              "E10     -0.074753 -0.034470  0.109924  ... -0.031277  0.376850  0.075143   \n",
              "E11      0.028216 -0.008939  0.084846  ...  1.000000 -0.273714 -0.009588   \n",
              "V1      -0.054428 -0.024449 -0.043512  ... -0.273714  1.000000  0.173796   \n",
              "V2       0.026232 -0.010418  0.025850  ... -0.009588  0.173796  1.000000   \n",
              "V3       0.005371 -0.004996  0.007986  ...  0.023545  0.113710 -0.029865   \n",
              "V4       0.070290  0.019121  0.037711  ...  0.056647 -0.435652 -0.164682   \n",
              "V5      -0.016671  0.029222  0.024499  ...  0.109642 -0.309047 -0.406453   \n",
              "V6      -0.046353 -0.025728 -0.020696  ... -0.331563  0.937334  0.179933   \n",
              "V8      -0.023359 -0.016850 -0.008450  ... -0.276242  0.572335  0.107099   \n",
              "V10     -0.022193 -0.002163 -0.041814  ... -0.154770  0.910776  0.153246   \n",
              "V11     -0.004897  0.012783  0.019360  ...  0.023469 -0.095577 -0.043922   \n",
              "\n",
              "               V3        V4        V5        V6        V8       V10       V11  \n",
              "TrialID  0.001900 -0.074320  0.123721 -0.097389 -0.047593 -0.093818  0.078887  \n",
              "ObsNum   0.007753 -0.000480 -0.006284  0.003935  0.008191  0.005145 -0.011465  \n",
              "IsAlert -0.062000  0.097022  0.055429 -0.244150 -0.165550 -0.259607  0.155722  \n",
              "P1       0.002551  0.021404  0.051348 -0.019792 -0.029747 -0.004563  0.344636  \n",
              "P2       0.002272 -0.006038 -0.023902  0.010608  0.008257  0.001946 -0.034248  \n",
              "P3      -0.006380  0.013045  0.001312 -0.010245 -0.007963 -0.009630 -0.009808  \n",
              "P4       0.008049 -0.010905  0.001705  0.008348  0.005379  0.008906  0.009841  \n",
              "P5       0.005371  0.070290 -0.016671 -0.046353 -0.023359 -0.022193 -0.004897  \n",
              "P6      -0.004996  0.019121  0.029222 -0.025728 -0.016850 -0.002163  0.012783  \n",
              "P7       0.007986  0.037711  0.024499 -0.020696 -0.008450 -0.041814  0.019360  \n",
              "E1       0.045605 -0.185484 -0.114477  0.399214  0.227876  0.382013 -0.070397  \n",
              "E2      -0.003652 -0.060586  0.001465  0.083946  0.044731  0.081133 -0.061395  \n",
              "E3       0.048736  0.140578 -0.079563  0.006129  0.012401  0.042666  0.115566  \n",
              "E4      -0.007556  0.009405 -0.006332 -0.004937 -0.014779  0.000264 -0.003311  \n",
              "E5      -0.016252 -0.152005 -0.033109  0.078383  0.057884  0.083841 -0.004646  \n",
              "E6      -0.005844  0.086723  0.013194 -0.043660 -0.031359 -0.046781 -0.009406  \n",
              "E7       0.023965 -0.048397 -0.058715  0.186425  0.128932  0.157692 -0.004873  \n",
              "E8       0.025184 -0.074523 -0.077849  0.194538  0.126790  0.179493 -0.008762  \n",
              "E9      -0.021323  0.013255  0.063281 -0.128772 -0.093210 -0.111997 -0.019344  \n",
              "E10      0.014493 -0.292688 -0.188536  0.364547  0.225304  0.328938  0.068841  \n",
              "E11      0.023545  0.056647  0.109642 -0.331563 -0.276242 -0.154770  0.023469  \n",
              "V1       0.113710 -0.435652 -0.309047  0.937334  0.572335  0.910776 -0.095577  \n",
              "V2      -0.029865 -0.164682 -0.406453  0.179933  0.107099  0.153246 -0.043922  \n",
              "V3       1.000000  0.094807  0.034938  0.110503  0.078252  0.128663 -0.000325  \n",
              "V4       0.094807  1.000000  0.087289 -0.405763 -0.250265 -0.386108  0.081574  \n",
              "V5       0.034938  0.087289  1.000000 -0.276837 -0.162438 -0.244230  0.033800  \n",
              "V6       0.110503 -0.405763 -0.276837  1.000000  0.658544  0.822076 -0.089677  \n",
              "V8       0.078252 -0.250265 -0.162438  0.658544  1.000000  0.513956 -0.056313  \n",
              "V10      0.128663 -0.386108 -0.244230  0.822076  0.513956  1.000000 -0.055327  \n",
              "V11     -0.000325  0.081574  0.033800 -0.089677 -0.056313 -0.055327  1.000000  \n",
              "\n",
              "[30 rows x 30 columns]"
            ],
            "text/html": [
              "\n",
              "  <div id=\"df-c31c0b8f-9011-44aa-a83e-dad4119b8ecd\">\n",
              "    <div class=\"colab-df-container\">\n",
              "      <div>\n",
              "<style scoped>\n",
              "    .dataframe tbody tr th:only-of-type {\n",
              "        vertical-align: middle;\n",
              "    }\n",
              "\n",
              "    .dataframe tbody tr th {\n",
              "        vertical-align: top;\n",
              "    }\n",
              "\n",
              "    .dataframe thead th {\n",
              "        text-align: right;\n",
              "    }\n",
              "</style>\n",
              "<table border=\"1\" class=\"dataframe\">\n",
              "  <thead>\n",
              "    <tr style=\"text-align: right;\">\n",
              "      <th></th>\n",
              "      <th>TrialID</th>\n",
              "      <th>ObsNum</th>\n",
              "      <th>IsAlert</th>\n",
              "      <th>P1</th>\n",
              "      <th>P2</th>\n",
              "      <th>P3</th>\n",
              "      <th>P4</th>\n",
              "      <th>P5</th>\n",
              "      <th>P6</th>\n",
              "      <th>P7</th>\n",
              "      <th>...</th>\n",
              "      <th>E11</th>\n",
              "      <th>V1</th>\n",
              "      <th>V2</th>\n",
              "      <th>V3</th>\n",
              "      <th>V4</th>\n",
              "      <th>V5</th>\n",
              "      <th>V6</th>\n",
              "      <th>V8</th>\n",
              "      <th>V10</th>\n",
              "      <th>V11</th>\n",
              "    </tr>\n",
              "  </thead>\n",
              "  <tbody>\n",
              "    <tr>\n",
              "      <th>TrialID</th>\n",
              "      <td>1.000000</td>\n",
              "      <td>-0.000162</td>\n",
              "      <td>-0.145816</td>\n",
              "      <td>0.016772</td>\n",
              "      <td>-0.004473</td>\n",
              "      <td>0.000369</td>\n",
              "      <td>0.001880</td>\n",
              "      <td>0.022632</td>\n",
              "      <td>0.005377</td>\n",
              "      <td>0.111903</td>\n",
              "      <td>...</td>\n",
              "      <td>0.073676</td>\n",
              "      <td>-0.117728</td>\n",
              "      <td>0.065063</td>\n",
              "      <td>0.001900</td>\n",
              "      <td>-0.074320</td>\n",
              "      <td>0.123721</td>\n",
              "      <td>-0.097389</td>\n",
              "      <td>-0.047593</td>\n",
              "      <td>-0.093818</td>\n",
              "      <td>0.078887</td>\n",
              "    </tr>\n",
              "    <tr>\n",
              "      <th>ObsNum</th>\n",
              "      <td>-0.000162</td>\n",
              "      <td>1.000000</td>\n",
              "      <td>-0.005143</td>\n",
              "      <td>0.018324</td>\n",
              "      <td>-0.001764</td>\n",
              "      <td>0.002199</td>\n",
              "      <td>-0.001191</td>\n",
              "      <td>0.005568</td>\n",
              "      <td>-0.015791</td>\n",
              "      <td>0.003498</td>\n",
              "      <td>...</td>\n",
              "      <td>0.004978</td>\n",
              "      <td>0.004242</td>\n",
              "      <td>0.019009</td>\n",
              "      <td>0.007753</td>\n",
              "      <td>-0.000480</td>\n",
              "      <td>-0.006284</td>\n",
              "      <td>0.003935</td>\n",
              "      <td>0.008191</td>\n",
              "      <td>0.005145</td>\n",
              "      <td>-0.011465</td>\n",
              "    </tr>\n",
              "    <tr>\n",
              "      <th>IsAlert</th>\n",
              "      <td>-0.145816</td>\n",
              "      <td>-0.005143</td>\n",
              "      <td>1.000000</td>\n",
              "      <td>0.018361</td>\n",
              "      <td>0.014383</td>\n",
              "      <td>0.005168</td>\n",
              "      <td>-0.008177</td>\n",
              "      <td>0.038160</td>\n",
              "      <td>-0.000400</td>\n",
              "      <td>0.189796</td>\n",
              "      <td>...</td>\n",
              "      <td>0.079002</td>\n",
              "      <td>-0.269967</td>\n",
              "      <td>-0.050740</td>\n",
              "      <td>-0.062000</td>\n",
              "      <td>0.097022</td>\n",
              "      <td>0.055429</td>\n",
              "      <td>-0.244150</td>\n",
              "      <td>-0.165550</td>\n",
              "      <td>-0.259607</td>\n",
              "      <td>0.155722</td>\n",
              "    </tr>\n",
              "    <tr>\n",
              "      <th>P1</th>\n",
              "      <td>0.016772</td>\n",
              "      <td>0.018324</td>\n",
              "      <td>0.018361</td>\n",
              "      <td>1.000000</td>\n",
              "      <td>-0.006674</td>\n",
              "      <td>-0.010317</td>\n",
              "      <td>0.011704</td>\n",
              "      <td>0.010911</td>\n",
              "      <td>0.045429</td>\n",
              "      <td>0.027461</td>\n",
              "      <td>...</td>\n",
              "      <td>0.015882</td>\n",
              "      <td>-0.025763</td>\n",
              "      <td>-0.021118</td>\n",
              "      <td>0.002551</td>\n",
              "      <td>0.021404</td>\n",
              "      <td>0.051348</td>\n",
              "      <td>-0.019792</td>\n",
              "      <td>-0.029747</td>\n",
              "      <td>-0.004563</td>\n",
              "      <td>0.344636</td>\n",
              "    </tr>\n",
              "    <tr>\n",
              "      <th>P2</th>\n",
              "      <td>-0.004473</td>\n",
              "      <td>-0.001764</td>\n",
              "      <td>0.014383</td>\n",
              "      <td>-0.006674</td>\n",
              "      <td>1.000000</td>\n",
              "      <td>-0.002539</td>\n",
              "      <td>0.002132</td>\n",
              "      <td>0.008390</td>\n",
              "      <td>-0.022003</td>\n",
              "      <td>0.052171</td>\n",
              "      <td>...</td>\n",
              "      <td>0.001857</td>\n",
              "      <td>0.011310</td>\n",
              "      <td>0.001779</td>\n",
              "      <td>0.002272</td>\n",
              "      <td>-0.006038</td>\n",
              "      <td>-0.023902</td>\n",
              "      <td>0.010608</td>\n",
              "      <td>0.008257</td>\n",
              "      <td>0.001946</td>\n",
              "      <td>-0.034248</td>\n",
              "    </tr>\n",
              "    <tr>\n",
              "      <th>P3</th>\n",
              "      <td>0.000369</td>\n",
              "      <td>0.002199</td>\n",
              "      <td>0.005168</td>\n",
              "      <td>-0.010317</td>\n",
              "      <td>-0.002539</td>\n",
              "      <td>1.000000</td>\n",
              "      <td>-0.944435</td>\n",
              "      <td>0.035129</td>\n",
              "      <td>0.012444</td>\n",
              "      <td>-0.006097</td>\n",
              "      <td>...</td>\n",
              "      <td>0.007423</td>\n",
              "      <td>-0.011347</td>\n",
              "      <td>0.008651</td>\n",
              "      <td>-0.006380</td>\n",
              "      <td>0.013045</td>\n",
              "      <td>0.001312</td>\n",
              "      <td>-0.010245</td>\n",
              "      <td>-0.007963</td>\n",
              "      <td>-0.009630</td>\n",
              "      <td>-0.009808</td>\n",
              "    </tr>\n",
              "    <tr>\n",
              "      <th>P4</th>\n",
              "      <td>0.001880</td>\n",
              "      <td>-0.001191</td>\n",
              "      <td>-0.008177</td>\n",
              "      <td>0.011704</td>\n",
              "      <td>0.002132</td>\n",
              "      <td>-0.944435</td>\n",
              "      <td>1.000000</td>\n",
              "      <td>-0.032897</td>\n",
              "      <td>-0.010627</td>\n",
              "      <td>0.007323</td>\n",
              "      <td>...</td>\n",
              "      <td>-0.005681</td>\n",
              "      <td>0.010061</td>\n",
              "      <td>-0.006926</td>\n",
              "      <td>0.008049</td>\n",
              "      <td>-0.010905</td>\n",
              "      <td>0.001705</td>\n",
              "      <td>0.008348</td>\n",
              "      <td>0.005379</td>\n",
              "      <td>0.008906</td>\n",
              "      <td>0.009841</td>\n",
              "    </tr>\n",
              "    <tr>\n",
              "      <th>P5</th>\n",
              "      <td>0.022632</td>\n",
              "      <td>0.005568</td>\n",
              "      <td>0.038160</td>\n",
              "      <td>0.010911</td>\n",
              "      <td>0.008390</td>\n",
              "      <td>0.035129</td>\n",
              "      <td>-0.032897</td>\n",
              "      <td>1.000000</td>\n",
              "      <td>0.002314</td>\n",
              "      <td>-0.023628</td>\n",
              "      <td>...</td>\n",
              "      <td>0.028216</td>\n",
              "      <td>-0.054428</td>\n",
              "      <td>0.026232</td>\n",
              "      <td>0.005371</td>\n",
              "      <td>0.070290</td>\n",
              "      <td>-0.016671</td>\n",
              "      <td>-0.046353</td>\n",
              "      <td>-0.023359</td>\n",
              "      <td>-0.022193</td>\n",
              "      <td>-0.004897</td>\n",
              "    </tr>\n",
              "    <tr>\n",
              "      <th>P6</th>\n",
              "      <td>0.005377</td>\n",
              "      <td>-0.015791</td>\n",
              "      <td>-0.000400</td>\n",
              "      <td>0.045429</td>\n",
              "      <td>-0.022003</td>\n",
              "      <td>0.012444</td>\n",
              "      <td>-0.010627</td>\n",
              "      <td>0.002314</td>\n",
              "      <td>1.000000</td>\n",
              "      <td>-0.125580</td>\n",
              "      <td>...</td>\n",
              "      <td>-0.008939</td>\n",
              "      <td>-0.024449</td>\n",
              "      <td>-0.010418</td>\n",
              "      <td>-0.004996</td>\n",
              "      <td>0.019121</td>\n",
              "      <td>0.029222</td>\n",
              "      <td>-0.025728</td>\n",
              "      <td>-0.016850</td>\n",
              "      <td>-0.002163</td>\n",
              "      <td>0.012783</td>\n",
              "    </tr>\n",
              "    <tr>\n",
              "      <th>P7</th>\n",
              "      <td>0.111903</td>\n",
              "      <td>0.003498</td>\n",
              "      <td>0.189796</td>\n",
              "      <td>0.027461</td>\n",
              "      <td>0.052171</td>\n",
              "      <td>-0.006097</td>\n",
              "      <td>0.007323</td>\n",
              "      <td>-0.023628</td>\n",
              "      <td>-0.125580</td>\n",
              "      <td>1.000000</td>\n",
              "      <td>...</td>\n",
              "      <td>0.084846</td>\n",
              "      <td>-0.043512</td>\n",
              "      <td>0.025850</td>\n",
              "      <td>0.007986</td>\n",
              "      <td>0.037711</td>\n",
              "      <td>0.024499</td>\n",
              "      <td>-0.020696</td>\n",
              "      <td>-0.008450</td>\n",
              "      <td>-0.041814</td>\n",
              "      <td>0.019360</td>\n",
              "    </tr>\n",
              "    <tr>\n",
              "      <th>E1</th>\n",
              "      <td>-0.061881</td>\n",
              "      <td>-0.000122</td>\n",
              "      <td>-0.160830</td>\n",
              "      <td>-0.015436</td>\n",
              "      <td>-0.012045</td>\n",
              "      <td>0.005795</td>\n",
              "      <td>-0.004870</td>\n",
              "      <td>-0.062955</td>\n",
              "      <td>-0.006273</td>\n",
              "      <td>-0.087373</td>\n",
              "      <td>...</td>\n",
              "      <td>-0.088023</td>\n",
              "      <td>0.430603</td>\n",
              "      <td>0.068999</td>\n",
              "      <td>0.045605</td>\n",
              "      <td>-0.185484</td>\n",
              "      <td>-0.114477</td>\n",
              "      <td>0.399214</td>\n",
              "      <td>0.227876</td>\n",
              "      <td>0.382013</td>\n",
              "      <td>-0.070397</td>\n",
              "    </tr>\n",
              "    <tr>\n",
              "      <th>E2</th>\n",
              "      <td>0.015610</td>\n",
              "      <td>-0.003558</td>\n",
              "      <td>-0.105495</td>\n",
              "      <td>-0.009356</td>\n",
              "      <td>-0.019121</td>\n",
              "      <td>0.013007</td>\n",
              "      <td>-0.010749</td>\n",
              "      <td>-0.033420</td>\n",
              "      <td>0.006025</td>\n",
              "      <td>-0.091327</td>\n",
              "      <td>...</td>\n",
              "      <td>-0.052130</td>\n",
              "      <td>0.094731</td>\n",
              "      <td>0.029370</td>\n",
              "      <td>-0.003652</td>\n",
              "      <td>-0.060586</td>\n",
              "      <td>0.001465</td>\n",
              "      <td>0.083946</td>\n",
              "      <td>0.044731</td>\n",
              "      <td>0.081133</td>\n",
              "      <td>-0.061395</td>\n",
              "    </tr>\n",
              "    <tr>\n",
              "      <th>E3</th>\n",
              "      <td>-0.087071</td>\n",
              "      <td>0.002931</td>\n",
              "      <td>0.157973</td>\n",
              "      <td>0.024131</td>\n",
              "      <td>0.062076</td>\n",
              "      <td>-0.016437</td>\n",
              "      <td>0.010696</td>\n",
              "      <td>0.069444</td>\n",
              "      <td>-0.025157</td>\n",
              "      <td>0.294528</td>\n",
              "      <td>...</td>\n",
              "      <td>0.011117</td>\n",
              "      <td>0.015578</td>\n",
              "      <td>-0.046786</td>\n",
              "      <td>0.048736</td>\n",
              "      <td>0.140578</td>\n",
              "      <td>-0.079563</td>\n",
              "      <td>0.006129</td>\n",
              "      <td>0.012401</td>\n",
              "      <td>0.042666</td>\n",
              "      <td>0.115566</td>\n",
              "    </tr>\n",
              "    <tr>\n",
              "      <th>E4</th>\n",
              "      <td>-0.050151</td>\n",
              "      <td>-0.004580</td>\n",
              "      <td>0.047992</td>\n",
              "      <td>-0.010574</td>\n",
              "      <td>0.003529</td>\n",
              "      <td>0.000515</td>\n",
              "      <td>0.001580</td>\n",
              "      <td>-0.002757</td>\n",
              "      <td>-0.001288</td>\n",
              "      <td>0.026627</td>\n",
              "      <td>...</td>\n",
              "      <td>-0.015727</td>\n",
              "      <td>0.002181</td>\n",
              "      <td>-0.002248</td>\n",
              "      <td>-0.007556</td>\n",
              "      <td>0.009405</td>\n",
              "      <td>-0.006332</td>\n",
              "      <td>-0.004937</td>\n",
              "      <td>-0.014779</td>\n",
              "      <td>0.000264</td>\n",
              "      <td>-0.003311</td>\n",
              "    </tr>\n",
              "    <tr>\n",
              "      <th>E5</th>\n",
              "      <td>0.234524</td>\n",
              "      <td>0.010314</td>\n",
              "      <td>-0.067453</td>\n",
              "      <td>-0.006564</td>\n",
              "      <td>-0.005140</td>\n",
              "      <td>0.004496</td>\n",
              "      <td>-0.003086</td>\n",
              "      <td>-0.020218</td>\n",
              "      <td>-0.007514</td>\n",
              "      <td>0.051338</td>\n",
              "      <td>...</td>\n",
              "      <td>0.039560</td>\n",
              "      <td>0.079413</td>\n",
              "      <td>0.025036</td>\n",
              "      <td>-0.016252</td>\n",
              "      <td>-0.152005</td>\n",
              "      <td>-0.033109</td>\n",
              "      <td>0.078383</td>\n",
              "      <td>0.057884</td>\n",
              "      <td>0.083841</td>\n",
              "      <td>-0.004646</td>\n",
              "    </tr>\n",
              "    <tr>\n",
              "      <th>E6</th>\n",
              "      <td>-0.034418</td>\n",
              "      <td>-0.003838</td>\n",
              "      <td>-0.189198</td>\n",
              "      <td>-0.004635</td>\n",
              "      <td>-0.006843</td>\n",
              "      <td>-0.004508</td>\n",
              "      <td>0.004230</td>\n",
              "      <td>-0.006387</td>\n",
              "      <td>0.011529</td>\n",
              "      <td>-0.105148</td>\n",
              "      <td>...</td>\n",
              "      <td>0.001127</td>\n",
              "      <td>-0.049803</td>\n",
              "      <td>-0.037068</td>\n",
              "      <td>-0.005844</td>\n",
              "      <td>0.086723</td>\n",
              "      <td>0.013194</td>\n",
              "      <td>-0.043660</td>\n",
              "      <td>-0.031359</td>\n",
              "      <td>-0.046781</td>\n",
              "      <td>-0.009406</td>\n",
              "    </tr>\n",
              "    <tr>\n",
              "      <th>E7</th>\n",
              "      <td>-0.116919</td>\n",
              "      <td>0.002005</td>\n",
              "      <td>-0.329722</td>\n",
              "      <td>-0.013194</td>\n",
              "      <td>-0.002058</td>\n",
              "      <td>-0.014086</td>\n",
              "      <td>0.013755</td>\n",
              "      <td>-0.032576</td>\n",
              "      <td>-0.006923</td>\n",
              "      <td>-0.042634</td>\n",
              "      <td>...</td>\n",
              "      <td>-0.031910</td>\n",
              "      <td>0.188332</td>\n",
              "      <td>0.020010</td>\n",
              "      <td>0.023965</td>\n",
              "      <td>-0.048397</td>\n",
              "      <td>-0.058715</td>\n",
              "      <td>0.186425</td>\n",
              "      <td>0.128932</td>\n",
              "      <td>0.157692</td>\n",
              "      <td>-0.004873</td>\n",
              "    </tr>\n",
              "    <tr>\n",
              "      <th>E8</th>\n",
              "      <td>-0.095434</td>\n",
              "      <td>0.009400</td>\n",
              "      <td>-0.283440</td>\n",
              "      <td>-0.010918</td>\n",
              "      <td>0.002920</td>\n",
              "      <td>-0.014135</td>\n",
              "      <td>0.012959</td>\n",
              "      <td>-0.048551</td>\n",
              "      <td>-0.008941</td>\n",
              "      <td>0.022973</td>\n",
              "      <td>...</td>\n",
              "      <td>-0.016692</td>\n",
              "      <td>0.202976</td>\n",
              "      <td>0.036510</td>\n",
              "      <td>0.025184</td>\n",
              "      <td>-0.074523</td>\n",
              "      <td>-0.077849</td>\n",
              "      <td>0.194538</td>\n",
              "      <td>0.126790</td>\n",
              "      <td>0.179493</td>\n",
              "      <td>-0.008762</td>\n",
              "    </tr>\n",
              "    <tr>\n",
              "      <th>E9</th>\n",
              "      <td>0.116988</td>\n",
              "      <td>-0.002779</td>\n",
              "      <td>0.380353</td>\n",
              "      <td>0.004688</td>\n",
              "      <td>0.002266</td>\n",
              "      <td>0.018113</td>\n",
              "      <td>-0.016615</td>\n",
              "      <td>0.005177</td>\n",
              "      <td>-0.005549</td>\n",
              "      <td>0.045725</td>\n",
              "      <td>...</td>\n",
              "      <td>0.031089</td>\n",
              "      <td>-0.129286</td>\n",
              "      <td>-0.009856</td>\n",
              "      <td>-0.021323</td>\n",
              "      <td>0.013255</td>\n",
              "      <td>0.063281</td>\n",
              "      <td>-0.128772</td>\n",
              "      <td>-0.093210</td>\n",
              "      <td>-0.111997</td>\n",
              "      <td>-0.019344</td>\n",
              "    </tr>\n",
              "    <tr>\n",
              "      <th>E10</th>\n",
              "      <td>-0.100521</td>\n",
              "      <td>-0.008684</td>\n",
              "      <td>-0.067051</td>\n",
              "      <td>0.004549</td>\n",
              "      <td>0.014589</td>\n",
              "      <td>-0.013289</td>\n",
              "      <td>0.010501</td>\n",
              "      <td>-0.074753</td>\n",
              "      <td>-0.034470</td>\n",
              "      <td>0.109924</td>\n",
              "      <td>...</td>\n",
              "      <td>-0.031277</td>\n",
              "      <td>0.376850</td>\n",
              "      <td>0.075143</td>\n",
              "      <td>0.014493</td>\n",
              "      <td>-0.292688</td>\n",
              "      <td>-0.188536</td>\n",
              "      <td>0.364547</td>\n",
              "      <td>0.225304</td>\n",
              "      <td>0.328938</td>\n",
              "      <td>0.068841</td>\n",
              "    </tr>\n",
              "    <tr>\n",
              "      <th>E11</th>\n",
              "      <td>0.073676</td>\n",
              "      <td>0.004978</td>\n",
              "      <td>0.079002</td>\n",
              "      <td>0.015882</td>\n",
              "      <td>0.001857</td>\n",
              "      <td>0.007423</td>\n",
              "      <td>-0.005681</td>\n",
              "      <td>0.028216</td>\n",
              "      <td>-0.008939</td>\n",
              "      <td>0.084846</td>\n",
              "      <td>...</td>\n",
              "      <td>1.000000</td>\n",
              "      <td>-0.273714</td>\n",
              "      <td>-0.009588</td>\n",
              "      <td>0.023545</td>\n",
              "      <td>0.056647</td>\n",
              "      <td>0.109642</td>\n",
              "      <td>-0.331563</td>\n",
              "      <td>-0.276242</td>\n",
              "      <td>-0.154770</td>\n",
              "      <td>0.023469</td>\n",
              "    </tr>\n",
              "    <tr>\n",
              "      <th>V1</th>\n",
              "      <td>-0.117728</td>\n",
              "      <td>0.004242</td>\n",
              "      <td>-0.269967</td>\n",
              "      <td>-0.025763</td>\n",
              "      <td>0.011310</td>\n",
              "      <td>-0.011347</td>\n",
              "      <td>0.010061</td>\n",
              "      <td>-0.054428</td>\n",
              "      <td>-0.024449</td>\n",
              "      <td>-0.043512</td>\n",
              "      <td>...</td>\n",
              "      <td>-0.273714</td>\n",
              "      <td>1.000000</td>\n",
              "      <td>0.173796</td>\n",
              "      <td>0.113710</td>\n",
              "      <td>-0.435652</td>\n",
              "      <td>-0.309047</td>\n",
              "      <td>0.937334</td>\n",
              "      <td>0.572335</td>\n",
              "      <td>0.910776</td>\n",
              "      <td>-0.095577</td>\n",
              "    </tr>\n",
              "    <tr>\n",
              "      <th>V2</th>\n",
              "      <td>0.065063</td>\n",
              "      <td>0.019009</td>\n",
              "      <td>-0.050740</td>\n",
              "      <td>-0.021118</td>\n",
              "      <td>0.001779</td>\n",
              "      <td>0.008651</td>\n",
              "      <td>-0.006926</td>\n",
              "      <td>0.026232</td>\n",
              "      <td>-0.010418</td>\n",
              "      <td>0.025850</td>\n",
              "      <td>...</td>\n",
              "      <td>-0.009588</td>\n",
              "      <td>0.173796</td>\n",
              "      <td>1.000000</td>\n",
              "      <td>-0.029865</td>\n",
              "      <td>-0.164682</td>\n",
              "      <td>-0.406453</td>\n",
              "      <td>0.179933</td>\n",
              "      <td>0.107099</td>\n",
              "      <td>0.153246</td>\n",
              "      <td>-0.043922</td>\n",
              "    </tr>\n",
              "    <tr>\n",
              "      <th>V3</th>\n",
              "      <td>0.001900</td>\n",
              "      <td>0.007753</td>\n",
              "      <td>-0.062000</td>\n",
              "      <td>0.002551</td>\n",
              "      <td>0.002272</td>\n",
              "      <td>-0.006380</td>\n",
              "      <td>0.008049</td>\n",
              "      <td>0.005371</td>\n",
              "      <td>-0.004996</td>\n",
              "      <td>0.007986</td>\n",
              "      <td>...</td>\n",
              "      <td>0.023545</td>\n",
              "      <td>0.113710</td>\n",
              "      <td>-0.029865</td>\n",
              "      <td>1.000000</td>\n",
              "      <td>0.094807</td>\n",
              "      <td>0.034938</td>\n",
              "      <td>0.110503</td>\n",
              "      <td>0.078252</td>\n",
              "      <td>0.128663</td>\n",
              "      <td>-0.000325</td>\n",
              "    </tr>\n",
              "    <tr>\n",
              "      <th>V4</th>\n",
              "      <td>-0.074320</td>\n",
              "      <td>-0.000480</td>\n",
              "      <td>0.097022</td>\n",
              "      <td>0.021404</td>\n",
              "      <td>-0.006038</td>\n",
              "      <td>0.013045</td>\n",
              "      <td>-0.010905</td>\n",
              "      <td>0.070290</td>\n",
              "      <td>0.019121</td>\n",
              "      <td>0.037711</td>\n",
              "      <td>...</td>\n",
              "      <td>0.056647</td>\n",
              "      <td>-0.435652</td>\n",
              "      <td>-0.164682</td>\n",
              "      <td>0.094807</td>\n",
              "      <td>1.000000</td>\n",
              "      <td>0.087289</td>\n",
              "      <td>-0.405763</td>\n",
              "      <td>-0.250265</td>\n",
              "      <td>-0.386108</td>\n",
              "      <td>0.081574</td>\n",
              "    </tr>\n",
              "    <tr>\n",
              "      <th>V5</th>\n",
              "      <td>0.123721</td>\n",
              "      <td>-0.006284</td>\n",
              "      <td>0.055429</td>\n",
              "      <td>0.051348</td>\n",
              "      <td>-0.023902</td>\n",
              "      <td>0.001312</td>\n",
              "      <td>0.001705</td>\n",
              "      <td>-0.016671</td>\n",
              "      <td>0.029222</td>\n",
              "      <td>0.024499</td>\n",
              "      <td>...</td>\n",
              "      <td>0.109642</td>\n",
              "      <td>-0.309047</td>\n",
              "      <td>-0.406453</td>\n",
              "      <td>0.034938</td>\n",
              "      <td>0.087289</td>\n",
              "      <td>1.000000</td>\n",
              "      <td>-0.276837</td>\n",
              "      <td>-0.162438</td>\n",
              "      <td>-0.244230</td>\n",
              "      <td>0.033800</td>\n",
              "    </tr>\n",
              "    <tr>\n",
              "      <th>V6</th>\n",
              "      <td>-0.097389</td>\n",
              "      <td>0.003935</td>\n",
              "      <td>-0.244150</td>\n",
              "      <td>-0.019792</td>\n",
              "      <td>0.010608</td>\n",
              "      <td>-0.010245</td>\n",
              "      <td>0.008348</td>\n",
              "      <td>-0.046353</td>\n",
              "      <td>-0.025728</td>\n",
              "      <td>-0.020696</td>\n",
              "      <td>...</td>\n",
              "      <td>-0.331563</td>\n",
              "      <td>0.937334</td>\n",
              "      <td>0.179933</td>\n",
              "      <td>0.110503</td>\n",
              "      <td>-0.405763</td>\n",
              "      <td>-0.276837</td>\n",
              "      <td>1.000000</td>\n",
              "      <td>0.658544</td>\n",
              "      <td>0.822076</td>\n",
              "      <td>-0.089677</td>\n",
              "    </tr>\n",
              "    <tr>\n",
              "      <th>V8</th>\n",
              "      <td>-0.047593</td>\n",
              "      <td>0.008191</td>\n",
              "      <td>-0.165550</td>\n",
              "      <td>-0.029747</td>\n",
              "      <td>0.008257</td>\n",
              "      <td>-0.007963</td>\n",
              "      <td>0.005379</td>\n",
              "      <td>-0.023359</td>\n",
              "      <td>-0.016850</td>\n",
              "      <td>-0.008450</td>\n",
              "      <td>...</td>\n",
              "      <td>-0.276242</td>\n",
              "      <td>0.572335</td>\n",
              "      <td>0.107099</td>\n",
              "      <td>0.078252</td>\n",
              "      <td>-0.250265</td>\n",
              "      <td>-0.162438</td>\n",
              "      <td>0.658544</td>\n",
              "      <td>1.000000</td>\n",
              "      <td>0.513956</td>\n",
              "      <td>-0.056313</td>\n",
              "    </tr>\n",
              "    <tr>\n",
              "      <th>V10</th>\n",
              "      <td>-0.093818</td>\n",
              "      <td>0.005145</td>\n",
              "      <td>-0.259607</td>\n",
              "      <td>-0.004563</td>\n",
              "      <td>0.001946</td>\n",
              "      <td>-0.009630</td>\n",
              "      <td>0.008906</td>\n",
              "      <td>-0.022193</td>\n",
              "      <td>-0.002163</td>\n",
              "      <td>-0.041814</td>\n",
              "      <td>...</td>\n",
              "      <td>-0.154770</td>\n",
              "      <td>0.910776</td>\n",
              "      <td>0.153246</td>\n",
              "      <td>0.128663</td>\n",
              "      <td>-0.386108</td>\n",
              "      <td>-0.244230</td>\n",
              "      <td>0.822076</td>\n",
              "      <td>0.513956</td>\n",
              "      <td>1.000000</td>\n",
              "      <td>-0.055327</td>\n",
              "    </tr>\n",
              "    <tr>\n",
              "      <th>V11</th>\n",
              "      <td>0.078887</td>\n",
              "      <td>-0.011465</td>\n",
              "      <td>0.155722</td>\n",
              "      <td>0.344636</td>\n",
              "      <td>-0.034248</td>\n",
              "      <td>-0.009808</td>\n",
              "      <td>0.009841</td>\n",
              "      <td>-0.004897</td>\n",
              "      <td>0.012783</td>\n",
              "      <td>0.019360</td>\n",
              "      <td>...</td>\n",
              "      <td>0.023469</td>\n",
              "      <td>-0.095577</td>\n",
              "      <td>-0.043922</td>\n",
              "      <td>-0.000325</td>\n",
              "      <td>0.081574</td>\n",
              "      <td>0.033800</td>\n",
              "      <td>-0.089677</td>\n",
              "      <td>-0.056313</td>\n",
              "      <td>-0.055327</td>\n",
              "      <td>1.000000</td>\n",
              "    </tr>\n",
              "  </tbody>\n",
              "</table>\n",
              "<p>30 rows × 30 columns</p>\n",
              "</div>\n",
              "      <button class=\"colab-df-convert\" onclick=\"convertToInteractive('df-c31c0b8f-9011-44aa-a83e-dad4119b8ecd')\"\n",
              "              title=\"Convert this dataframe to an interactive table.\"\n",
              "              style=\"display:none;\">\n",
              "        \n",
              "  <svg xmlns=\"http://www.w3.org/2000/svg\" height=\"24px\"viewBox=\"0 0 24 24\"\n",
              "       width=\"24px\">\n",
              "    <path d=\"M0 0h24v24H0V0z\" fill=\"none\"/>\n",
              "    <path d=\"M18.56 5.44l.94 2.06.94-2.06 2.06-.94-2.06-.94-.94-2.06-.94 2.06-2.06.94zm-11 1L8.5 8.5l.94-2.06 2.06-.94-2.06-.94L8.5 2.5l-.94 2.06-2.06.94zm10 10l.94 2.06.94-2.06 2.06-.94-2.06-.94-.94-2.06-.94 2.06-2.06.94z\"/><path d=\"M17.41 7.96l-1.37-1.37c-.4-.4-.92-.59-1.43-.59-.52 0-1.04.2-1.43.59L10.3 9.45l-7.72 7.72c-.78.78-.78 2.05 0 2.83L4 21.41c.39.39.9.59 1.41.59.51 0 1.02-.2 1.41-.59l7.78-7.78 2.81-2.81c.8-.78.8-2.07 0-2.86zM5.41 20L4 18.59l7.72-7.72 1.47 1.35L5.41 20z\"/>\n",
              "  </svg>\n",
              "      </button>\n",
              "      \n",
              "  <style>\n",
              "    .colab-df-container {\n",
              "      display:flex;\n",
              "      flex-wrap:wrap;\n",
              "      gap: 12px;\n",
              "    }\n",
              "\n",
              "    .colab-df-convert {\n",
              "      background-color: #E8F0FE;\n",
              "      border: none;\n",
              "      border-radius: 50%;\n",
              "      cursor: pointer;\n",
              "      display: none;\n",
              "      fill: #1967D2;\n",
              "      height: 32px;\n",
              "      padding: 0 0 0 0;\n",
              "      width: 32px;\n",
              "    }\n",
              "\n",
              "    .colab-df-convert:hover {\n",
              "      background-color: #E2EBFA;\n",
              "      box-shadow: 0px 1px 2px rgba(60, 64, 67, 0.3), 0px 1px 3px 1px rgba(60, 64, 67, 0.15);\n",
              "      fill: #174EA6;\n",
              "    }\n",
              "\n",
              "    [theme=dark] .colab-df-convert {\n",
              "      background-color: #3B4455;\n",
              "      fill: #D2E3FC;\n",
              "    }\n",
              "\n",
              "    [theme=dark] .colab-df-convert:hover {\n",
              "      background-color: #434B5C;\n",
              "      box-shadow: 0px 1px 3px 1px rgba(0, 0, 0, 0.15);\n",
              "      filter: drop-shadow(0px 1px 2px rgba(0, 0, 0, 0.3));\n",
              "      fill: #FFFFFF;\n",
              "    }\n",
              "  </style>\n",
              "\n",
              "      <script>\n",
              "        const buttonEl =\n",
              "          document.querySelector('#df-c31c0b8f-9011-44aa-a83e-dad4119b8ecd button.colab-df-convert');\n",
              "        buttonEl.style.display =\n",
              "          google.colab.kernel.accessAllowed ? 'block' : 'none';\n",
              "\n",
              "        async function convertToInteractive(key) {\n",
              "          const element = document.querySelector('#df-c31c0b8f-9011-44aa-a83e-dad4119b8ecd');\n",
              "          const dataTable =\n",
              "            await google.colab.kernel.invokeFunction('convertToInteractive',\n",
              "                                                     [key], {});\n",
              "          if (!dataTable) return;\n",
              "\n",
              "          const docLinkHtml = 'Like what you see? Visit the ' +\n",
              "            '<a target=\"_blank\" href=https://colab.research.google.com/notebooks/data_table.ipynb>data table notebook</a>'\n",
              "            + ' to learn more about interactive tables.';\n",
              "          element.innerHTML = '';\n",
              "          dataTable['output_type'] = 'display_data';\n",
              "          await google.colab.output.renderOutput(dataTable, element);\n",
              "          const docLink = document.createElement('div');\n",
              "          docLink.innerHTML = docLinkHtml;\n",
              "          element.appendChild(docLink);\n",
              "        }\n",
              "      </script>\n",
              "    </div>\n",
              "  </div>\n",
              "  "
            ]
          },
          "metadata": {},
          "execution_count": 65
        }
      ],
      "source": [
        "corr"
      ]
    },
    {
      "cell_type": "markdown",
      "metadata": {
        "id": "o2FKOqhQX-aZ"
      },
      "source": [
        "## Preparing Data for Training"
      ]
    },
    {
      "cell_type": "code",
      "execution_count": null,
      "metadata": {
        "id": "lu80_8QZV3jD"
      },
      "outputs": [],
      "source": [
        "input_cols, target_col = driver_train_df.columns[3::], 'IsAlert'"
      ]
    },
    {
      "cell_type": "code",
      "execution_count": null,
      "metadata": {
        "colab": {
          "base_uri": "https://localhost:8080/"
        },
        "id": "oLUOlU7LYtBC",
        "outputId": "7390a1c6-f56f-4a73-bd42-0d0d942b6044"
      },
      "outputs": [
        {
          "output_type": "execute_result",
          "data": {
            "text/plain": [
              "Index(['P1', 'P2', 'P3', 'P4', 'P5', 'P6', 'P7', 'E1', 'E2', 'E3', 'E4', 'E5',\n",
              "       'E6', 'E7', 'E8', 'E9', 'E10', 'E11', 'V1', 'V2', 'V3', 'V4', 'V5',\n",
              "       'V6', 'V8', 'V10', 'V11'],\n",
              "      dtype='object')"
            ]
          },
          "metadata": {},
          "execution_count": 67
        }
      ],
      "source": [
        "input_cols"
      ]
    },
    {
      "cell_type": "code",
      "execution_count": null,
      "metadata": {
        "colab": {
          "base_uri": "https://localhost:8080/",
          "height": 35
        },
        "id": "BBJwgt6UZif-",
        "outputId": "0db8ecf8-5038-40a8-e71b-c86de83b9a06"
      },
      "outputs": [
        {
          "output_type": "execute_result",
          "data": {
            "text/plain": [
              "'IsAlert'"
            ],
            "application/vnd.google.colaboratory.intrinsic+json": {
              "type": "string"
            }
          },
          "metadata": {},
          "execution_count": 68
        }
      ],
      "source": [
        "target_col"
      ]
    },
    {
      "cell_type": "code",
      "execution_count": null,
      "metadata": {
        "id": "iaA0OkGNYwzn"
      },
      "outputs": [],
      "source": [
        "inputs_df, targets = driver_train_df[input_cols].copy(), driver_train_df[target_col].copy()"
      ]
    },
    {
      "cell_type": "markdown",
      "metadata": {
        "id": "KsWK-A9RZzCv"
      },
      "source": [
        "Imputing and Scaling Columns"
      ]
    },
    {
      "cell_type": "code",
      "execution_count": null,
      "metadata": {
        "id": "ApEnuGHPZee1"
      },
      "outputs": [],
      "source": [
        "from sklearn.impute import SimpleImputer\n",
        "from sklearn.preprocessing import MinMaxScaler\n",
        "\n",
        "imputer = SimpleImputer().fit(inputs_df[input_cols])\n",
        "inputs_df[input_cols] = imputer.transform(inputs_df[input_cols])\n",
        "scaler = MinMaxScaler().fit(inputs_df[input_cols])\n",
        "inputs_df[input_cols] = scaler.transform(inputs_df[input_cols])"
      ]
    },
    {
      "cell_type": "code",
      "execution_count": null,
      "metadata": {
        "colab": {
          "base_uri": "https://localhost:8080/",
          "height": 488
        },
        "id": "fnyso1FCafyJ",
        "outputId": "c1ed0415-11a3-478f-af63-7b21df2cf59f"
      },
      "outputs": [
        {
          "output_type": "execute_result",
          "data": {
            "text/plain": [
              "              P1        P2        P3        P4        P5        P6        P7  \\\n",
              "0       0.462091  0.474947  0.446215  0.199362  0.009265  0.001942  0.223342   \n",
              "1       0.459515  0.505470  0.446215  0.199362  0.009265  0.001942  0.223342   \n",
              "2       0.458894  0.520658  0.446215  0.199362  0.009265  0.001959  0.221788   \n",
              "3       0.458873  0.466394  0.446215  0.199362  0.009265  0.001959  0.221788   \n",
              "4       0.458793  0.516499  0.446215  0.199362  0.009265  0.001959  0.221788   \n",
              "...          ...       ...       ...       ...       ...       ...       ...   \n",
              "604324  0.440001  0.477399  0.147410  0.537130  0.001576  0.002414  0.187781   \n",
              "604325  0.440277  0.497245  0.147410  0.537130  0.001576  0.002414  0.187781   \n",
              "604326  0.440575  0.476795  0.147410  0.537130  0.001576  0.002414  0.187781   \n",
              "604327  0.440892  0.543430  0.147410  0.537130  0.001576  0.002414  0.187781   \n",
              "604328  0.440892  0.543430  0.147410  0.537130  0.001576  0.002414  0.187781   \n",
              "\n",
              "              E1        E2    E3  ...  E11        V1        V2        V3  \\\n",
              "0       0.000000  0.000000  0.25  ...  0.0  0.786122  0.565737  0.653895   \n",
              "1       0.000000  0.000000  0.25  ...  0.0  0.786276  0.597610  0.653895   \n",
              "2       0.000000  0.000000  0.25  ...  0.0  0.786199  0.577689  0.653895   \n",
              "3       0.000000  0.000000  0.25  ...  0.0  0.786353  0.553785  0.653895   \n",
              "4       0.000000  0.000000  0.25  ...  0.0  0.786970  0.565737  0.653895   \n",
              "...          ...       ...   ...  ...  ...       ...       ...       ...   \n",
              "604324  0.072982  0.616981  0.00  ...  0.0  0.705551  0.577689  0.000000   \n",
              "604325  0.072982  0.616981  0.00  ...  0.0  0.705551  0.577689  0.000000   \n",
              "604326  0.072982  0.616981  0.00  ...  0.0  0.705937  0.565737  0.000000   \n",
              "604327  0.072982  0.616981  0.00  ...  0.0  0.705937  0.565737  0.000000   \n",
              "604328  0.072982  0.616981  0.00  ...  0.0  0.705937  0.565737  0.000000   \n",
              "\n",
              "              V4   V5        V6        V8  V10       V11  \n",
              "0       0.012371  0.0  0.409853  0.163216  0.5  0.050310  \n",
              "1       0.012371  0.0  0.410262  0.163216  0.5  0.050204  \n",
              "2       0.012371  0.0  0.411079  0.163216  0.5  0.050207  \n",
              "3       0.012371  0.0  0.411897  0.163216  0.5  0.050181  \n",
              "4       0.012371  0.0  0.412306  0.163216  0.5  0.050215  \n",
              "...          ...  ...       ...       ...  ...       ...  \n",
              "604324  0.006231  0.0  0.368152  0.370280  0.5  0.054185  \n",
              "604325  0.006231  0.0  0.368152  0.370280  0.5  0.054149  \n",
              "604326  0.006231  0.0  0.367948  0.381242  0.5  0.054188  \n",
              "604327  0.006231  0.0  0.367948  0.381242  0.5  0.054245  \n",
              "604328  0.006231  0.0  0.367948  0.381242  0.5  0.054245  \n",
              "\n",
              "[604329 rows x 27 columns]"
            ],
            "text/html": [
              "\n",
              "  <div id=\"df-bb9d79d0-d736-4c8f-83b2-fa5c33c66539\">\n",
              "    <div class=\"colab-df-container\">\n",
              "      <div>\n",
              "<style scoped>\n",
              "    .dataframe tbody tr th:only-of-type {\n",
              "        vertical-align: middle;\n",
              "    }\n",
              "\n",
              "    .dataframe tbody tr th {\n",
              "        vertical-align: top;\n",
              "    }\n",
              "\n",
              "    .dataframe thead th {\n",
              "        text-align: right;\n",
              "    }\n",
              "</style>\n",
              "<table border=\"1\" class=\"dataframe\">\n",
              "  <thead>\n",
              "    <tr style=\"text-align: right;\">\n",
              "      <th></th>\n",
              "      <th>P1</th>\n",
              "      <th>P2</th>\n",
              "      <th>P3</th>\n",
              "      <th>P4</th>\n",
              "      <th>P5</th>\n",
              "      <th>P6</th>\n",
              "      <th>P7</th>\n",
              "      <th>E1</th>\n",
              "      <th>E2</th>\n",
              "      <th>E3</th>\n",
              "      <th>...</th>\n",
              "      <th>E11</th>\n",
              "      <th>V1</th>\n",
              "      <th>V2</th>\n",
              "      <th>V3</th>\n",
              "      <th>V4</th>\n",
              "      <th>V5</th>\n",
              "      <th>V6</th>\n",
              "      <th>V8</th>\n",
              "      <th>V10</th>\n",
              "      <th>V11</th>\n",
              "    </tr>\n",
              "  </thead>\n",
              "  <tbody>\n",
              "    <tr>\n",
              "      <th>0</th>\n",
              "      <td>0.462091</td>\n",
              "      <td>0.474947</td>\n",
              "      <td>0.446215</td>\n",
              "      <td>0.199362</td>\n",
              "      <td>0.009265</td>\n",
              "      <td>0.001942</td>\n",
              "      <td>0.223342</td>\n",
              "      <td>0.000000</td>\n",
              "      <td>0.000000</td>\n",
              "      <td>0.25</td>\n",
              "      <td>...</td>\n",
              "      <td>0.0</td>\n",
              "      <td>0.786122</td>\n",
              "      <td>0.565737</td>\n",
              "      <td>0.653895</td>\n",
              "      <td>0.012371</td>\n",
              "      <td>0.0</td>\n",
              "      <td>0.409853</td>\n",
              "      <td>0.163216</td>\n",
              "      <td>0.5</td>\n",
              "      <td>0.050310</td>\n",
              "    </tr>\n",
              "    <tr>\n",
              "      <th>1</th>\n",
              "      <td>0.459515</td>\n",
              "      <td>0.505470</td>\n",
              "      <td>0.446215</td>\n",
              "      <td>0.199362</td>\n",
              "      <td>0.009265</td>\n",
              "      <td>0.001942</td>\n",
              "      <td>0.223342</td>\n",
              "      <td>0.000000</td>\n",
              "      <td>0.000000</td>\n",
              "      <td>0.25</td>\n",
              "      <td>...</td>\n",
              "      <td>0.0</td>\n",
              "      <td>0.786276</td>\n",
              "      <td>0.597610</td>\n",
              "      <td>0.653895</td>\n",
              "      <td>0.012371</td>\n",
              "      <td>0.0</td>\n",
              "      <td>0.410262</td>\n",
              "      <td>0.163216</td>\n",
              "      <td>0.5</td>\n",
              "      <td>0.050204</td>\n",
              "    </tr>\n",
              "    <tr>\n",
              "      <th>2</th>\n",
              "      <td>0.458894</td>\n",
              "      <td>0.520658</td>\n",
              "      <td>0.446215</td>\n",
              "      <td>0.199362</td>\n",
              "      <td>0.009265</td>\n",
              "      <td>0.001959</td>\n",
              "      <td>0.221788</td>\n",
              "      <td>0.000000</td>\n",
              "      <td>0.000000</td>\n",
              "      <td>0.25</td>\n",
              "      <td>...</td>\n",
              "      <td>0.0</td>\n",
              "      <td>0.786199</td>\n",
              "      <td>0.577689</td>\n",
              "      <td>0.653895</td>\n",
              "      <td>0.012371</td>\n",
              "      <td>0.0</td>\n",
              "      <td>0.411079</td>\n",
              "      <td>0.163216</td>\n",
              "      <td>0.5</td>\n",
              "      <td>0.050207</td>\n",
              "    </tr>\n",
              "    <tr>\n",
              "      <th>3</th>\n",
              "      <td>0.458873</td>\n",
              "      <td>0.466394</td>\n",
              "      <td>0.446215</td>\n",
              "      <td>0.199362</td>\n",
              "      <td>0.009265</td>\n",
              "      <td>0.001959</td>\n",
              "      <td>0.221788</td>\n",
              "      <td>0.000000</td>\n",
              "      <td>0.000000</td>\n",
              "      <td>0.25</td>\n",
              "      <td>...</td>\n",
              "      <td>0.0</td>\n",
              "      <td>0.786353</td>\n",
              "      <td>0.553785</td>\n",
              "      <td>0.653895</td>\n",
              "      <td>0.012371</td>\n",
              "      <td>0.0</td>\n",
              "      <td>0.411897</td>\n",
              "      <td>0.163216</td>\n",
              "      <td>0.5</td>\n",
              "      <td>0.050181</td>\n",
              "    </tr>\n",
              "    <tr>\n",
              "      <th>4</th>\n",
              "      <td>0.458793</td>\n",
              "      <td>0.516499</td>\n",
              "      <td>0.446215</td>\n",
              "      <td>0.199362</td>\n",
              "      <td>0.009265</td>\n",
              "      <td>0.001959</td>\n",
              "      <td>0.221788</td>\n",
              "      <td>0.000000</td>\n",
              "      <td>0.000000</td>\n",
              "      <td>0.25</td>\n",
              "      <td>...</td>\n",
              "      <td>0.0</td>\n",
              "      <td>0.786970</td>\n",
              "      <td>0.565737</td>\n",
              "      <td>0.653895</td>\n",
              "      <td>0.012371</td>\n",
              "      <td>0.0</td>\n",
              "      <td>0.412306</td>\n",
              "      <td>0.163216</td>\n",
              "      <td>0.5</td>\n",
              "      <td>0.050215</td>\n",
              "    </tr>\n",
              "    <tr>\n",
              "      <th>...</th>\n",
              "      <td>...</td>\n",
              "      <td>...</td>\n",
              "      <td>...</td>\n",
              "      <td>...</td>\n",
              "      <td>...</td>\n",
              "      <td>...</td>\n",
              "      <td>...</td>\n",
              "      <td>...</td>\n",
              "      <td>...</td>\n",
              "      <td>...</td>\n",
              "      <td>...</td>\n",
              "      <td>...</td>\n",
              "      <td>...</td>\n",
              "      <td>...</td>\n",
              "      <td>...</td>\n",
              "      <td>...</td>\n",
              "      <td>...</td>\n",
              "      <td>...</td>\n",
              "      <td>...</td>\n",
              "      <td>...</td>\n",
              "      <td>...</td>\n",
              "    </tr>\n",
              "    <tr>\n",
              "      <th>604324</th>\n",
              "      <td>0.440001</td>\n",
              "      <td>0.477399</td>\n",
              "      <td>0.147410</td>\n",
              "      <td>0.537130</td>\n",
              "      <td>0.001576</td>\n",
              "      <td>0.002414</td>\n",
              "      <td>0.187781</td>\n",
              "      <td>0.072982</td>\n",
              "      <td>0.616981</td>\n",
              "      <td>0.00</td>\n",
              "      <td>...</td>\n",
              "      <td>0.0</td>\n",
              "      <td>0.705551</td>\n",
              "      <td>0.577689</td>\n",
              "      <td>0.000000</td>\n",
              "      <td>0.006231</td>\n",
              "      <td>0.0</td>\n",
              "      <td>0.368152</td>\n",
              "      <td>0.370280</td>\n",
              "      <td>0.5</td>\n",
              "      <td>0.054185</td>\n",
              "    </tr>\n",
              "    <tr>\n",
              "      <th>604325</th>\n",
              "      <td>0.440277</td>\n",
              "      <td>0.497245</td>\n",
              "      <td>0.147410</td>\n",
              "      <td>0.537130</td>\n",
              "      <td>0.001576</td>\n",
              "      <td>0.002414</td>\n",
              "      <td>0.187781</td>\n",
              "      <td>0.072982</td>\n",
              "      <td>0.616981</td>\n",
              "      <td>0.00</td>\n",
              "      <td>...</td>\n",
              "      <td>0.0</td>\n",
              "      <td>0.705551</td>\n",
              "      <td>0.577689</td>\n",
              "      <td>0.000000</td>\n",
              "      <td>0.006231</td>\n",
              "      <td>0.0</td>\n",
              "      <td>0.368152</td>\n",
              "      <td>0.370280</td>\n",
              "      <td>0.5</td>\n",
              "      <td>0.054149</td>\n",
              "    </tr>\n",
              "    <tr>\n",
              "      <th>604326</th>\n",
              "      <td>0.440575</td>\n",
              "      <td>0.476795</td>\n",
              "      <td>0.147410</td>\n",
              "      <td>0.537130</td>\n",
              "      <td>0.001576</td>\n",
              "      <td>0.002414</td>\n",
              "      <td>0.187781</td>\n",
              "      <td>0.072982</td>\n",
              "      <td>0.616981</td>\n",
              "      <td>0.00</td>\n",
              "      <td>...</td>\n",
              "      <td>0.0</td>\n",
              "      <td>0.705937</td>\n",
              "      <td>0.565737</td>\n",
              "      <td>0.000000</td>\n",
              "      <td>0.006231</td>\n",
              "      <td>0.0</td>\n",
              "      <td>0.367948</td>\n",
              "      <td>0.381242</td>\n",
              "      <td>0.5</td>\n",
              "      <td>0.054188</td>\n",
              "    </tr>\n",
              "    <tr>\n",
              "      <th>604327</th>\n",
              "      <td>0.440892</td>\n",
              "      <td>0.543430</td>\n",
              "      <td>0.147410</td>\n",
              "      <td>0.537130</td>\n",
              "      <td>0.001576</td>\n",
              "      <td>0.002414</td>\n",
              "      <td>0.187781</td>\n",
              "      <td>0.072982</td>\n",
              "      <td>0.616981</td>\n",
              "      <td>0.00</td>\n",
              "      <td>...</td>\n",
              "      <td>0.0</td>\n",
              "      <td>0.705937</td>\n",
              "      <td>0.565737</td>\n",
              "      <td>0.000000</td>\n",
              "      <td>0.006231</td>\n",
              "      <td>0.0</td>\n",
              "      <td>0.367948</td>\n",
              "      <td>0.381242</td>\n",
              "      <td>0.5</td>\n",
              "      <td>0.054245</td>\n",
              "    </tr>\n",
              "    <tr>\n",
              "      <th>604328</th>\n",
              "      <td>0.440892</td>\n",
              "      <td>0.543430</td>\n",
              "      <td>0.147410</td>\n",
              "      <td>0.537130</td>\n",
              "      <td>0.001576</td>\n",
              "      <td>0.002414</td>\n",
              "      <td>0.187781</td>\n",
              "      <td>0.072982</td>\n",
              "      <td>0.616981</td>\n",
              "      <td>0.00</td>\n",
              "      <td>...</td>\n",
              "      <td>0.0</td>\n",
              "      <td>0.705937</td>\n",
              "      <td>0.565737</td>\n",
              "      <td>0.000000</td>\n",
              "      <td>0.006231</td>\n",
              "      <td>0.0</td>\n",
              "      <td>0.367948</td>\n",
              "      <td>0.381242</td>\n",
              "      <td>0.5</td>\n",
              "      <td>0.054245</td>\n",
              "    </tr>\n",
              "  </tbody>\n",
              "</table>\n",
              "<p>604329 rows × 27 columns</p>\n",
              "</div>\n",
              "      <button class=\"colab-df-convert\" onclick=\"convertToInteractive('df-bb9d79d0-d736-4c8f-83b2-fa5c33c66539')\"\n",
              "              title=\"Convert this dataframe to an interactive table.\"\n",
              "              style=\"display:none;\">\n",
              "        \n",
              "  <svg xmlns=\"http://www.w3.org/2000/svg\" height=\"24px\"viewBox=\"0 0 24 24\"\n",
              "       width=\"24px\">\n",
              "    <path d=\"M0 0h24v24H0V0z\" fill=\"none\"/>\n",
              "    <path d=\"M18.56 5.44l.94 2.06.94-2.06 2.06-.94-2.06-.94-.94-2.06-.94 2.06-2.06.94zm-11 1L8.5 8.5l.94-2.06 2.06-.94-2.06-.94L8.5 2.5l-.94 2.06-2.06.94zm10 10l.94 2.06.94-2.06 2.06-.94-2.06-.94-.94-2.06-.94 2.06-2.06.94z\"/><path d=\"M17.41 7.96l-1.37-1.37c-.4-.4-.92-.59-1.43-.59-.52 0-1.04.2-1.43.59L10.3 9.45l-7.72 7.72c-.78.78-.78 2.05 0 2.83L4 21.41c.39.39.9.59 1.41.59.51 0 1.02-.2 1.41-.59l7.78-7.78 2.81-2.81c.8-.78.8-2.07 0-2.86zM5.41 20L4 18.59l7.72-7.72 1.47 1.35L5.41 20z\"/>\n",
              "  </svg>\n",
              "      </button>\n",
              "      \n",
              "  <style>\n",
              "    .colab-df-container {\n",
              "      display:flex;\n",
              "      flex-wrap:wrap;\n",
              "      gap: 12px;\n",
              "    }\n",
              "\n",
              "    .colab-df-convert {\n",
              "      background-color: #E8F0FE;\n",
              "      border: none;\n",
              "      border-radius: 50%;\n",
              "      cursor: pointer;\n",
              "      display: none;\n",
              "      fill: #1967D2;\n",
              "      height: 32px;\n",
              "      padding: 0 0 0 0;\n",
              "      width: 32px;\n",
              "    }\n",
              "\n",
              "    .colab-df-convert:hover {\n",
              "      background-color: #E2EBFA;\n",
              "      box-shadow: 0px 1px 2px rgba(60, 64, 67, 0.3), 0px 1px 3px 1px rgba(60, 64, 67, 0.15);\n",
              "      fill: #174EA6;\n",
              "    }\n",
              "\n",
              "    [theme=dark] .colab-df-convert {\n",
              "      background-color: #3B4455;\n",
              "      fill: #D2E3FC;\n",
              "    }\n",
              "\n",
              "    [theme=dark] .colab-df-convert:hover {\n",
              "      background-color: #434B5C;\n",
              "      box-shadow: 0px 1px 3px 1px rgba(0, 0, 0, 0.15);\n",
              "      filter: drop-shadow(0px 1px 2px rgba(0, 0, 0, 0.3));\n",
              "      fill: #FFFFFF;\n",
              "    }\n",
              "  </style>\n",
              "\n",
              "      <script>\n",
              "        const buttonEl =\n",
              "          document.querySelector('#df-bb9d79d0-d736-4c8f-83b2-fa5c33c66539 button.colab-df-convert');\n",
              "        buttonEl.style.display =\n",
              "          google.colab.kernel.accessAllowed ? 'block' : 'none';\n",
              "\n",
              "        async function convertToInteractive(key) {\n",
              "          const element = document.querySelector('#df-bb9d79d0-d736-4c8f-83b2-fa5c33c66539');\n",
              "          const dataTable =\n",
              "            await google.colab.kernel.invokeFunction('convertToInteractive',\n",
              "                                                     [key], {});\n",
              "          if (!dataTable) return;\n",
              "\n",
              "          const docLinkHtml = 'Like what you see? Visit the ' +\n",
              "            '<a target=\"_blank\" href=https://colab.research.google.com/notebooks/data_table.ipynb>data table notebook</a>'\n",
              "            + ' to learn more about interactive tables.';\n",
              "          element.innerHTML = '';\n",
              "          dataTable['output_type'] = 'display_data';\n",
              "          await google.colab.output.renderOutput(dataTable, element);\n",
              "          const docLink = document.createElement('div');\n",
              "          docLink.innerHTML = docLinkHtml;\n",
              "          element.appendChild(docLink);\n",
              "        }\n",
              "      </script>\n",
              "    </div>\n",
              "  </div>\n",
              "  "
            ]
          },
          "metadata": {},
          "execution_count": 71
        }
      ],
      "source": [
        "inputs_df[input_cols]"
      ]
    },
    {
      "cell_type": "code",
      "execution_count": null,
      "metadata": {
        "id": "7I1v33lIakfF"
      },
      "outputs": [],
      "source": [
        "from sklearn.model_selection import train_test_split\n",
        "\n",
        "train_inputs, val_inputs, train_targets, val_targets = train_test_split(\n",
        "    inputs_df[input_cols], targets, test_size=0.25, random_state=42)"
      ]
    },
    {
      "cell_type": "code",
      "execution_count": null,
      "metadata": {
        "colab": {
          "base_uri": "https://localhost:8080/",
          "height": 87
        },
        "id": "5nmGTYhqargY",
        "outputId": "93da653c-76e5-48d1-c975-97afa31873c2"
      },
      "outputs": [
        {
          "output_type": "stream",
          "name": "stdout",
          "text": [
            "[jovian] Detected Colab notebook...\u001b[0m\n",
            "[jovian] Uploading colab notebook to Jovian...\u001b[0m\n",
            "Committed successfully! https://jovian.ai/debg48/driver-alert\n"
          ]
        },
        {
          "output_type": "execute_result",
          "data": {
            "text/plain": [
              "'https://jovian.ai/debg48/driver-alert'"
            ],
            "application/vnd.google.colaboratory.intrinsic+json": {
              "type": "string"
            }
          },
          "metadata": {},
          "execution_count": 73
        }
      ],
      "source": [
        "jovian.commit()"
      ]
    },
    {
      "cell_type": "markdown",
      "metadata": {
        "id": "q_Mvhh9TaxYz"
      },
      "source": [
        "## Training Model"
      ]
    },
    {
      "cell_type": "markdown",
      "metadata": {
        "id": "RzcoSXlbcbY3"
      },
      "source": [
        "### Logistic Regression"
      ]
    },
    {
      "cell_type": "code",
      "execution_count": null,
      "metadata": {
        "id": "WTIq9MLUatXG"
      },
      "outputs": [],
      "source": [
        "from sklearn.linear_model import LogisticRegression"
      ]
    },
    {
      "cell_type": "code",
      "execution_count": null,
      "metadata": {
        "id": "ukRO5P4oa7e1"
      },
      "outputs": [],
      "source": [
        "log_model = LogisticRegression(max_iter=1000)"
      ]
    },
    {
      "cell_type": "code",
      "execution_count": null,
      "metadata": {
        "colab": {
          "base_uri": "https://localhost:8080/"
        },
        "id": "A_oJlQk3bCPE",
        "outputId": "51ab49af-abcb-40af-9f7f-cf3e16763689"
      },
      "outputs": [
        {
          "output_type": "stream",
          "name": "stdout",
          "text": [
            "CPU times: user 50.9 s, sys: 20.9 s, total: 1min 11s\n",
            "Wall time: 49.4 s\n"
          ]
        },
        {
          "output_type": "execute_result",
          "data": {
            "text/plain": [
              "LogisticRegression(max_iter=1000)"
            ]
          },
          "metadata": {},
          "execution_count": 76
        }
      ],
      "source": [
        "%%time\n",
        "log_model.fit(train_inputs, train_targets)"
      ]
    },
    {
      "cell_type": "code",
      "execution_count": null,
      "metadata": {
        "id": "ZrFEoLbtb8fo"
      },
      "outputs": [],
      "source": [
        "log_train_score=log_model.score(train_inputs,train_targets)"
      ]
    },
    {
      "cell_type": "code",
      "execution_count": null,
      "metadata": {
        "id": "S_fmn6uEcRTj"
      },
      "outputs": [],
      "source": [
        "log_val_score = log_model.score(val_inputs,val_targets)"
      ]
    },
    {
      "cell_type": "code",
      "execution_count": null,
      "metadata": {
        "colab": {
          "base_uri": "https://localhost:8080/"
        },
        "id": "5t87ODkDcU1T",
        "outputId": "66cda8a5-b32f-4837-b588-2327c90e1f77"
      },
      "outputs": [
        {
          "output_type": "stream",
          "name": "stdout",
          "text": [
            "Train Loss: 0.20871006032044404, Validation Loss: 0.20889842007373427\n"
          ]
        }
      ],
      "source": [
        "print('Train Loss: {}, Validation Loss: {}'.format(1-log_train_score, 1-log_val_score))"
      ]
    },
    {
      "cell_type": "markdown",
      "metadata": {
        "id": "6K9E_Xa30JLN"
      },
      "source": [
        "### Decision Tree"
      ]
    },
    {
      "cell_type": "code",
      "execution_count": null,
      "metadata": {
        "id": "2pwAX8fDcYVl"
      },
      "outputs": [],
      "source": [
        "from sklearn.tree import DecisionTreeClassifier"
      ]
    },
    {
      "cell_type": "code",
      "execution_count": null,
      "metadata": {
        "id": "VpMFt0Uf4S6P"
      },
      "outputs": [],
      "source": [
        "tree = DecisionTreeClassifier()"
      ]
    },
    {
      "cell_type": "code",
      "execution_count": null,
      "metadata": {
        "colab": {
          "base_uri": "https://localhost:8080/"
        },
        "id": "EH_V_DYb5WXp",
        "outputId": "606d118e-40c6-4fec-bea9-62fa5db91527"
      },
      "outputs": [
        {
          "output_type": "stream",
          "name": "stdout",
          "text": [
            "CPU times: user 13.1 s, sys: 26.7 ms, total: 13.1 s\n",
            "Wall time: 13 s\n"
          ]
        },
        {
          "output_type": "execute_result",
          "data": {
            "text/plain": [
              "DecisionTreeClassifier()"
            ]
          },
          "metadata": {},
          "execution_count": 82
        }
      ],
      "source": [
        "%%time\n",
        "tree.fit(train_inputs,train_targets)"
      ]
    },
    {
      "cell_type": "code",
      "execution_count": null,
      "metadata": {
        "id": "8i5iYonU5hWL"
      },
      "outputs": [],
      "source": [
        "tree_train_score=tree.score(train_inputs,train_targets)"
      ]
    },
    {
      "cell_type": "code",
      "execution_count": null,
      "metadata": {
        "id": "4CCIeDqa6t_m"
      },
      "outputs": [],
      "source": [
        "tree_val_score=tree.score(val_inputs,val_targets)"
      ]
    },
    {
      "cell_type": "code",
      "execution_count": null,
      "metadata": {
        "colab": {
          "base_uri": "https://localhost:8080/"
        },
        "id": "PbiRn71x7DMV",
        "outputId": "c7ce3190-64ef-47b3-d114-59b2aa46af0c"
      },
      "outputs": [
        {
          "output_type": "stream",
          "name": "stdout",
          "text": [
            "Train Loss: 0.0, Validation Loss: 0.01286709954131171\n"
          ]
        }
      ],
      "source": [
        "print('Train Loss: {}, Validation Loss: {}'.format(1-tree_train_score, 1-tree_val_score))"
      ]
    },
    {
      "cell_type": "markdown",
      "metadata": {
        "id": "0JZzf61E7LWR"
      },
      "source": [
        "### Random Forest"
      ]
    },
    {
      "cell_type": "code",
      "execution_count": null,
      "metadata": {
        "id": "M_pc8oeQ7HN8"
      },
      "outputs": [],
      "source": [
        "from sklearn.ensemble import RandomForestClassifier"
      ]
    },
    {
      "cell_type": "code",
      "execution_count": null,
      "metadata": {
        "id": "Pgn-F16n8DLK"
      },
      "outputs": [],
      "source": [
        "rf1 = RandomForestClassifier(n_jobs=1,random_state=42)"
      ]
    },
    {
      "cell_type": "code",
      "execution_count": null,
      "metadata": {
        "colab": {
          "base_uri": "https://localhost:8080/"
        },
        "id": "q9YrDq5k8XLn",
        "outputId": "612783b2-ad6e-42d9-9547-87b3d8aaf506"
      },
      "outputs": [
        {
          "output_type": "stream",
          "name": "stdout",
          "text": [
            "CPU times: user 3min 11s, sys: 335 ms, total: 3min 11s\n",
            "Wall time: 3min 11s\n"
          ]
        },
        {
          "output_type": "execute_result",
          "data": {
            "text/plain": [
              "RandomForestClassifier(n_jobs=1, random_state=42)"
            ]
          },
          "metadata": {},
          "execution_count": 88
        }
      ],
      "source": [
        "%%time\n",
        "rf1.fit(train_inputs,train_targets)"
      ]
    },
    {
      "cell_type": "code",
      "execution_count": null,
      "metadata": {
        "id": "y_ZN_9Ic9HQN"
      },
      "outputs": [],
      "source": [
        "rf1_train_score=rf1.score(train_inputs,train_targets)"
      ]
    },
    {
      "cell_type": "code",
      "execution_count": null,
      "metadata": {
        "id": "1Z2I5tHy9kr3"
      },
      "outputs": [],
      "source": [
        "rf1_val_score=rf1.score(val_inputs,val_targets)"
      ]
    },
    {
      "cell_type": "code",
      "execution_count": null,
      "metadata": {
        "colab": {
          "base_uri": "https://localhost:8080/"
        },
        "id": "W-i_QiYB9s9P",
        "outputId": "53bff4c2-42b1-47e0-b384-9f2a2b2e9006"
      },
      "outputs": [
        {
          "output_type": "stream",
          "name": "stdout",
          "text": [
            "Train Loss: 0.0, Validation Loss: 0.006294553324993513\n"
          ]
        }
      ],
      "source": [
        "print('Train Loss: {}, Validation Loss: {}'.format(1-rf1_train_score, 1-rf1_val_score))"
      ]
    },
    {
      "cell_type": "markdown",
      "metadata": {
        "id": "YlGriooUZTRW"
      },
      "source": [
        "#### Hyperparameter Tunning"
      ]
    },
    {
      "cell_type": "code",
      "execution_count": null,
      "metadata": {
        "id": "NARz3ELSj-MO"
      },
      "outputs": [],
      "source": [
        "def test_params(**params):\n",
        "    model = RandomForestClassifier(random_state=42, n_jobs=1, **params).fit(train_inputs, train_targets)\n",
        "    return model.score(train_inputs, train_targets), model.score(val_inputs,val_targets)"
      ]
    },
    {
      "cell_type": "code",
      "execution_count": null,
      "metadata": {
        "colab": {
          "base_uri": "https://localhost:8080/"
        },
        "id": "PN5lL2Gmj-DI",
        "outputId": "c4cca020-9a4e-4dec-ee72-d2e0f54659df"
      },
      "outputs": [
        {
          "output_type": "execute_result",
          "data": {
            "text/plain": [
              "(1.0, 0.9937054466750065)"
            ]
          },
          "metadata": {},
          "execution_count": 93
        }
      ],
      "source": [
        "test_params(n_estimators=100)"
      ]
    },
    {
      "cell_type": "code",
      "execution_count": null,
      "metadata": {
        "colab": {
          "base_uri": "https://localhost:8080/"
        },
        "id": "1AyBB2Flj961",
        "outputId": "746ea320-9fce-4e63-9091-34708cddd17d"
      },
      "outputs": [
        {
          "output_type": "execute_result",
          "data": {
            "text/plain": [
              "(1.0, 0.9938973941475877)"
            ]
          },
          "metadata": {},
          "execution_count": 94
        }
      ],
      "source": [
        "test_params(n_estimators=200)"
      ]
    },
    {
      "cell_type": "code",
      "execution_count": null,
      "metadata": {
        "colab": {
          "base_uri": "https://localhost:8080/"
        },
        "id": "hSLGexhGndwr",
        "outputId": "54a6912e-faa6-442f-ae4c-9a4121ece80e"
      },
      "outputs": [
        {
          "output_type": "execute_result",
          "data": {
            "text/plain": [
              "(0.9999911747704338, 0.9936127823778983)"
            ]
          },
          "metadata": {},
          "execution_count": 95
        }
      ],
      "source": [
        "test_params(n_estimators=50)"
      ]
    },
    {
      "cell_type": "code",
      "execution_count": null,
      "metadata": {
        "colab": {
          "base_uri": "https://localhost:8080/"
        },
        "id": "JA-MdgAnj9wJ",
        "outputId": "ba215a73-568d-43da-de38-c45bc083743a"
      },
      "outputs": [
        {
          "output_type": "execute_result",
          "data": {
            "text/plain": [
              "(0.9093031157472984, 0.9075541258778287)"
            ]
          },
          "metadata": {},
          "execution_count": 96
        }
      ],
      "source": [
        "test_params(n_estimators=30, max_depth=10)"
      ]
    },
    {
      "cell_type": "code",
      "execution_count": null,
      "metadata": {
        "colab": {
          "base_uri": "https://localhost:8080/"
        },
        "id": "rsRJWHZrlgsi",
        "outputId": "be373423-091d-4f6e-dfb0-7912e274f734"
      },
      "outputs": [
        {
          "output_type": "execute_result",
          "data": {
            "text/plain": [
              "(0.9784598209360921, 0.9734980110270514)"
            ]
          },
          "metadata": {},
          "execution_count": 97
        }
      ],
      "source": [
        "test_params(n_estimators=30, max_depth=20)"
      ]
    },
    {
      "cell_type": "code",
      "execution_count": null,
      "metadata": {
        "colab": {
          "base_uri": "https://localhost:8080/"
        },
        "id": "sg1cL6XHljLE",
        "outputId": "7830dc11-04c2-4d51-b502-0d59baacb4c2"
      },
      "outputs": [
        {
          "output_type": "execute_result",
          "data": {
            "text/plain": [
              "(0.9991108581211969, 0.9913027938285578)"
            ]
          },
          "metadata": {},
          "execution_count": 98
        }
      ],
      "source": [
        "test_params(n_estimators=30, max_depth=30)"
      ]
    },
    {
      "cell_type": "code",
      "execution_count": null,
      "metadata": {
        "colab": {
          "base_uri": "https://localhost:8080/"
        },
        "id": "IPRPn8DRnfZY",
        "outputId": "180bf52a-355e-47c3-87b6-176960b976d8"
      },
      "outputs": [
        {
          "output_type": "execute_result",
          "data": {
            "text/plain": [
              "(0.999984555848259, 0.9935796879860739)"
            ]
          },
          "metadata": {},
          "execution_count": 99
        }
      ],
      "source": [
        "test_params(n_estimators=30, max_depth=40)"
      ]
    },
    {
      "cell_type": "code",
      "execution_count": null,
      "metadata": {
        "colab": {
          "base_uri": "https://localhost:8080/"
        },
        "id": "pAzvOaYJllIY",
        "outputId": "e0f92836-f643-4f43-e9a9-fa637bd41402"
      },
      "outputs": [
        {
          "output_type": "execute_result",
          "data": {
            "text/plain": [
              "(0.847705219682027, 0.8482886889987623)"
            ]
          },
          "metadata": {},
          "execution_count": 100
        }
      ],
      "source": [
        "test_params(n_estimators=30, max_depth=5, min_samples_leaf=10)"
      ]
    },
    {
      "cell_type": "code",
      "execution_count": null,
      "metadata": {
        "colab": {
          "base_uri": "https://localhost:8080/"
        },
        "id": "MM60Ym1clsWv",
        "outputId": "c56e2681-f106-4afb-d1aa-54d53776ec9a"
      },
      "outputs": [
        {
          "output_type": "execute_result",
          "data": {
            "text/plain": [
              "(0.8505270868358463, 0.8507972438990489)"
            ]
          },
          "metadata": {},
          "execution_count": 101
        }
      ],
      "source": [
        "test_params(n_estimators=30, max_depth=5, min_samples_leaf=5)"
      ]
    },
    {
      "cell_type": "code",
      "execution_count": null,
      "metadata": {
        "colab": {
          "base_uri": "https://localhost:8080/"
        },
        "id": "6y4WxdEiluWN",
        "outputId": "bfc8f4e7-bb14-4bcf-8ab8-4393069f1aab"
      },
      "outputs": [
        {
          "output_type": "execute_result",
          "data": {
            "text/plain": [
              "(0.8505425309875874, 0.8508171005341435)"
            ]
          },
          "metadata": {},
          "execution_count": 102
        }
      ],
      "source": [
        "test_params(n_estimators=30, max_depth=5, min_samples_leaf=1)"
      ]
    },
    {
      "cell_type": "code",
      "execution_count": null,
      "metadata": {
        "colab": {
          "base_uri": "https://localhost:8080/"
        },
        "id": "sNXyYrykspaK",
        "outputId": "a63c7a41-67d8-4b09-ac55-c9d154fcf7ef"
      },
      "outputs": [
        {
          "output_type": "execute_result",
          "data": {
            "text/plain": [
              "(0.5787364918829951, 0.5789863849672034)"
            ]
          },
          "metadata": {},
          "execution_count": 103
        }
      ],
      "source": [
        "test_params(n_estimators=30, max_depth=5, min_samples_leaf=0.5)"
      ]
    },
    {
      "cell_type": "code",
      "execution_count": null,
      "metadata": {
        "colab": {
          "base_uri": "https://localhost:8080/"
        },
        "id": "svYw0dmOs0xs",
        "outputId": "483cf366-bfe0-42ad-de38-a6b2a6cfe46e"
      },
      "outputs": [
        {
          "output_type": "execute_result",
          "data": {
            "text/plain": [
              "(1.0, 0.9937120655533713)"
            ]
          },
          "metadata": {},
          "execution_count": 104
        }
      ],
      "source": [
        "test_params(n_estimators=100, max_depth=40, min_samples_leaf=1)"
      ]
    },
    {
      "cell_type": "code",
      "execution_count": null,
      "metadata": {
        "colab": {
          "base_uri": "https://localhost:8080/"
        },
        "id": "h1Mq0Qy-tkCu",
        "outputId": "e6028a9e-f0c1-4b19-934c-52be3b8db442"
      },
      "outputs": [
        {
          "output_type": "execute_result",
          "data": {
            "text/plain": [
              "(0.9995565322142942, 0.9915344545713284)"
            ]
          },
          "metadata": {},
          "execution_count": 105
        }
      ],
      "source": [
        "test_params(n_estimators=100, max_depth=30, min_samples_leaf=1)"
      ]
    },
    {
      "cell_type": "code",
      "execution_count": null,
      "metadata": {
        "id": "BIWLKLswmP2L"
      },
      "outputs": [],
      "source": [
        "rf2 = RandomForestClassifier(n_jobs=1,random_state=42,n_estimators=100, max_depth=40, min_samples_leaf=1)"
      ]
    },
    {
      "cell_type": "code",
      "execution_count": null,
      "metadata": {
        "colab": {
          "base_uri": "https://localhost:8080/"
        },
        "id": "MrATKQbWmPtV",
        "outputId": "34bf7f4e-9f5c-4ba9-ad80-089a27504a1b"
      },
      "outputs": [
        {
          "output_type": "stream",
          "name": "stdout",
          "text": [
            "CPU times: user 2min 57s, sys: 664 ms, total: 2min 58s\n",
            "Wall time: 2min 57s\n"
          ]
        },
        {
          "output_type": "execute_result",
          "data": {
            "text/plain": [
              "RandomForestClassifier(max_depth=40, n_jobs=1, random_state=42)"
            ]
          },
          "metadata": {},
          "execution_count": 107
        }
      ],
      "source": [
        "%%time\n",
        "rf2.fit(train_inputs,train_targets)"
      ]
    },
    {
      "cell_type": "code",
      "execution_count": null,
      "metadata": {
        "id": "MKjXo5tjmPkx"
      },
      "outputs": [],
      "source": [
        "rf2_train_score=rf2.score(train_inputs,train_targets)"
      ]
    },
    {
      "cell_type": "code",
      "execution_count": null,
      "metadata": {
        "id": "NJZm-Sc6mPWs"
      },
      "outputs": [],
      "source": [
        "rf2_val_score=rf2.score(val_inputs,val_targets)"
      ]
    },
    {
      "cell_type": "code",
      "execution_count": null,
      "metadata": {
        "colab": {
          "base_uri": "https://localhost:8080/"
        },
        "id": "J0MOded1mlkz",
        "outputId": "b7fb6ce0-0df1-43be-a1ec-24aa07474205"
      },
      "outputs": [
        {
          "output_type": "stream",
          "name": "stdout",
          "text": [
            "Train Loss: 0.0, Validation Loss: 0.0062879344466286735\n"
          ]
        }
      ],
      "source": [
        "print('Train Loss: {}, Validation Loss: {}'.format(1-rf2_train_score, 1-rf2_val_score))"
      ]
    },
    {
      "cell_type": "markdown",
      "metadata": {
        "id": "iyA6OU-j_pq7"
      },
      "source": [
        "### Gradient Bossting Machine"
      ]
    },
    {
      "cell_type": "code",
      "execution_count": null,
      "metadata": {
        "id": "LmGuTGGBBWLG"
      },
      "outputs": [],
      "source": [
        "from xgboost import XGBClassifier"
      ]
    },
    {
      "cell_type": "code",
      "execution_count": null,
      "metadata": {
        "id": "Syu3pVhzBZXu"
      },
      "outputs": [],
      "source": [
        "xgb1 = XGBClassifier(random_state=42, n_jobs=-1)"
      ]
    },
    {
      "cell_type": "code",
      "execution_count": null,
      "metadata": {
        "colab": {
          "base_uri": "https://localhost:8080/"
        },
        "id": "3MJcA_5zB5S_",
        "outputId": "f1f763a9-04e9-4185-de11-64b94423c35e"
      },
      "outputs": [
        {
          "output_type": "stream",
          "name": "stdout",
          "text": [
            "CPU times: user 1min 29s, sys: 192 ms, total: 1min 29s\n",
            "Wall time: 47.2 s\n"
          ]
        },
        {
          "output_type": "execute_result",
          "data": {
            "text/plain": [
              "XGBClassifier(n_jobs=-1, random_state=42)"
            ]
          },
          "metadata": {},
          "execution_count": 113
        }
      ],
      "source": [
        "%%time\n",
        "xgb1.fit(train_inputs, train_targets)"
      ]
    },
    {
      "cell_type": "code",
      "execution_count": null,
      "metadata": {
        "id": "kvJ1ZhhHCfLr"
      },
      "outputs": [],
      "source": [
        "xgb1_train_score=xgb1.score(train_inputs,train_targets)"
      ]
    },
    {
      "cell_type": "code",
      "execution_count": null,
      "metadata": {
        "id": "w6B_FvVTDfgV"
      },
      "outputs": [],
      "source": [
        "xgb1_val_score=xgb1.score(val_inputs,val_targets)"
      ]
    },
    {
      "cell_type": "code",
      "execution_count": null,
      "metadata": {
        "colab": {
          "base_uri": "https://localhost:8080/"
        },
        "id": "Gq-SMavYDjlK",
        "outputId": "eee3b49b-0a0c-4a3c-89a5-b4823b10545f"
      },
      "outputs": [
        {
          "output_type": "stream",
          "name": "stdout",
          "text": [
            "Train Loss: 0.11147588726651747, Validation Loss: 0.1113692473673411\n"
          ]
        }
      ],
      "source": [
        "print('Train Loss: {}, Validation Loss: {}'.format(1-xgb1_train_score, 1-xgb1_val_score))"
      ]
    },
    {
      "cell_type": "markdown",
      "metadata": {
        "id": "ejmq-q6ekhjc"
      },
      "source": [
        "#### Hyperparameter Tuning"
      ]
    },
    {
      "cell_type": "code",
      "execution_count": null,
      "metadata": {
        "id": "7329YypAkkVT"
      },
      "outputs": [],
      "source": [
        "def test_params(**params):\n",
        "    model1 = XGBClassifier(random_state=42, n_jobs=-1, **params).fit(train_inputs, train_targets)\n",
        "    return model1.score(train_inputs, train_targets), model1.score(val_inputs,val_targets)"
      ]
    },
    {
      "cell_type": "code",
      "execution_count": null,
      "metadata": {
        "colab": {
          "base_uri": "https://localhost:8080/"
        },
        "id": "XPJ2JVaM1Lyy",
        "outputId": "e0e3c49b-a430-48eb-cd45-18b4f4aee1a9"
      },
      "outputs": [
        {
          "output_type": "execute_result",
          "data": {
            "text/plain": [
              "(0.8885241127334825, 0.8886307526326589)"
            ]
          },
          "metadata": {},
          "execution_count": 118
        }
      ],
      "source": [
        "test_params(n_estimators=100)"
      ]
    },
    {
      "cell_type": "code",
      "execution_count": null,
      "metadata": {
        "colab": {
          "base_uri": "https://localhost:8080/"
        },
        "id": "Rm1p9Zf21Xrv",
        "outputId": "46c3f1e5-979a-4f2a-8eda-d10b04c30ff1"
      },
      "outputs": [
        {
          "output_type": "execute_result",
          "data": {
            "text/plain": [
              "(0.8698587522007917, 0.8697735681711377)"
            ]
          },
          "metadata": {},
          "execution_count": 119
        }
      ],
      "source": [
        "test_params(n_estimators=50)"
      ]
    },
    {
      "cell_type": "code",
      "execution_count": null,
      "metadata": {
        "colab": {
          "base_uri": "https://localhost:8080/"
        },
        "id": "CJp_VM-c1Yui",
        "outputId": "10eee065-bf80-406e-8e95-012ab66d57c1"
      },
      "outputs": [
        {
          "output_type": "execute_result",
          "data": {
            "text/plain": [
              "(0.903683650820967, 0.9029540054142425)"
            ]
          },
          "metadata": {},
          "execution_count": 120
        }
      ],
      "source": [
        "test_params(n_estimators=200)"
      ]
    },
    {
      "cell_type": "code",
      "execution_count": null,
      "metadata": {
        "colab": {
          "base_uri": "https://localhost:8080/"
        },
        "id": "1CwMq3YF_UD3",
        "outputId": "d80d2389-50d8-480c-e176-be11a75cca5c"
      },
      "outputs": [
        {
          "output_type": "execute_result",
          "data": {
            "text/plain": [
              "(0.9106092497231084, 0.9101553450752236)"
            ]
          },
          "metadata": {},
          "execution_count": 121
        }
      ],
      "source": [
        "test_params(n_estimators=300)"
      ]
    },
    {
      "cell_type": "code",
      "execution_count": null,
      "metadata": {
        "colab": {
          "base_uri": "https://localhost:8080/"
        },
        "id": "ONNNtxyx3_FN",
        "outputId": "8e95ad78-ad15-4bcd-efab-b632121e3762"
      },
      "outputs": [
        {
          "output_type": "execute_result",
          "data": {
            "text/plain": [
              "(0.9493167066008305, 0.9472210639185084)"
            ]
          },
          "metadata": {},
          "execution_count": 122
        }
      ],
      "source": [
        "test_params(n_estimators=30, max_depth=10)"
      ]
    },
    {
      "cell_type": "code",
      "execution_count": null,
      "metadata": {
        "colab": {
          "base_uri": "https://localhost:8080/"
        },
        "id": "GZ2rilG_3--w",
        "outputId": "c09f5469-8cf4-4e45-d277-e9e2f69ec179"
      },
      "outputs": [
        {
          "output_type": "execute_result",
          "data": {
            "text/plain": [
              "(0.9894075182130675, 0.9820363641177366)"
            ]
          },
          "metadata": {},
          "execution_count": 123
        }
      ],
      "source": [
        "test_params(n_estimators=30, max_depth=20)"
      ]
    },
    {
      "cell_type": "code",
      "execution_count": null,
      "metadata": {
        "colab": {
          "base_uri": "https://localhost:8080/"
        },
        "id": "W1S1lsa43-nE",
        "outputId": "5a4a3bd9-058c-4e84-8a9f-68f4cb061cd6"
      },
      "outputs": [
        {
          "output_type": "execute_result",
          "data": {
            "text/plain": [
              "(0.8874297842672633, 0.8877372040534011)"
            ]
          },
          "metadata": {},
          "execution_count": 124
        }
      ],
      "source": [
        "test_params(n_estimators=30, max_depth=5)"
      ]
    },
    {
      "cell_type": "code",
      "execution_count": null,
      "metadata": {
        "colab": {
          "base_uri": "https://localhost:8080/"
        },
        "id": "ghwzS2vIBa-s",
        "outputId": "5010c0db-b16c-482d-f616-e83ca76936cb"
      },
      "outputs": [
        {
          "output_type": "execute_result",
          "data": {
            "text/plain": [
              "(0.9987071038685393, 0.9898135461964616)"
            ]
          },
          "metadata": {},
          "execution_count": 125
        }
      ],
      "source": [
        "test_params(n_estimators=30, max_depth=30)"
      ]
    },
    {
      "cell_type": "code",
      "execution_count": null,
      "metadata": {
        "colab": {
          "base_uri": "https://localhost:8080/"
        },
        "id": "8wUXFbZlAIX_",
        "outputId": "a6af6b23-f00d-4a76-dcf6-4af342043a07"
      },
      "outputs": [
        {
          "output_type": "execute_result",
          "data": {
            "text/plain": [
              "(0.8874297842672633, 0.8877372040534011)"
            ]
          },
          "metadata": {},
          "execution_count": 126
        }
      ],
      "source": [
        "test_params(n_estimators=30, max_depth=5, min_samples_leaf=10)"
      ]
    },
    {
      "cell_type": "code",
      "execution_count": null,
      "metadata": {
        "colab": {
          "base_uri": "https://localhost:8080/"
        },
        "id": "5W7LdrDBAH_w",
        "outputId": "c6e9c6ab-ba19-49ae-8b89-719c97824a3e"
      },
      "outputs": [
        {
          "output_type": "execute_result",
          "data": {
            "text/plain": [
              "(0.8874297842672633, 0.8877372040534011)"
            ]
          },
          "metadata": {},
          "execution_count": 127
        }
      ],
      "source": [
        "test_params(n_estimators=30, max_depth=5, min_samples_leaf=5)"
      ]
    },
    {
      "cell_type": "code",
      "execution_count": null,
      "metadata": {
        "colab": {
          "base_uri": "https://localhost:8080/"
        },
        "id": "-XYW2-FqAXzM",
        "outputId": "9b8e3e0e-18b8-4493-9e64-a89e0935ee12"
      },
      "outputs": [
        {
          "output_type": "execute_result",
          "data": {
            "text/plain": [
              "(1.0, 0.9954263550498732)"
            ]
          },
          "metadata": {},
          "execution_count": 128
        }
      ],
      "source": [
        "test_params(n_estimators=200, max_depth=30)"
      ]
    },
    {
      "cell_type": "code",
      "execution_count": null,
      "metadata": {
        "id": "JC05UmGoB1My"
      },
      "outputs": [],
      "source": [
        "xgb2 = XGBClassifier(random_state=42, n_jobs=-1,n_estimators=200, max_depth=30)"
      ]
    },
    {
      "cell_type": "code",
      "execution_count": null,
      "metadata": {
        "id": "F5rQZtnHB1A0",
        "colab": {
          "base_uri": "https://localhost:8080/"
        },
        "outputId": "5c2d3949-d00f-4c4a-e570-b7493e493668"
      },
      "outputs": [
        {
          "output_type": "stream",
          "name": "stdout",
          "text": [
            "CPU times: user 38min 35s, sys: 2.97 s, total: 38min 38s\n",
            "Wall time: 20min 6s\n"
          ]
        },
        {
          "output_type": "execute_result",
          "data": {
            "text/plain": [
              "XGBClassifier(max_depth=30, n_estimators=200, n_jobs=-1, random_state=42)"
            ]
          },
          "metadata": {},
          "execution_count": 130
        }
      ],
      "source": [
        "%%time\n",
        "xgb2.fit(train_inputs, train_targets)"
      ]
    },
    {
      "cell_type": "code",
      "execution_count": null,
      "metadata": {
        "id": "xvTKlnsNB05B"
      },
      "outputs": [],
      "source": [
        "xgb2_train_score=xgb2.score(train_inputs,train_targets)"
      ]
    },
    {
      "cell_type": "code",
      "execution_count": null,
      "metadata": {
        "id": "LI-Yell9B0gq"
      },
      "outputs": [],
      "source": [
        "xgb2_val_score=xgb2.score(val_inputs,val_targets)"
      ]
    },
    {
      "cell_type": "code",
      "execution_count": null,
      "metadata": {
        "id": "U3ymLqBBCPit",
        "colab": {
          "base_uri": "https://localhost:8080/"
        },
        "outputId": "99b6bbfd-52a7-4f2e-c8c7-2c552d24401f"
      },
      "outputs": [
        {
          "output_type": "stream",
          "name": "stdout",
          "text": [
            "Train Loss: 0.0, Validation Loss: 0.004573644950126798\n"
          ]
        }
      ],
      "source": [
        "print('Train Loss: {}, Validation Loss: {}'.format(1-xgb2_train_score, 1-xgb2_val_score))"
      ]
    },
    {
      "cell_type": "code",
      "execution_count": null,
      "metadata": {
        "colab": {
          "base_uri": "https://localhost:8080/",
          "height": 87
        },
        "id": "aXseJmd2jjee",
        "outputId": "257fbaaa-322c-4c3d-9910-2656e3805597"
      },
      "outputs": [
        {
          "output_type": "stream",
          "name": "stdout",
          "text": [
            "[jovian] Detected Colab notebook...\u001b[0m\n",
            "[jovian] Uploading colab notebook to Jovian...\u001b[0m\n",
            "Committed successfully! https://jovian.ai/debg48/driver-alert\n"
          ]
        },
        {
          "output_type": "execute_result",
          "data": {
            "text/plain": [
              "'https://jovian.ai/debg48/driver-alert'"
            ],
            "application/vnd.google.colaboratory.intrinsic+json": {
              "type": "string"
            }
          },
          "metadata": {},
          "execution_count": 134
        }
      ],
      "source": [
        "jovian.commit()"
      ]
    },
    {
      "cell_type": "markdown",
      "metadata": {
        "id": "5OnjZgm3DzD7"
      },
      "source": [
        "## Training the Final Model "
      ]
    },
    {
      "cell_type": "markdown",
      "metadata": {
        "id": "cdbDI4bmD567"
      },
      "source": [
        "As the loss of GBM was least we will pick up Random Forest as our final model"
      ]
    },
    {
      "cell_type": "code",
      "execution_count": null,
      "metadata": {
        "id": "3uYUNbOtDmgF"
      },
      "outputs": [],
      "source": [
        "model = XGBClassifier(random_state=42, n_jobs=-1,n_estimators=200, max_depth=30)"
      ]
    },
    {
      "cell_type": "code",
      "execution_count": null,
      "metadata": {
        "colab": {
          "base_uri": "https://localhost:8080/"
        },
        "id": "tqAZBBIFEP4j",
        "outputId": "9a141eec-7687-4228-c9b3-6185a8dda84f"
      },
      "outputs": [
        {
          "output_type": "stream",
          "name": "stdout",
          "text": [
            "CPU times: user 37min 46s, sys: 2.94 s, total: 37min 48s\n",
            "Wall time: 19min 29s\n"
          ]
        },
        {
          "output_type": "execute_result",
          "data": {
            "text/plain": [
              "XGBClassifier(max_depth=30, n_estimators=200, n_jobs=-1, random_state=42)"
            ]
          },
          "metadata": {},
          "execution_count": 136
        }
      ],
      "source": [
        "%%time\n",
        "model.fit(train_inputs,train_targets)"
      ]
    },
    {
      "cell_type": "code",
      "execution_count": null,
      "metadata": {
        "id": "_awu-lnYEUXs"
      },
      "outputs": [],
      "source": [
        "train_predicts = model.predict(train_inputs)"
      ]
    },
    {
      "cell_type": "code",
      "execution_count": null,
      "metadata": {
        "colab": {
          "base_uri": "https://localhost:8080/"
        },
        "id": "oGWiseJ5EaNX",
        "outputId": "2f111fdf-4ddc-4863-a764-54269bf88e2a"
      },
      "outputs": [
        {
          "output_type": "execute_result",
          "data": {
            "text/plain": [
              "1.0"
            ]
          },
          "metadata": {},
          "execution_count": 138
        }
      ],
      "source": [
        "model.score(train_inputs,train_targets)"
      ]
    },
    {
      "cell_type": "markdown",
      "metadata": {
        "id": "8vX4wygxEeuP"
      },
      "source": [
        "## Saving the Model"
      ]
    },
    {
      "cell_type": "code",
      "execution_count": null,
      "metadata": {
        "id": "d84-hPkiEeO2"
      },
      "outputs": [],
      "source": [
        "import joblib"
      ]
    },
    {
      "cell_type": "code",
      "execution_count": null,
      "metadata": {
        "id": "CqrbhLl3EqKM"
      },
      "outputs": [],
      "source": [
        "driver_rf = {\n",
        "    'model': model,\n",
        "    'imputer': imputer,\n",
        "    'scaler': scaler,\n",
        "    'input_cols': input_cols,\n",
        "    'target_col': target_col,\n",
        "}"
      ]
    },
    {
      "cell_type": "code",
      "execution_count": null,
      "metadata": {
        "colab": {
          "base_uri": "https://localhost:8080/"
        },
        "id": "WQWAtwmOEyJG",
        "outputId": "1b37fa42-057d-4886-be09-1c8adb04a17f"
      },
      "outputs": [
        {
          "output_type": "execute_result",
          "data": {
            "text/plain": [
              "['driver_rf.joblib']"
            ]
          },
          "metadata": {},
          "execution_count": 141
        }
      ],
      "source": [
        "joblib.dump(driver_rf, 'driver_rf.joblib')"
      ]
    },
    {
      "cell_type": "code",
      "execution_count": null,
      "metadata": {
        "colab": {
          "base_uri": "https://localhost:8080/",
          "height": 105
        },
        "id": "h-PM7eKFE2Ne",
        "outputId": "34dad50c-47dd-4f7f-c199-c28aecc6df74"
      },
      "outputs": [
        {
          "output_type": "stream",
          "name": "stdout",
          "text": [
            "[jovian] Detected Colab notebook...\u001b[0m\n",
            "[jovian] Uploading colab notebook to Jovian...\u001b[0m\n",
            "[jovian] Uploading additional outputs...\u001b[0m\n",
            "Committed successfully! https://jovian.ai/debg48/driver-alert\n"
          ]
        },
        {
          "output_type": "execute_result",
          "data": {
            "text/plain": [
              "'https://jovian.ai/debg48/driver-alert'"
            ],
            "application/vnd.google.colaboratory.intrinsic+json": {
              "type": "string"
            }
          },
          "metadata": {},
          "execution_count": 142
        }
      ],
      "source": [
        "jovian.commit(outputs='driver_rf.joblib')"
      ]
    },
    {
      "cell_type": "markdown",
      "metadata": {
        "id": "RIbWC2cDFFF7"
      },
      "source": [
        "## Conclusion and Reference"
      ]
    },
    {
      "cell_type": "markdown",
      "metadata": {
        "id": "UrH2WCQ6FKBT"
      },
      "source": [
        "The model was trained using Random Forest Classifer \n",
        "\n",
        "Summary :\n",
        "\n",
        "* The dataset was taken from Kaggle\n",
        "* Data Cleaning and Processing steps were performed\n",
        "* Different Model were trained and their RMSE was checked\n",
        "* The final model was trained and saved\n",
        "<br>\n",
        "<br>\n",
        "\n",
        "References :\n",
        "\n",
        "* https://www.kaggle.com/\n",
        "* https://online.stat.psu.edu/stat508/lesson/analysis-wine-quality-data\n",
        "<br>\n",
        "<br>\n",
        "\n",
        "Future Work :\n",
        "\n",
        "* We can train different Deep Learning Models and check the accuracy"
      ]
    },
    {
      "cell_type": "code",
      "execution_count": null,
      "metadata": {
        "colab": {
          "base_uri": "https://localhost:8080/",
          "height": 87
        },
        "id": "H2EerUGIE-9B",
        "outputId": "96a5aa01-bd8c-4080-93aa-20370c701bd9"
      },
      "outputs": [
        {
          "output_type": "stream",
          "name": "stdout",
          "text": [
            "[jovian] Detected Colab notebook...\u001b[0m\n",
            "[jovian] Uploading colab notebook to Jovian...\u001b[0m\n",
            "Committed successfully! https://jovian.ai/debg48/driver-alert\n"
          ]
        },
        {
          "output_type": "execute_result",
          "data": {
            "text/plain": [
              "'https://jovian.ai/debg48/driver-alert'"
            ],
            "application/vnd.google.colaboratory.intrinsic+json": {
              "type": "string"
            }
          },
          "metadata": {},
          "execution_count": 143
        }
      ],
      "source": [
        "jovian.commit()"
      ]
    },
    {
      "cell_type": "code",
      "execution_count": null,
      "metadata": {
        "id": "NNoKUQA_HmYn"
      },
      "outputs": [],
      "source": [
        ""
      ]
    }
  ],
  "metadata": {
    "colab": {
      "collapsed_sections": [],
      "name": "driver-alert.ipynb",
      "provenance": [],
      "include_colab_link": true
    },
    "gpuClass": "standard",
    "kernelspec": {
      "display_name": "Python 3",
      "language": "python",
      "name": "python3"
    },
    "language_info": {
      "codemirror_mode": {
        "name": "ipython",
        "version": 3
      },
      "file_extension": ".py",
      "mimetype": "text/x-python",
      "name": "python",
      "nbconvert_exporter": "python",
      "pygments_lexer": "ipython3",
      "version": "3.7.6"
    }
  },
  "nbformat": 4,
  "nbformat_minor": 0
}